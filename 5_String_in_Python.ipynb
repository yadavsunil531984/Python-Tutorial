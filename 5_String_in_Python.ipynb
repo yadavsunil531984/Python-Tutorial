{
  "nbformat": 4,
  "nbformat_minor": 0,
  "metadata": {
    "colab": {
      "name": "5. String in Python.ipynb",
      "provenance": [],
      "collapsed_sections": [],
      "authorship_tag": "ABX9TyODLrcWqAf3fvVTFF0U4hdm",
      "include_colab_link": true
    },
    "kernelspec": {
      "name": "python3",
      "display_name": "Python 3"
    },
    "language_info": {
      "name": "python"
    }
  },
  "cells": [
    {
      "cell_type": "markdown",
      "metadata": {
        "id": "view-in-github",
        "colab_type": "text"
      },
      "source": [
        "<a href=\"https://colab.research.google.com/github/yadavsunil531984/Python-Tutorial/blob/main/5_String_in_Python.ipynb\" target=\"_parent\"><img src=\"https://colab.research.google.com/assets/colab-badge.svg\" alt=\"Open In Colab\"/></a>"
      ]
    },
    {
      "cell_type": "markdown",
      "metadata": {
        "id": "k6IYnSD1TcL9"
      },
      "source": [
        "# **Python Strings**"
      ]
    },
    {
      "cell_type": "markdown",
      "metadata": {
        "id": "c2SJu8P_PvIR"
      },
      "source": [
        "## **Basics in String**"
      ]
    },
    {
      "cell_type": "markdown",
      "metadata": {
        "id": "3yhnoVZNThim"
      },
      "source": [
        "**Strings**\n",
        "* Strings in python are surrounded by either single quotation marks, or double quotation marks.\n",
        "* 'hello' is the same as \"hello\".\n",
        "* You can display a string literal with the print() function"
      ]
    },
    {
      "cell_type": "code",
      "metadata": {
        "id": "4gz7gLgLT_kO",
        "colab": {
          "base_uri": "https://localhost:8080/"
        },
        "outputId": "e535e6d4-374e-4e71-fd7c-29446bc68f17"
      },
      "source": [
        "print(\"Hello\")\n",
        "print('Hello')"
      ],
      "execution_count": null,
      "outputs": [
        {
          "output_type": "stream",
          "name": "stdout",
          "text": [
            "Hello\n",
            "Hello\n"
          ]
        }
      ]
    },
    {
      "cell_type": "markdown",
      "metadata": {
        "id": "2CGzKM-jUG4R"
      },
      "source": [
        "**Assign String to a Variable**\n",
        "* Assigning a string to a variable is done with the variable name followed by an equal sign and the string:"
      ]
    },
    {
      "cell_type": "code",
      "metadata": {
        "id": "rtkHnJlWUGR9",
        "colab": {
          "base_uri": "https://localhost:8080/"
        },
        "outputId": "eaca216c-73c3-4d56-a335-b328dbdd5dd2"
      },
      "source": [
        "x = \"Sun\"\n",
        "print(x)"
      ],
      "execution_count": null,
      "outputs": [
        {
          "output_type": "stream",
          "name": "stdout",
          "text": [
            "Sun\n"
          ]
        }
      ]
    },
    {
      "cell_type": "markdown",
      "metadata": {
        "id": "JGS9h1d2UcaB"
      },
      "source": [
        "**Multiline Strings**\n",
        "* You can assign a multiline string to a variable by using three quotes:"
      ]
    },
    {
      "cell_type": "code",
      "metadata": {
        "id": "PwT3fK1dUZYA",
        "colab": {
          "base_uri": "https://localhost:8080/"
        },
        "outputId": "4b667889-8b4a-4802-c582-49c2a51f5516"
      },
      "source": [
        "x = \"\"\"India is my country and all Indians are my brothers and sisters. I love my country and I am proud of its rich and varied heritage.\"\"\"\n",
        "print(x)"
      ],
      "execution_count": null,
      "outputs": [
        {
          "output_type": "stream",
          "name": "stdout",
          "text": [
            "India is my country and all Indians are my brothers and sisters. I love my country and I am proud of its rich and varied heritage.\n"
          ]
        }
      ]
    },
    {
      "cell_type": "code",
      "metadata": {
        "id": "3nK6Oy4EU38W",
        "colab": {
          "base_uri": "https://localhost:8080/"
        },
        "outputId": "5bb93edb-f435-4fbe-a322-11e4271ba505"
      },
      "source": [
        "x = '''India is my country and all Indians are my brothers and sisters. I love my country and I am proud of its rich and varied heritage.'''\n",
        "print(x)"
      ],
      "execution_count": null,
      "outputs": [
        {
          "output_type": "stream",
          "name": "stdout",
          "text": [
            "India is my country and all Indians are my brothers and sisters. I love my country and I am proud of its rich and varied heritage.\n"
          ]
        }
      ]
    },
    {
      "cell_type": "markdown",
      "metadata": {
        "id": "15Ui2arxVQCq"
      },
      "source": [
        "**Strings are Arrays**\n",
        "* Like many other popular programming languages, strings in Python are arrays of bytes representing unicode characters.\n",
        "* However, Python does not have a character data type, a single character is simply a string with a length of 1.\n",
        "* Square brackets can be used to access elements of the string."
      ]
    },
    {
      "cell_type": "code",
      "metadata": {
        "id": "iVlQcb7WVYAa",
        "colab": {
          "base_uri": "https://localhost:8080/"
        },
        "outputId": "24d5f019-1696-4697-fe30-f20e5fbb22a3"
      },
      "source": [
        "# Get the character at position 1 (remember that the first character has the position 0):\n",
        "a = \"INDIA\"\n",
        "print(a[1])\n",
        "print(a[0])"
      ],
      "execution_count": null,
      "outputs": [
        {
          "output_type": "stream",
          "name": "stdout",
          "text": [
            "N\n",
            "I\n"
          ]
        }
      ]
    },
    {
      "cell_type": "markdown",
      "metadata": {
        "id": "CLoWdGrZV4Dp"
      },
      "source": [
        "**Looping Through a String**\n",
        "* Since strings are arrays, we can loop through the characters in a string, with a for loop."
      ]
    },
    {
      "cell_type": "code",
      "metadata": {
        "id": "gB5znlZZVmil",
        "colab": {
          "base_uri": "https://localhost:8080/"
        },
        "outputId": "edaa4387-458c-4880-d61c-9ed8e88f7880"
      },
      "source": [
        "# Loop through the letters in the word \"INDIA\":\n",
        "for x in \"INDIA\":\n",
        "  print(x)"
      ],
      "execution_count": null,
      "outputs": [
        {
          "output_type": "stream",
          "name": "stdout",
          "text": [
            "I\n",
            "N\n",
            "D\n",
            "I\n",
            "A\n"
          ]
        }
      ]
    },
    {
      "cell_type": "markdown",
      "metadata": {
        "id": "I5bK6q9tWRj2"
      },
      "source": [
        "**String Length**\n",
        "* To get the length of a string, use the len() function."
      ]
    },
    {
      "cell_type": "code",
      "metadata": {
        "id": "vvFWHIApWXS0",
        "colab": {
          "base_uri": "https://localhost:8080/"
        },
        "outputId": "cd44802f-1f6f-4f1a-c9b6-47983909b2f6"
      },
      "source": [
        "x = \"INDIA\"\n",
        "print(len(x))"
      ],
      "execution_count": null,
      "outputs": [
        {
          "output_type": "stream",
          "name": "stdout",
          "text": [
            "5\n"
          ]
        }
      ]
    },
    {
      "cell_type": "markdown",
      "metadata": {
        "id": "DDPBOUrvWk7T"
      },
      "source": [
        "## **Check String**\n",
        "* To check if a certain phrase or character is present in a string, we can use the keyword in."
      ]
    },
    {
      "cell_type": "code",
      "metadata": {
        "id": "5l7ggEadWkEb",
        "colab": {
          "base_uri": "https://localhost:8080/"
        },
        "outputId": "67f5c727-f917-4adb-a224-222f8ee27eed"
      },
      "source": [
        "# Check if \"India\" is present in the following text:\n",
        "txt = \"India is my country\"\n",
        "print(\"India\" in txt)"
      ],
      "execution_count": null,
      "outputs": [
        {
          "output_type": "stream",
          "name": "stdout",
          "text": [
            "True\n"
          ]
        }
      ]
    },
    {
      "cell_type": "code",
      "metadata": {
        "colab": {
          "base_uri": "https://localhost:8080/"
        },
        "id": "cHOMCOi8XR1d",
        "outputId": "c04f62cd-0df8-49ae-d85c-d4489d0c639e"
      },
      "source": [
        "# Check if \"India\" is present in the following text:\n",
        "txt = \"India is my country\"\n",
        "print(\"brothers\" in txt)"
      ],
      "execution_count": null,
      "outputs": [
        {
          "output_type": "stream",
          "name": "stdout",
          "text": [
            "False\n"
          ]
        }
      ]
    },
    {
      "cell_type": "markdown",
      "metadata": {
        "id": "l-U6COsaXmOC"
      },
      "source": [
        "**Use it in an if statement:**"
      ]
    },
    {
      "cell_type": "code",
      "metadata": {
        "colab": {
          "base_uri": "https://localhost:8080/"
        },
        "id": "6U5tWArAXlSt",
        "outputId": "af698d36-2fbf-41f1-8792-20bb74b69101"
      },
      "source": [
        "txt = \"India is my country\"\n",
        "if \"my\" in txt:\n",
        "  print(\"Yes, 'my' is present.\")"
      ],
      "execution_count": null,
      "outputs": [
        {
          "output_type": "stream",
          "name": "stdout",
          "text": [
            "Yes, 'my' is present.\n"
          ]
        }
      ]
    },
    {
      "cell_type": "code",
      "metadata": {
        "id": "1jWwZRKzX8ES"
      },
      "source": [
        "txt = \"India is my country\"\n",
        "if \"brothers\" in txt:\n",
        "  print(\"Yes, 'my' is present.\")"
      ],
      "execution_count": null,
      "outputs": []
    },
    {
      "cell_type": "markdown",
      "metadata": {
        "id": "tw30TNk8YlHS"
      },
      "source": [
        "**Check if NOT**\n",
        "\n",
        "To check if a certain phrase or character is NOT present in a string, we can use the keyword not in."
      ]
    },
    {
      "cell_type": "code",
      "metadata": {
        "colab": {
          "base_uri": "https://localhost:8080/"
        },
        "id": "MNa1uZxJYniK",
        "outputId": "58974a35-72c2-40e7-a9d8-43f72bcd1f19"
      },
      "source": [
        "# Check if \"expensive\" is NOT present in the following text:\n",
        "txt = \"The best things in life are free!\"\n",
        "print(\"expensive\" not in txt)"
      ],
      "execution_count": null,
      "outputs": [
        {
          "output_type": "stream",
          "name": "stdout",
          "text": [
            "True\n"
          ]
        }
      ]
    },
    {
      "cell_type": "markdown",
      "metadata": {
        "id": "C1rPdyFMZHYx"
      },
      "source": [
        "Use it in an if statement:"
      ]
    },
    {
      "cell_type": "code",
      "metadata": {
        "colab": {
          "base_uri": "https://localhost:8080/"
        },
        "id": "g5oTbTJaZAwD",
        "outputId": "1127f0a5-61a7-4eb5-dd52-da6225a0b960"
      },
      "source": [
        "# print only if \"expensive\" is NOT present:\n",
        "txt = \"The best things in life are free!\"\n",
        "if \"expensive\" not in txt:\n",
        "  print(\"No, 'expensive' is NOT present.\")"
      ],
      "execution_count": null,
      "outputs": [
        {
          "output_type": "stream",
          "name": "stdout",
          "text": [
            "No, 'expensive' is NOT present.\n"
          ]
        }
      ]
    },
    {
      "cell_type": "markdown",
      "metadata": {
        "id": "fQy13l_5l6Yj"
      },
      "source": [
        "## **Python- String Indexing**"
      ]
    },
    {
      "cell_type": "markdown",
      "metadata": {
        "id": "FBDuYpsWmA-2"
      },
      "source": [
        "* Index in String always start from 0 to (n-1)\n",
        "* Any Charater in string can be access by give format. StrName[n] \n",
        "* Index of String can be negative which is shown in below example.\n",
        "![ImgM.png](data:image/png;base64,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)"
      ]
    },
    {
      "cell_type": "code",
      "metadata": {
        "colab": {
          "base_uri": "https://localhost:8080/"
        },
        "id": "eWnJL63am5_-",
        "outputId": "0f7e503d-46a8-404a-cf16-0a130fba6f88"
      },
      "source": [
        "x = \"MAHARASHTRA\"\n",
        "print(x[3])"
      ],
      "execution_count": 1,
      "outputs": [
        {
          "output_type": "stream",
          "name": "stdout",
          "text": [
            "A\n"
          ]
        }
      ]
    },
    {
      "cell_type": "code",
      "metadata": {
        "colab": {
          "base_uri": "https://localhost:8080/"
        },
        "id": "kOe_jiMGm_PH",
        "outputId": "f3fbe1b8-d980-4b72-9b27-4407ff21be28"
      },
      "source": [
        "x = \"MAHARASHTRA\"\n",
        "print(x[-8])"
      ],
      "execution_count": 2,
      "outputs": [
        {
          "output_type": "stream",
          "name": "stdout",
          "text": [
            "A\n"
          ]
        }
      ]
    },
    {
      "cell_type": "code",
      "metadata": {
        "colab": {
          "base_uri": "https://localhost:8080/"
        },
        "id": "PFdevCfpnEdj",
        "outputId": "f656f8c4-953d-4939-df5a-487e3c5597ef"
      },
      "source": [
        "x = \"MAHARASHTRA\"\n",
        "print(x[7])"
      ],
      "execution_count": 3,
      "outputs": [
        {
          "output_type": "stream",
          "name": "stdout",
          "text": [
            "H\n"
          ]
        }
      ]
    },
    {
      "cell_type": "code",
      "metadata": {
        "colab": {
          "base_uri": "https://localhost:8080/"
        },
        "id": "6kGLFxpynMe4",
        "outputId": "5c00885c-16ad-4e86-ba0b-f5975319b76a"
      },
      "source": [
        "x = \"MAHARASHTRA\"\n",
        "print(x[-4])"
      ],
      "execution_count": 4,
      "outputs": [
        {
          "output_type": "stream",
          "name": "stdout",
          "text": [
            "H\n"
          ]
        }
      ]
    },
    {
      "cell_type": "markdown",
      "metadata": {
        "id": "u0ZJjhA0nhWt"
      },
      "source": [
        "**String Multiplication**"
      ]
    },
    {
      "cell_type": "code",
      "metadata": {
        "colab": {
          "base_uri": "https://localhost:8080/"
        },
        "id": "T9z82NB5nlub",
        "outputId": "1591b4c7-467d-4c02-d79a-cc62b09c22c4"
      },
      "source": [
        "x = \"MAHARASHTRA\"\n",
        "print(3*x)"
      ],
      "execution_count": 5,
      "outputs": [
        {
          "output_type": "stream",
          "name": "stdout",
          "text": [
            "MAHARASHTRAMAHARASHTRAMAHARASHTRA\n"
          ]
        }
      ]
    },
    {
      "cell_type": "markdown",
      "metadata": {
        "id": "N_rLYmD6ZSnh"
      },
      "source": [
        "##**Python - String Slicing**"
      ]
    },
    {
      "cell_type": "markdown",
      "metadata": {
        "id": "3NJjL0irZbqt"
      },
      "source": [
        "**Slicing**\n",
        "* You can return a range of characters by using the slice syntax.\n",
        "* Specify the start index and the end index, separated by a colon, to return a part of the string.\n",
        "* **StrName[start:Stop:Stepsize]**\n",
        "* Bydefault start index is 0, end index is n and stepsize is 1. "
      ]
    },
    {
      "cell_type": "markdown",
      "metadata": {
        "id": "Q5hGoc0TbawO"
      },
      "source": [
        "![ImgM.png](data:image/png;base64,iVBORw0KGgoAAAANSUhEUgAAAtUAAACJCAIAAABsAlOZAAAAAXNSR0IArs4c6QAAAARnQU1BAACxjwv8YQUAAAAJcEhZcwAADsMAAA7DAcdvqGQAABmbSURBVHhe7Zsvry3HlcX9RYyfpYQk0vNHsCybGD3wQCLZCgmJZBbyZDCKZWAcKQGWAh+IAoYEDAgJC7EiDZ1PMGi4p/6s7q6zq7rv6VO7etc+WksLxPues++vq+vP6r4vH/xEURRFURR1rZg/KIqiKIq6WswfFEVRFEVdLeYPiqIoiqKuFvMHRVEURVFXi/mDoiiKoqirxfxBURRFUdTVYv6gKIqiKOpqMX9QFEVRFHW1mD8oiqIoirpazB8URVEURV0t5g+KoiiKoq7WXfnj3xRFURRFUeeFJFHp3vzxAUVRFEVR1EkhSVQ6kT/+72//4dH5+oNE3YtBT34jg578RgY9+Y0MevIbGfTO+ZEkKjF/zG7Qk9/IoCe/kUFPfiODnvxGBr1zfiSJSswfsxv05Dcy6MlvZNCT38igJ7+RQe+cH0miEvPH7AY9+Y0MevIbGfTkNzLoyW9k0DvnR5KoxPwxu0FPfiODnvxGBj35jQx68hsZ9M75kSQqMX/MbtCT38igJ7+RQU9+I4Oe/EYGvXN+JIlKzB+zG/TkNzLoyW9k0JPfyKAnv5FB75wfSaIS88fsBj35jQx68hsZ9OQ3MujJb2TQO+dHkqjE/DG7QU9+I4Oe/EYGPfmNDHryGxn0zvmRJCoxf8xu0JPfyKAnv5FBT34jg578Rga9c34kiUqX5Y+vv3uVSaCPv/q6+sziP372MT6V9OqzH8UHzhhNBt2/W9Sji3rUaK3FXwB/+a766bvX+NkHH373x+qnDxn9OP6bf/UlWlb65FfVh3uNzhz/husb8fqv8jO9RmOuX3h/8t9I7UagH9dv01etXySJSpflj/qe7a0QmVQ61xJ6jLl/P371Ibpn9UWlptFZi/+58oe/8Q++XfO1Gvelw2jK8b+1JN+kHEHQlesX9p8/uH7PODdGkqhkmD920lbj7k6bP5SjUtNorMX/VPnD4fgHv7R/6R6BaMnxL73N81rKl4CuXL/w8+cPrt/SuS+SRCWD/PHxqyVztdLWmsg+/uT1cpu7BgU9Rty/dSK+ev3lciPVX2Ghrxb/M+UPj+MfvHML/voJikGKj1DoyPEvXAz1zVGR6pqHR3D+NUGi/qCfaf0GF0FQcc6XRneu39oXrl8kiUoG+ePLr9b7Vy+S9WMffvfu4GMnjB4D7t8Wlb76uniRxf3rxujH8V+9ewuKjK63C6Ajx39z8dg34A/2wvhFXL9NP1H+4PptOjdFkqhkkT/ebetf3qd1Or767MftNs+ZP9arSHjH+0KH0VSL/3n2L5/jH7yHOuYS0JHjv7nIH3rzfM/4PVy/TT9T/uD6bTn3RJKoZJI/tuR1m7a2fSHmkm1EutYSeqjfvxUPf0UqNjXVhyr01OI/nmeO9i+n4x/cvgWjDkW05PgXLvafpNYfgrWMX8H12/Tz5A+u37ZzSySJSjb5o/rP5O2+plCy/eeM+aN8eSUquq+w0FKLv1g8h5p9//I6/sEv3QL5UrDPaMrxv/G2/xTSxF6N3ly/TTvPH01x/ZbOHZEkKlnlj+Jf6yxpa7v+XJk6f6yXU7AV81JxLaGjFv+T7F9uxz/46BaoDftqNOb4S5cPrIVUH/6C0Zbrt+lnyx9cv9K5IZJEJbP8Ub0qrD6wDUfXTUUP3fu3wt+8uR3yCgsNtfifY//yO/7BT7B/uR7/GzdSyNTPr8+xflczf7xkNHa+fpEkKtnlj6ISF/w2EZeXPxPnj/L/arUjtVdY6KfFXyyexoLf7sLU+5fj8Q+ub0G5o93sCApGW47/oW+vSP/9c5CoP+inWL+bnecPrt8XndshSVQyzB/FKLz67Lvlf28PH9tNnS1/bNdyIK3lhHZa/M+wf3ke/+DmLRi2EaMpx/8lF3//Vpv8wWjJ9dv0c+SPYK7fHeduSBKVLPNHec8WFctm2vzRwG5J6RUWumnxP8H+5Xr8g9u3oNgUVB+h0JPj/6K36+L7j83oN2j8i7mkdeAJozvX72qL9YskUck0f9R/fC3v3Kz5Y3tt07pD6k9RaKbF73//8j3+wTu3wMfz99OMvzgkipsy9fnhf/3e+HnyB9dv27kXkkQl2/xRXm3Uzb/82m5z10Cgh9r9a1/I5mJ2qvxDNvTS4ne/fzkf/+C9W1DUtR4+gtGQ47+6HOeW2tf1qNGU67fpJ8ofXL9N51ZIEpWM88ftXnD72nP70Uz5Y1swey9ptytVeZBCKy3+vcWTPf/+5X38g3dvQfk6UPnffwWJ+oN+rvGvpbLnlkZfrt+mN+Cd47Db6M71m220fpEkKl2fP8TC2P///Gy3eaL8cfzyKnv7jMYsRCet+ed8/3I//sEHt2DAdox2HP8bF5vsKr1n1tJozvXbtNImf2C05/pNtlq/SBKVLssfZs7XHyTqXgx68hsZ9OQ3MujJb2TQk9/IoHfOjyRRifljdoOe/EYGPfmNDHryGxn05Dcy6J3zI0lUYv6Y3aAnv5FBT34jg578RgY9+Y0Meuf8SBKVmD9mN+jJb2TQk9/IoCe/kUFPfiOD3jk/kkQl5o/ZDXryGxn05Dcy6MlvZNCT38igd86PJFGJ+WN2g578RgY9+Y0MevIbGfTkNzLonfMjSVRi/pjdoCe/kUFPfiODnvxGBj35jQx65/xIEpVO5A+KoiiKoqhTQpKoxPxBURRFUdQoIUlUYv6gKIqiKGqUkCQqncgf//Xf/+vR+fqDRN2LQU9+I4Oe/EYGPfmNDHryGxn0zvmRJCoxf8xu0JPfyKAnv5FBT34jg578Rga9c34kiUrMH7Mb9OQ3MujJb2TQk9/IoCe/kUHvnB9JohLzx+wGPfmNDHryGxn05Dcy6MlvZNA750eSqMT8MbtBT34jg578RgY9+Y0MevIbGfTO+ZEkKjF/zG7Qk9/IoCe/kUFPfiODnvxGBr1zfiSJSswfsxv05Dcy6MlvZNCT38igJ7+RQe+cH0miEvPH7AY9+Y0MevIbGfTkNzLoyW9k0DvnR5KoxPwxu0FPfiODnvxGBj35jQx68hsZ9M75kSQqMX/MbtCT38igJ7+RQU9+I4Oe/EYGvXN+JIlKxvnjL79/nfmgX/zhL9VnOo3OI+/ft2/SLxgAH5xaR4m6gv/0a7SGXv/279Vnuo3eV/B/8Pmfqs90G60Hr39MoaA378WPOo222vwbcCXdu4Cm48b/73/4GX4D9LPf/0t+psNoqsp/MPhZircAHceMf3Uhv/62+kyn0XgI/79++ws0z9KdOdlorcR/z1GleyjnHkgSlQzzx/vPM5qU8imIrmPWz81VeMofe4Ovv4TQ9yp+L+f3jcsgxfxxazQdMv7y/FikeQqipSr/M+SPKvatcjF/5CG9SvsUQFsF/nuOKv1DOX8fSaKSVf5YV355YevFz77+YfH87Sh/5MV/c9Stg+8h/zX4mzNKwblpkKjrOY/868/fpB3NVf7QPSqaTuxRot7tLXyIzP3tGyf7T20c6ppLILFHiXqfl93mZs/0s/+v4ankX46DGd+f3XVUDTmU85eRJCoZ5Q8MR7VOlvs6f37f8u+b9/jfjvJH08vgz//+ecdYKr748+QJzJhFzB+3TuxRot7rvS1I2+m3RIn6COO9iOoUSh2jRL3L2GqqI81JfsI4Vxv+cijMlZ/uParGHMrpq5Plj4N1or6EUrsoUe90upGYZ0c3tduJPUrUBxj5123+cMif13aaOZhFzB+3TuxRot7nIVOl6cQeJer6HnB4Byf2KFHvMo66+pzGu8C588fB5MEj0FTPz3ceVYMO5fTNufLH0eJXP8tjtyRRVzTzx4ETe5So69vR/gtjwPNuxfzRdGKPEvUuj5kqTSf2KFFX96BdKLFHiXqf2+f0iEtIvydK1Dt8sE/qb6GxXZKoP+b9ER51KMcvTpY/DkPibjR+0KlblKgretDKz07sUaKub3/nd2FMG+XwFJzbBol6vzFtlsAh/lPLsWeSqHcaj0S3GhFH0FqXX3uTOXD6RVGirm39J+/s1DVK1DuN2R4k5r/2TUk9o0S9wziqW0vVb/4YdSinLzJ/jFz/+zdVwYk9StTVjRNF+ypS0yhR7/ayC2wa8jiL3vr8eRVs8/wJ8kfS/OdHuWCrWeRk/IUHHd7BqW2UqCt4eWbYNGALRecR86fKGeuiYP5Ynb7I/DFy/e/fVAUn9ihRVzaGXf8IT22jRL3bdf6I8vL8l7eqcp/CLPJ5/gWvm7LuQkBPVf4NtS3NUxwtx44/dlT1l3/BqXGUqOtYRBDtyR+Mzsr87c1nFfPH6vRF5o+R699//nC7f23edgTdq0BTXf48yW8njPf8ET0gxaaGUaLe472otNanPT/a1t4zS6fOUaLebew5ebZsd8TP338L5qxIXj9XdDp1jhL1xwxm5o8g5o97nNijRF3Py0Yw4OEjOPcOEvURXnYEzY04NYwS9Q7nqCT3WcC7zh/HS/shp35Rot7jgwWr/lfI1C5K1PW8JG9P6xfzRJzTy98vZs+v+8a9mHb+M38E4yY1Q6L6WR67JYm6otWZSyf2KFFX8tjwEZzbB4n6GHs4//DvfI+ltgWjH8e/dN5PWwvW3/6Ds0H5tcHq1DxK1HuMnNHYc/SzVGoXJepDPOCf8Cf2KFF/zPvTe9ShHL84Wf54ef75ev/pNn8s4WMMeXb+DUGiPsbMH9Lod834T7//wuBsPM+5yx/7e6mOU/coUe/wsz1/rh5xECT2KFF/zAeEgw7l1HSy/LGb2b3sX7f2mT+uCB/B+ZcEifoQa//xLjg1jBJ1dWMWaR8kiT1K1EcYl+Bg/DH5qy3V2/PPkmUVA7dwah8l6h3GIDenunqcSu2iRF3fY+5Fahkl6o/56KgacyinnrPlj/XwK7eq5f7pbsG5ZZCoK9ph/li2gMHhIzj9mihR73HapOR6WA4/f/Mn21P+iFuVHH+cHKqHdzCaao//OluK02JZFH6efzDmI1dx+gVRot7jdfDFVFmn0Px/vxPk2+ajfS/QVokfnG3IIYdy/jaSRCWr/FFcmJTmw1MwumrzbxOupfnXD5q2Nfv+ezT4c6//A+Oi3OSPtnTDRzD66o//mjakZn5+vfXeWxxNp98QJep93h38qPmfH/bm/4AgiM4d/CeOqgGHcv4+kkQlu/wRLWfhiIWE1tr8zB93Gi3158+a1ldpYq9G7yHz/8ae8kd0Nf5jnsLRfMz4y1WsPfjB6DyAf4FXfmATTr8iStQV3NiF9K8FjbX511c1i4ZsPsFo38F/8qhSPpRzEySJSrb54wrn6w8SdS8GPfmNDHryGxn05Dcy6MlvZNA750eSqMT8MbtBT34jg578RgY9+Y0MevIbGfTO+ZEkKjF/zG7Qk9/IoCe/kUFPfiODnvxGBr1zfiSJSswfsxv05Dcy6MlvZNCT38igJ7+RQe+cH0miEvPH7AY9+Y0MevIbGfTkNzLoyW9k0DvnR5KoxPwxu0FPfiODnvxGBj35jQx68hsZ9M75kSQqMX/MbtCT38igJ7+RQU9+I4Oe/EYGvXN+JIlKJ/IHRVEURVHUKSFJVGL+oCiKoihqlJAkKjF/UBRFURQ1SkgSlU7kj3/+z396dL7+IFH3YtCT38igJ7+RQU9+I4Oe/EYGvXN+JIlKzB+zG/TkNzLoyW9k0JPfyKAnv5FB75wfSaIS88fsBj35jQx68hsZ9OQ3MujJb2TQO+dHkqjE/DG7QU9+I4Oe/EYGPfmNDHryGxn0zvmRJCoxf8xu0JPfyKAnv5FBT34jg578Rga9c34kiUrMH7Mb9OQ3MujJb2TQk9/IoCe/kUHvnB9JohLzx+wGPfmNDHryGxn05Dcy6MlvZNA750eSqMT8MbtBT34jg578RgY9+Y0MevIbGfTO+ZEkKjF/zG7Qk9/IoCe/kUFPfiODnvxGBr1zfiSJSswfsxv05Dcy6MlvZNCT38igJ7+RQe+cH0mikmX++P5tQvvlb95XPxK+/5O10zejRL3f91C9f/dR+tCi85eALw6ff3/+3S/xi7J+/u7P1WceMdqNXz+4HZs+/b76zANGs2H8FbbUFz/Ir5wyuowf/+h//Obn+G1Q/yxCo5H8B7egc/CD0eia8U/eLuftN+JHDxitRvP/8Cl+zaL+kc9Gu6v5P/rdP6rPPGT0u2r+3HOonXJqN13++OaLzBX0wqXe/8m28V0D/uIzNzo3NfGlkfNPhqRVGrMQrYaun+rYWzX/+fEs+UPm10W9KRBtRvI/Vf4oD0If+WNvn3TPr/IIh15XzJ/eo7bp3A9JopJF/hBR8eBS7//kvvHdq/nX7bhMG+sNPrEp4xvj5t96eJcXslyjh+fXZVRvbsQjQ9002lyx/m+N+9L7IJXYo0Rd1Vv4EBPm+7du8ofWA7dwYo8S9THO0/6jL96mJwoX53ee5zeozc3zQedGQaKu5gb/uvl44M/WOGqbzv2QJCpdnT+2R+233+B/71zq/Z88dmoRJeqP+V4q3M5q/i2H/f2bXfp4lKhree+F23Kl058fGNKK09P53TDuS/cRkrpEibqm92a7hlPnKFFX9NPkj7xmQwTE4vXx/qBpHOEu/n7X8LLPu+C/91B7yKnvXPkDR8Xxpd7/yWPHLyaJ+mO+k+rg8Dh7rqRPR4m6kvGo0Von2AJmf/+Pw6/OSXgWdJk/lMJTcGKPEnU9H0whBSf2KFFX9JPkjzxn0naErclx/lCbVIk9StQH2xO/1lHbdGKfJn+Uvv9SewYlfjFJ1Pu9T3U0+c5eS/xwkqgr+QBVZwnFFkmirud2TtJaSKl3lKgPtRZ8cGKPEnU160WlphN7lKgr+inyB1ZrvgrMH7/5w1P+btpT/iituPNkJ3bmj0v5D98c7D6vt50+HCXqSsY6aW1VXvLHciOClqtYKvcO8oFTnyhRH2mdN0/ZqVOUqKv55Hw+69Q8StQVjVeSt9KKI2g3eP5gwov57zR/YEYpHN7BuVWQqI+12/y0f6g96MTO/HEpv6P8sVxFtdrXTXn+/BG97FmblJYQul21/oOXO6JzoqdWUaKu5WIVLFl2lZPzr5k/krzk17zhbLS4KW7yRzVz9F6nod+F6zcYM0pjC0qNokR9kPcPtQed2Jk/LuX3lD9ai/9GPvJHsIggGptvMLpdtf7XyaPy8BecmkWJupaxCnbVe4SjzXXjH71dVPdGjD4j+fNpV04Y8DvOH1E+3v/VxkakE6FSqyhRH+Seo7bpxH5p/sAGWqo5k+6/1J5BiV9MEvV99/NPmD9euChcy6a4eOp97QGnblGiftLH/OtPI3ZxLfO8/7x3Up2dHi86dYsS9ZPe5d9G+3YhrHUP86dlpVMkNYkS9ZPe58+czcGfKH+cGv8tjvSncDS6jh+fnOz54V5+zJyHjtqm069i/riUHx3aE3TK/NEydoGXPvaC06+KEvWTPuDHj8SCX16qT39+3HjZeZVe3gSndlGiftK7/AdrU+UtdGoRJeon/cD8x1fmnv95wshJjpviNX9E4xJmeX92J//yMT/rV7jnqG06/apL88e9vv9SewYlfjFJ1Pu9T4VTpBmBz15L/HCSqA+30j+hSuxRoq5lHHKNBa9zlqcWUaI+xErP3KVTwyhRV3Pr+TtbZS+LHZJEfbyxZc+RP3aMRXqsrumEHhz/l60fPoJzyyBRH2SVNVs6sTN/XMv/4qF4/9u51ChK1EdbayIm9ihRV7Jm1Gs6dkgS9RHenzaPO3WMEnU14whsPKe6G/8bu8jfzB8vOfWIEnVtL+Gje8MUzl2DRH2Qtbb91Ymd+eNi/r0H2fObWuoTJepjvexrnYs/OLWJEnUlH73kUDnOU4soUde33piXTi2jRF3P2HmrCHg6ajedekeJ+mhjdc/y/v+cAa8RZBN7lKgP98m/U+85NYkSdVWPCh/BuXGQqA9yz1HbdGJn/riaf5mR5fpZH1bO7Av5G0GiruYfPhUnBK4rSGMWotUw/pVWXAXCh5/3twDWW/nZqWmUqCt6vQXFUC+5cPL3B8HxnJOQ6+TpDE/BaDR+/pTGHfGQP9JQy/HftqDuS0CfgeO/THXtlZudWkeJ+iBj5PWuJbFPkz+2idVSeVTc/8lj4wuX8++/Gj2X6PGlcfMPzxmVlKYgul2w/ptysH9l771F6HXqGiXqqt69BZ3hLxiNrp//SvcCvYbPnxtjm/KQP452VA/PPwfzJ2n6/K131DadmyBJVGL+OOeTVHJffmBHwzdHzr/1aW9R75opjZYj+aMbu0Dvm9tsNBvMv8wrHebSqW2UqKtbLg2Nwy8Y3cbyr28rF2k//wWJ+lDjXnjIH8nV+OttQeg3jp/549C5CZJEpavzx/XO1x8k6l4MevIbGfTkNzLoyW9k0JPfyKB3zo8kUYn5Y3aDnvxGBj35jQx68hsZ9OQ3Muid8yNJVGL+mN2gJ7+RQU9+I4Oe/EYGPfmNDHrn/EgSlZg/ZjfoyW9k0JPfyKAnv5FBT34jg945P5JEJeaP2Q168hsZ9OQ3MujJb2TQk9/IoHfOjyRRifljdoOe/EYGPfmNDHryGxn05Dcy6J3zI0lUYv6Y3aAnv5FBT34jg578RgY9+Y0Meuf8SBKVTuQPiqIoiqKoU0KSqMT8QVEURVHUKCFJVLorf1AURVEURSmK+YOiKIqiqKvF/EFRFEVR1NVi/qAoiqIo6moxf1AURVEUdbWYPyiKoiiKulrMHxRFURRFXS3mD4qiKIqirhbzB0VRFEVRV4v5g6IoiqKoq8X8QVEURVHU1WL+oCiKoijqajF/UBRFURR1rX766f8B4Su9D+EFmoQAAAAASUVORK5CYII=)"
      ]
    },
    {
      "cell_type": "code",
      "metadata": {
        "colab": {
          "base_uri": "https://localhost:8080/"
        },
        "id": "x_kWy2FuZWtS",
        "outputId": "dbaf563c-9554-4d86-c354-9b9b8bc5d8e7"
      },
      "source": [
        "# Get the characters from position 2 to position 5 (not included):\n",
        "x = \"MAHARASHTRA\"\n",
        "print(x[2:5])"
      ],
      "execution_count": null,
      "outputs": [
        {
          "output_type": "stream",
          "name": "stdout",
          "text": [
            "HAR\n"
          ]
        }
      ]
    },
    {
      "cell_type": "code",
      "metadata": {
        "colab": {
          "base_uri": "https://localhost:8080/"
        },
        "id": "ZYXpr1Flj45F",
        "outputId": "83dcbf4b-39ed-4937-aef4-ff8cdbdc145c"
      },
      "source": [
        "# Get the characters from position 2 to position 5 (not included):\n",
        "x = \"MAHARASHTRA\"\n",
        "print(x[3:9])"
      ],
      "execution_count": null,
      "outputs": [
        {
          "output_type": "stream",
          "name": "stdout",
          "text": [
            "ARASHT\n"
          ]
        }
      ]
    },
    {
      "cell_type": "code",
      "metadata": {
        "colab": {
          "base_uri": "https://localhost:8080/"
        },
        "id": "PvyVXGqkcUKV",
        "outputId": "bc747eab-220c-4dcd-a3fa-59f8e89be979"
      },
      "source": [
        "# Slice From the Start\n",
        "x = \"MAHARASHTRA\"\n",
        "print(x[:5])"
      ],
      "execution_count": null,
      "outputs": [
        {
          "output_type": "stream",
          "name": "stdout",
          "text": [
            "MAHAR\n"
          ]
        }
      ]
    },
    {
      "cell_type": "code",
      "metadata": {
        "colab": {
          "base_uri": "https://localhost:8080/"
        },
        "id": "Rce81hx6chWi",
        "outputId": "5c5584a8-dd07-4c98-8652-b2565df064f3"
      },
      "source": [
        "# Get the characters from position 2, and all the way to the end:\n",
        "x =  \"MAHARASHTRA\"\n",
        "print(x[2:])"
      ],
      "execution_count": null,
      "outputs": [
        {
          "output_type": "stream",
          "name": "stdout",
          "text": [
            "HARASHTRA\n"
          ]
        }
      ]
    },
    {
      "cell_type": "code",
      "metadata": {
        "colab": {
          "base_uri": "https://localhost:8080/"
        },
        "id": "5nhE5R3JCVYr",
        "outputId": "ff1ede9a-7f64-44a9-a28c-e7446bbb988b"
      },
      "source": [
        "# With Step size\n",
        "x =  \"MAHARASHTRA\"\n",
        "print(x[0:11:1])"
      ],
      "execution_count": null,
      "outputs": [
        {
          "output_type": "stream",
          "name": "stdout",
          "text": [
            "MAHARASHTRA\n"
          ]
        }
      ]
    },
    {
      "cell_type": "code",
      "metadata": {
        "colab": {
          "base_uri": "https://localhost:8080/"
        },
        "id": "j5OLIwGnC1K3",
        "outputId": "945992f7-b54d-4557-fe55-ba56a5b5286a"
      },
      "source": [
        "# With Step size\n",
        "x =  \"MAHARASHTRA\"\n",
        "print(x[0:11:2])"
      ],
      "execution_count": null,
      "outputs": [
        {
          "output_type": "stream",
          "name": "stdout",
          "text": [
            "MHRSTA\n"
          ]
        }
      ]
    },
    {
      "cell_type": "code",
      "metadata": {
        "colab": {
          "base_uri": "https://localhost:8080/"
        },
        "id": "28XqvSAvjksg",
        "outputId": "2e80efcd-7057-4b0b-dedc-64ded2bded0c"
      },
      "source": [
        "# With Step size\n",
        "x =  \"MAHARASHTRA\"\n",
        "print(x[2:8:2])"
      ],
      "execution_count": null,
      "outputs": [
        {
          "output_type": "stream",
          "name": "stdout",
          "text": [
            "HRS\n"
          ]
        }
      ]
    },
    {
      "cell_type": "code",
      "metadata": {
        "colab": {
          "base_uri": "https://localhost:8080/"
        },
        "id": "VgqVNBwZDeAV",
        "outputId": "0ffc3d32-dcf1-4985-d701-e95925687b61"
      },
      "source": [
        "# With Step size\n",
        "x =  \"MAHARASHTRA\"\n",
        "print(x[0:11:3])"
      ],
      "execution_count": null,
      "outputs": [
        {
          "output_type": "stream",
          "name": "stdout",
          "text": [
            "MASR\n"
          ]
        }
      ]
    },
    {
      "cell_type": "code",
      "metadata": {
        "colab": {
          "base_uri": "https://localhost:8080/"
        },
        "id": "rVNTA-Lnkmz8",
        "outputId": "80552a9c-6999-4023-a26b-a83f95944473"
      },
      "source": [
        "# With Step size\n",
        "x =  \"MAHARASHTRA\"\n",
        "print(x[1:10:3])"
      ],
      "execution_count": null,
      "outputs": [
        {
          "output_type": "stream",
          "name": "stdout",
          "text": [
            "ARH\n"
          ]
        }
      ]
    },
    {
      "cell_type": "markdown",
      "metadata": {
        "id": "mLkvMrUXdDv5"
      },
      "source": [
        "Use negative indexes to start the slice from the end of the string:"
      ]
    },
    {
      "cell_type": "code",
      "metadata": {
        "colab": {
          "base_uri": "https://localhost:8080/"
        },
        "id": "8ucSZA2ydEzo",
        "outputId": "e560d93e-1216-452c-ed19-c9ddd0113dc0"
      },
      "source": [
        "b = \"MAHARASHTRA\"\n",
        "print(b[-5:-2])"
      ],
      "execution_count": null,
      "outputs": [
        {
          "output_type": "stream",
          "name": "stdout",
          "text": [
            "SHT\n"
          ]
        }
      ]
    },
    {
      "cell_type": "code",
      "metadata": {
        "colab": {
          "base_uri": "https://localhost:8080/"
        },
        "id": "eGBl2iZLlWel",
        "outputId": "3873d09f-87d0-4114-ce47-4b61adda2bd1"
      },
      "source": [
        "# Print reverese String\n",
        "x =  \"MAHARASHTRA\"\n",
        "print(x[::-1])"
      ],
      "execution_count": null,
      "outputs": [
        {
          "output_type": "stream",
          "name": "stdout",
          "text": [
            "ARTHSARAHAM\n"
          ]
        }
      ]
    },
    {
      "cell_type": "markdown",
      "metadata": {
        "id": "UtWSt7VjdWGt"
      },
      "source": [
        "## **Python - Modify Strings**"
      ]
    },
    {
      "cell_type": "markdown",
      "metadata": {
        "id": "rq8T_Eu5dckg"
      },
      "source": [
        "Python has a set of built-in methods that you can use on strings."
      ]
    },
    {
      "cell_type": "markdown",
      "metadata": {
        "id": "1h7VjCM9eRhq"
      },
      "source": [
        "**Lower Case**"
      ]
    },
    {
      "cell_type": "code",
      "metadata": {
        "colab": {
          "base_uri": "https://localhost:8080/"
        },
        "id": "09CMyQxqdYq1",
        "outputId": "93dc649c-ff59-4cae-b67f-de1b5f8fd363"
      },
      "source": [
        "# The lower() method returns the string in upper case:\n",
        "x = \"MAHARASHTRA\"\n",
        "print(x.lower())"
      ],
      "execution_count": null,
      "outputs": [
        {
          "output_type": "stream",
          "name": "stdout",
          "text": [
            "maharashtra\n"
          ]
        }
      ]
    },
    {
      "cell_type": "markdown",
      "metadata": {
        "id": "PvBgl87KeMb7"
      },
      "source": [
        "**Upper Case**"
      ]
    },
    {
      "cell_type": "code",
      "metadata": {
        "colab": {
          "base_uri": "https://localhost:8080/"
        },
        "id": "56yJAf3sdzjc",
        "outputId": "746ff569-3e28-42f1-c7c5-ffdf8bd56824"
      },
      "source": [
        "# The upper() method returns the string in upper case:\n",
        "x = \"maharashtra\"\n",
        "print(x.upper())"
      ],
      "execution_count": null,
      "outputs": [
        {
          "output_type": "stream",
          "name": "stdout",
          "text": [
            "MAHARASHTRA\n"
          ]
        }
      ]
    },
    {
      "cell_type": "markdown",
      "metadata": {
        "id": "zpni1HspeEaf"
      },
      "source": [
        "**Remove Whitespace**\n",
        "* Whitespace is the space before and/or after the actual text, and very often you want to remove this space."
      ]
    },
    {
      "cell_type": "code",
      "metadata": {
        "colab": {
          "base_uri": "https://localhost:8080/"
        },
        "id": "boVjssupd_Gv",
        "outputId": "be95dfaf-cd21-4b40-dd7d-d6124eef7190"
      },
      "source": [
        "# The strip() method removes any whitespace from the beginning or the end:\n",
        "a = \" Maharashtra majha \"\n",
        "print(a.strip()) # returns \"Maharashtra majha\""
      ],
      "execution_count": null,
      "outputs": [
        {
          "output_type": "stream",
          "name": "stdout",
          "text": [
            "Maharashtra majha\n"
          ]
        }
      ]
    },
    {
      "cell_type": "markdown",
      "metadata": {
        "id": "cGwSoCp0eyh5"
      },
      "source": [
        "**Replace String**"
      ]
    },
    {
      "cell_type": "code",
      "metadata": {
        "colab": {
          "base_uri": "https://localhost:8080/"
        },
        "id": "zSS2aN-we2Gl",
        "outputId": "fdc43821-4eda-4dc6-80d4-a7009980f6e2"
      },
      "source": [
        "# The replace() method replaces a string with another string:\n",
        "a = \"Maharashtra majha\"\n",
        "print(a.replace(\"majha\", \"Mera\"))"
      ],
      "execution_count": null,
      "outputs": [
        {
          "output_type": "stream",
          "name": "stdout",
          "text": [
            "Maharashtra Mera\n"
          ]
        }
      ]
    },
    {
      "cell_type": "markdown",
      "metadata": {
        "id": "YL1-1UynfWDE"
      },
      "source": [
        "**Split String**\n",
        "* The split() method returns a list where the text between the specified separator becomes the list items."
      ]
    },
    {
      "cell_type": "code",
      "metadata": {
        "colab": {
          "base_uri": "https://localhost:8080/"
        },
        "id": "Dz8s6nrKfYWT",
        "outputId": "bb0c646e-6205-4e77-fda3-d8be656b9555"
      },
      "source": [
        "# The split() method splits the string into substrings if it finds instances of the separator:\n",
        "a = \"Maharashtra, Majha\"\n",
        "print(a.split(\",\")) # returns ['Maharashtra', 'Majha']"
      ],
      "execution_count": null,
      "outputs": [
        {
          "output_type": "stream",
          "name": "stdout",
          "text": [
            "['Maharashtra', ' Majha']\n"
          ]
        }
      ]
    },
    {
      "cell_type": "markdown",
      "metadata": {
        "id": "tOtOJG6bbhfU"
      },
      "source": [
        "## **Python - String Concatenation**"
      ]
    },
    {
      "cell_type": "markdown",
      "metadata": {
        "id": "bARFI6evb0BP"
      },
      "source": [
        "**String Concatenation**\n",
        "* To concatenate, or combine, two strings you can use the + operator."
      ]
    },
    {
      "cell_type": "code",
      "metadata": {
        "id": "blR7B4Eohor6",
        "colab": {
          "base_uri": "https://localhost:8080/"
        },
        "outputId": "7e1451f5-bc89-4597-d73b-8d604deac15e"
      },
      "source": [
        "# Merge variable a with variable b into variable c:\n",
        "x = \"Maharashtra\"\n",
        "y = \"Majha\"\n",
        "z = x + y\n",
        "print(z)"
      ],
      "execution_count": null,
      "outputs": [
        {
          "output_type": "stream",
          "name": "stdout",
          "text": [
            "MaharashtraMajha\n"
          ]
        }
      ]
    },
    {
      "cell_type": "code",
      "metadata": {
        "colab": {
          "base_uri": "https://localhost:8080/"
        },
        "id": "66FDjWcScZpt",
        "outputId": "678b3bf3-8d67-4bb1-faed-099ca2e2eb75"
      },
      "source": [
        "# To add a space between them, add a \" \":\n",
        "x = \"Maharashtra\"\n",
        "y = \"Majha\"\n",
        "z = x + \" \" + y\n",
        "print(z)"
      ],
      "execution_count": null,
      "outputs": [
        {
          "output_type": "stream",
          "name": "stdout",
          "text": [
            "Maharashtra Majha\n"
          ]
        }
      ]
    },
    {
      "cell_type": "markdown",
      "metadata": {
        "id": "68qPTNo4cv0j"
      },
      "source": [
        "## **Python - Format - Strings**"
      ]
    },
    {
      "cell_type": "markdown",
      "metadata": {
        "id": "NBcJvNjHc2cl"
      },
      "source": [
        "**String Format**\n",
        "* As we learned in the Python Variables chapter, we cannot combine strings and numbers like this:"
      ]
    },
    {
      "cell_type": "code",
      "metadata": {
        "colab": {
          "base_uri": "https://localhost:8080/",
          "height": 217
        },
        "id": "td5sDXLjG142",
        "outputId": "e03f21ba-6254-40ea-a76d-5771a175d9fb"
      },
      "source": [
        "age = 36\n",
        "name = \"SUNIL \" \n",
        "data = age + name\n",
        "print(data)"
      ],
      "execution_count": 6,
      "outputs": [
        {
          "output_type": "error",
          "ename": "TypeError",
          "evalue": "ignored",
          "traceback": [
            "\u001b[0;31m---------------------------------------------------------------------------\u001b[0m",
            "\u001b[0;31mTypeError\u001b[0m                                 Traceback (most recent call last)",
            "\u001b[0;32m<ipython-input-6-122ef78eaa0e>\u001b[0m in \u001b[0;36m<module>\u001b[0;34m()\u001b[0m\n\u001b[1;32m      1\u001b[0m \u001b[0mage\u001b[0m \u001b[0;34m=\u001b[0m \u001b[0;36m36\u001b[0m\u001b[0;34m\u001b[0m\u001b[0;34m\u001b[0m\u001b[0m\n\u001b[1;32m      2\u001b[0m \u001b[0mname\u001b[0m \u001b[0;34m=\u001b[0m \u001b[0;34m\"SUNIL \"\u001b[0m\u001b[0;34m\u001b[0m\u001b[0;34m\u001b[0m\u001b[0m\n\u001b[0;32m----> 3\u001b[0;31m \u001b[0mdata\u001b[0m \u001b[0;34m=\u001b[0m \u001b[0mage\u001b[0m \u001b[0;34m+\u001b[0m \u001b[0mname\u001b[0m\u001b[0;34m\u001b[0m\u001b[0;34m\u001b[0m\u001b[0m\n\u001b[0m\u001b[1;32m      4\u001b[0m \u001b[0mprint\u001b[0m\u001b[0;34m(\u001b[0m\u001b[0mdata\u001b[0m\u001b[0;34m)\u001b[0m\u001b[0;34m\u001b[0m\u001b[0;34m\u001b[0m\u001b[0m\n",
            "\u001b[0;31mTypeError\u001b[0m: unsupported operand type(s) for +: 'int' and 'str'"
          ]
        }
      ]
    },
    {
      "cell_type": "code",
      "metadata": {
        "colab": {
          "base_uri": "https://localhost:8080/"
        },
        "id": "3Y6YZ6njHRjx",
        "outputId": "bb7099da-1b1c-472f-8be8-f00df927773b"
      },
      "source": [
        "age = \"36\"\n",
        "name = \"SUNIL \" \n",
        "data = age + name\n",
        "print(data)"
      ],
      "execution_count": 7,
      "outputs": [
        {
          "output_type": "stream",
          "name": "stdout",
          "text": [
            "36SUNIL \n"
          ]
        }
      ]
    },
    {
      "cell_type": "code",
      "metadata": {
        "id": "ILWc7zC4cz_q",
        "colab": {
          "base_uri": "https://localhost:8080/",
          "height": 200
        },
        "outputId": "d9cb48ee-8a99-4e4f-a136-9dfb1c42f413"
      },
      "source": [
        "age = 36\n",
        "txt = \"My name is John, I am \" + age\n",
        "print(txt)"
      ],
      "execution_count": 8,
      "outputs": [
        {
          "output_type": "error",
          "ename": "TypeError",
          "evalue": "ignored",
          "traceback": [
            "\u001b[0;31m---------------------------------------------------------------------------\u001b[0m",
            "\u001b[0;31mTypeError\u001b[0m                                 Traceback (most recent call last)",
            "\u001b[0;32m<ipython-input-8-4d1b227cff41>\u001b[0m in \u001b[0;36m<module>\u001b[0;34m()\u001b[0m\n\u001b[1;32m      1\u001b[0m \u001b[0mage\u001b[0m \u001b[0;34m=\u001b[0m \u001b[0;36m36\u001b[0m\u001b[0;34m\u001b[0m\u001b[0;34m\u001b[0m\u001b[0m\n\u001b[0;32m----> 2\u001b[0;31m \u001b[0mtxt\u001b[0m \u001b[0;34m=\u001b[0m \u001b[0;34m\"My name is John, I am \"\u001b[0m \u001b[0;34m+\u001b[0m \u001b[0mage\u001b[0m\u001b[0;34m\u001b[0m\u001b[0;34m\u001b[0m\u001b[0m\n\u001b[0m\u001b[1;32m      3\u001b[0m \u001b[0mprint\u001b[0m\u001b[0;34m(\u001b[0m\u001b[0mtxt\u001b[0m\u001b[0;34m)\u001b[0m\u001b[0;34m\u001b[0m\u001b[0;34m\u001b[0m\u001b[0m\n",
            "\u001b[0;31mTypeError\u001b[0m: can only concatenate str (not \"int\") to str"
          ]
        }
      ]
    },
    {
      "cell_type": "markdown",
      "metadata": {
        "id": "dkKiS3CidvIH"
      },
      "source": [
        "* But we can combine strings and numbers by using the format() method!\n",
        "* The format() method takes the passed arguments, formats them, and places them in the string where the placeholders {} are:\n",
        "* The format() method takes unlimited number of arguments, and are placed into the respective placeholders:\n",
        "* There are three String formating methods.\n",
        "  1. .format() Method.\n",
        "  2. f-string Method.\n",
        "  3. float Formating method."
      ]
    },
    {
      "cell_type": "markdown",
      "metadata": {
        "id": "tcTEUp7aMXPH"
      },
      "source": [
        "**1. String formating using .format() Method**"
      ]
    },
    {
      "cell_type": "code",
      "metadata": {
        "colab": {
          "base_uri": "https://localhost:8080/"
        },
        "id": "781zdziRhxLq",
        "outputId": "00b8b950-7991-4a34-83aa-2f16ee86767c"
      },
      "source": [
        "print(\"Your score is {} % Marks in mats\".format(95))"
      ],
      "execution_count": null,
      "outputs": [
        {
          "output_type": "stream",
          "name": "stdout",
          "text": [
            "Your score is 95 % Marks in mats\n"
          ]
        }
      ]
    },
    {
      "cell_type": "code",
      "metadata": {
        "colab": {
          "base_uri": "https://localhost:8080/"
        },
        "id": "pdctkdG8iLsd",
        "outputId": "05e1c517-a63c-448a-baf5-fe44413d116b"
      },
      "source": [
        "print(\"You score is {} % Marks in {} subject\".format(95,\"Maths\"))"
      ],
      "execution_count": null,
      "outputs": [
        {
          "output_type": "stream",
          "name": "stdout",
          "text": [
            "You score is 95 % Marks in Maths subject\n"
          ]
        }
      ]
    },
    {
      "cell_type": "code",
      "metadata": {
        "colab": {
          "base_uri": "https://localhost:8080/"
        },
        "id": "JKAberiCieSg",
        "outputId": "aae80a7d-3405-4da1-a4da-fc820e932009"
      },
      "source": [
        "print(\"You score is {} % Marks in {} and {} in {} subjects\".format(95,\"Maths\",96,\"Physics\"))"
      ],
      "execution_count": null,
      "outputs": [
        {
          "output_type": "stream",
          "name": "stdout",
          "text": [
            "You score is 95 % Marks in Maths and 96 in Physics subjects\n"
          ]
        }
      ]
    },
    {
      "cell_type": "code",
      "metadata": {
        "colab": {
          "base_uri": "https://localhost:8080/"
        },
        "id": "y7O2x8BOdzfH",
        "outputId": "5f66b775-eec6-421e-9c55-834e45f8d817"
      },
      "source": [
        "# Use the format() method to insert numbers into strings:\n",
        "age = 36\n",
        "txt = \"My name is John, and I am {}\"\n",
        "print(txt.format(age))"
      ],
      "execution_count": null,
      "outputs": [
        {
          "output_type": "stream",
          "name": "stdout",
          "text": [
            "My name is John, and I am 36\n"
          ]
        }
      ]
    },
    {
      "cell_type": "code",
      "metadata": {
        "colab": {
          "base_uri": "https://localhost:8080/"
        },
        "id": "8b-Cd6AEehMv",
        "outputId": "9885fc43-83b5-40bc-a9af-3a0d772eb72b"
      },
      "source": [
        "quantity = 3\n",
        "itemno = 567\n",
        "price = 49.95\n",
        "myorder = \"I want {} pieces of item {} for {} dollars.\"\n",
        "print(myorder.format(quantity, itemno, price))"
      ],
      "execution_count": null,
      "outputs": [
        {
          "output_type": "stream",
          "name": "stdout",
          "text": [
            "I want 3 pieces of item 567 for 49.95 dollars.\n"
          ]
        }
      ]
    },
    {
      "cell_type": "markdown",
      "metadata": {
        "id": "hdHML1cBe6Xv"
      },
      "source": [
        "You can use index numbers {0} to be sure the arguments are placed in the correct placeholders:"
      ]
    },
    {
      "cell_type": "code",
      "metadata": {
        "colab": {
          "base_uri": "https://localhost:8080/"
        },
        "id": "G1UrbOtXe8ip",
        "outputId": "2a842f3d-3df6-46ab-d38c-98a2e9f4615d"
      },
      "source": [
        "quantity = 3\n",
        "itemno = 567\n",
        "price = 49.95\n",
        "myorder = \"I want to pay {2} dollars for {0} pieces of item {1}.\"\n",
        "print(myorder.format(quantity, itemno, price))"
      ],
      "execution_count": null,
      "outputs": [
        {
          "output_type": "stream",
          "name": "stdout",
          "text": [
            "I want to pay 49.95 dollars for 3 pieces of item 567.\n"
          ]
        }
      ]
    },
    {
      "cell_type": "markdown",
      "metadata": {
        "id": "pVqBAu1KpZWg"
      },
      "source": [
        "**2. String formating using f- string method.**"
      ]
    },
    {
      "cell_type": "code",
      "metadata": {
        "colab": {
          "base_uri": "https://localhost:8080/"
        },
        "id": "EplQvKINpw1t",
        "outputId": "2a9ed7aa-8a8a-4126-bf98-e7b6c7d6f5fc"
      },
      "source": [
        "Subject = \"Physics\"\n",
        "score = 97 \n",
        "print(f\"Your {Subject} marks is {score} percent\")  "
      ],
      "execution_count": null,
      "outputs": [
        {
          "output_type": "stream",
          "name": "stdout",
          "text": [
            "Your Physics marks is 97 percent\n"
          ]
        }
      ]
    },
    {
      "cell_type": "markdown",
      "metadata": {
        "id": "k4z1uwxLqN-b"
      },
      "source": [
        "**3. Using Float Formating**"
      ]
    },
    {
      "cell_type": "code",
      "metadata": {
        "colab": {
          "base_uri": "https://localhost:8080/"
        },
        "id": "FwMJtH-cLZSe",
        "outputId": "2c9a9b00-fd13-4891-ffdf-625f04549e0f"
      },
      "source": [
        "pie = 22/7 \n",
        "print(\"Pi value is: \", pie)"
      ],
      "execution_count": null,
      "outputs": [
        {
          "output_type": "stream",
          "name": "stdout",
          "text": [
            "Pi value is:  3.142857142857143\n"
          ]
        }
      ]
    },
    {
      "cell_type": "code",
      "metadata": {
        "colab": {
          "base_uri": "https://localhost:8080/"
        },
        "id": "WyAysP_0MCJr",
        "outputId": "8e414134-8b51-4ad2-9c85-a3772eb302f0"
      },
      "source": [
        "pie = 22/7 \n",
        "print(\"Pi value is: {p:2.4f}\".format(p=pie))"
      ],
      "execution_count": 9,
      "outputs": [
        {
          "output_type": "stream",
          "name": "stdout",
          "text": [
            "Pi value is: 3.1429\n"
          ]
        }
      ]
    },
    {
      "cell_type": "code",
      "metadata": {
        "colab": {
          "base_uri": "https://localhost:8080/"
        },
        "id": "Mrd835q7qR2T",
        "outputId": "dafabe3f-6fc7-4101-b912-a04c28cf0a2c"
      },
      "source": [
        "pie = 22/7 \n",
        "print(\"Pi value is: {p:10.4f}\".format(p=pie))"
      ],
      "execution_count": null,
      "outputs": [
        {
          "output_type": "stream",
          "name": "stdout",
          "text": [
            "Pi value is:     3.1429\n"
          ]
        }
      ]
    },
    {
      "cell_type": "code",
      "metadata": {
        "colab": {
          "base_uri": "https://localhost:8080/",
          "height": 183
        },
        "id": "ltSS_om6jcok",
        "outputId": "b732d2a7-1d39-4cac-fd6a-53c6c7db9b0c"
      },
      "source": [
        "pie = 22/7 \n",
        "print(\"Pi value is: {pie:10.4f}\".format(pie))"
      ],
      "execution_count": 10,
      "outputs": [
        {
          "output_type": "error",
          "ename": "KeyError",
          "evalue": "ignored",
          "traceback": [
            "\u001b[0;31m---------------------------------------------------------------------------\u001b[0m",
            "\u001b[0;31mKeyError\u001b[0m                                  Traceback (most recent call last)",
            "\u001b[0;32m<ipython-input-10-107b89120fc5>\u001b[0m in \u001b[0;36m<module>\u001b[0;34m()\u001b[0m\n\u001b[1;32m      1\u001b[0m \u001b[0mpie\u001b[0m \u001b[0;34m=\u001b[0m \u001b[0;36m22\u001b[0m\u001b[0;34m/\u001b[0m\u001b[0;36m7\u001b[0m\u001b[0;34m\u001b[0m\u001b[0;34m\u001b[0m\u001b[0m\n\u001b[0;32m----> 2\u001b[0;31m \u001b[0mprint\u001b[0m\u001b[0;34m(\u001b[0m\u001b[0;34m\"Pi value is: {pie:10.4f}\"\u001b[0m\u001b[0;34m.\u001b[0m\u001b[0mformat\u001b[0m\u001b[0;34m(\u001b[0m\u001b[0mpie\u001b[0m\u001b[0;34m)\u001b[0m\u001b[0;34m)\u001b[0m\u001b[0;34m\u001b[0m\u001b[0;34m\u001b[0m\u001b[0m\n\u001b[0m",
            "\u001b[0;31mKeyError\u001b[0m: 'pie'"
          ]
        }
      ]
    },
    {
      "cell_type": "markdown",
      "metadata": {
        "id": "yxfYjCHm6rNR"
      },
      "source": [
        "##**Python - Escape Characters**"
      ]
    },
    {
      "cell_type": "markdown",
      "metadata": {
        "id": "pWWA91Rq6vw4"
      },
      "source": [
        "**Escape Character**\n",
        "* To insert characters that are illegal in a string, use an escape character.\n",
        "* An escape character is a backslash \\ followed by the character you want to insert.\n",
        "* An example of an illegal character is a double quote inside a string that is surrounded by double quotes:"
      ]
    },
    {
      "cell_type": "markdown",
      "metadata": {
        "id": "JAL9XQJJ7lho"
      },
      "source": [
        "To fix this problem, use the escape character \\\":"
      ]
    },
    {
      "cell_type": "markdown",
      "metadata": {
        "id": "1R3Z4i22A0-I"
      },
      "source": [
        "![image.png](data:image/png;base64,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)"
      ]
    },
    {
      "cell_type": "code",
      "metadata": {
        "colab": {
          "base_uri": "https://localhost:8080/",
          "height": 130
        },
        "id": "IuQ5qyNSM4p5",
        "outputId": "52ccbd0f-2a44-49d7-e196-dd2dc8cc321b"
      },
      "source": [
        "# Single quate code:\n",
        "txt = 'It's alright.'\n",
        "print(txt) "
      ],
      "execution_count": null,
      "outputs": [
        {
          "output_type": "error",
          "ename": "SyntaxError",
          "evalue": "ignored",
          "traceback": [
            "\u001b[0;36m  File \u001b[0;32m\"<ipython-input-62-4120eb4c4034>\"\u001b[0;36m, line \u001b[0;32m2\u001b[0m\n\u001b[0;31m    txt = 'It's alright.'\u001b[0m\n\u001b[0m              ^\u001b[0m\n\u001b[0;31mSyntaxError\u001b[0m\u001b[0;31m:\u001b[0m invalid syntax\n"
          ]
        }
      ]
    },
    {
      "cell_type": "code",
      "metadata": {
        "colab": {
          "base_uri": "https://localhost:8080/"
        },
        "id": "Euu5o8Yi8sO6",
        "outputId": "7123e2e3-6fdd-4ebb-a023-2a513c02c36f"
      },
      "source": [
        "# Single quate code: \\'\n",
        "txt = 'It\\'s alright.'\n",
        "print(txt) "
      ],
      "execution_count": null,
      "outputs": [
        {
          "output_type": "stream",
          "name": "stdout",
          "text": [
            "It's alright.\n"
          ]
        }
      ]
    },
    {
      "cell_type": "code",
      "metadata": {
        "colab": {
          "base_uri": "https://localhost:8080/"
        },
        "id": "yTYiUP808d92",
        "outputId": "0b241a07-ba88-4a7f-df51-39e05726de98"
      },
      "source": [
        "# Backslash code: \\\\\n",
        "txt = \"This will insert one \\\\ (backslash).\"\n",
        "print(txt) "
      ],
      "execution_count": null,
      "outputs": [
        {
          "output_type": "stream",
          "name": "stdout",
          "text": [
            "This will insert one \\ (backslash).\n"
          ]
        }
      ]
    },
    {
      "cell_type": "code",
      "metadata": {
        "colab": {
          "base_uri": "https://localhost:8080/"
        },
        "id": "v7s8noL7Ns2h",
        "outputId": "fded5fa1-4460-44fb-81a4-f5b1682f26b7"
      },
      "source": [
        "txt = \"Hello World!\"\n",
        "print(txt) "
      ],
      "execution_count": null,
      "outputs": [
        {
          "output_type": "stream",
          "name": "stdout",
          "text": [
            "Hello World!\n"
          ]
        }
      ]
    },
    {
      "cell_type": "code",
      "metadata": {
        "colab": {
          "base_uri": "https://localhost:8080/"
        },
        "id": "N8JIyifm9AwJ",
        "outputId": "ac9cc9bf-e19d-4304-9629-26588f69dd68"
      },
      "source": [
        "# Newline Code: \\n\n",
        "txt = \"Hello\\nWorld!\"\n",
        "print(txt) "
      ],
      "execution_count": null,
      "outputs": [
        {
          "output_type": "stream",
          "name": "stdout",
          "text": [
            "Hello\n",
            "World!\n"
          ]
        }
      ]
    },
    {
      "cell_type": "code",
      "metadata": {
        "colab": {
          "base_uri": "https://localhost:8080/"
        },
        "id": "6uYv-e-f9S31",
        "outputId": "d0b93e7b-55c1-497e-ed51-167f41e55d44"
      },
      "source": [
        "# Carriage Return Code: \\r\n",
        "txt = \"Hello\\rWorld!\"\n",
        "print(txt) "
      ],
      "execution_count": null,
      "outputs": [
        {
          "output_type": "stream",
          "name": "stdout",
          "text": [
            "Hello\rWorld!\n"
          ]
        }
      ]
    },
    {
      "cell_type": "code",
      "metadata": {
        "colab": {
          "base_uri": "https://localhost:8080/"
        },
        "id": "lmBT2KdD9k88",
        "outputId": "6d03dcc9-d251-45a7-e261-6fd12c07b5b4"
      },
      "source": [
        "# Tab Code: \\t\n",
        "txt = \"Hello\\tWorld!\"\n",
        "print(txt) "
      ],
      "execution_count": null,
      "outputs": [
        {
          "output_type": "stream",
          "name": "stdout",
          "text": [
            "Hello\tWorld!\n"
          ]
        }
      ]
    },
    {
      "cell_type": "code",
      "metadata": {
        "colab": {
          "base_uri": "https://localhost:8080/"
        },
        "id": "S2ubckDW9uWf",
        "outputId": "bb8cdb9e-7835-4e04-b588-ae34a0ba94df"
      },
      "source": [
        "# Back space Code: \\b \n",
        "#This example erases one character (backspace):\n",
        "txt = \"Hello \\bWorld!\"\n",
        "print(txt) "
      ],
      "execution_count": null,
      "outputs": [
        {
          "output_type": "stream",
          "name": "stdout",
          "text": [
            "Hello \bWorld!\n"
          ]
        }
      ]
    },
    {
      "cell_type": "code",
      "metadata": {
        "colab": {
          "base_uri": "https://localhost:8080/"
        },
        "id": "AzWHKiV8OiVD",
        "outputId": "b703697d-068c-43b8-b723-c954d020cc6a"
      },
      "source": [
        "# Back space Code: \\b \n",
        "#This example erases one character (backspace):\n",
        "txt = \"Hello\\bWorld!\"\n",
        "print(txt) "
      ],
      "execution_count": null,
      "outputs": [
        {
          "output_type": "stream",
          "name": "stdout",
          "text": [
            "Hello\bWorld!\n"
          ]
        }
      ]
    },
    {
      "cell_type": "code",
      "metadata": {
        "colab": {
          "base_uri": "https://localhost:8080/"
        },
        "id": "pQrbt7YG-DrF",
        "outputId": "4d9b8482-bac7-4446-8615-887393566084"
      },
      "source": [
        "# Octal value Code: \\ooo\n",
        "#A backslash followed by three integers will result in a octal value:\n",
        "txt = \"\\110\\145\\154\\154\\157\"\n",
        "print(txt) "
      ],
      "execution_count": null,
      "outputs": [
        {
          "output_type": "stream",
          "name": "stdout",
          "text": [
            "Hello\n"
          ]
        }
      ]
    },
    {
      "cell_type": "code",
      "metadata": {
        "colab": {
          "base_uri": "https://localhost:8080/"
        },
        "id": "NNlMScCs-Ds6",
        "outputId": "870a710c-f5ae-4368-d828-b24ef95904cf"
      },
      "source": [
        "# Hex value: \\xhh\n",
        "# A backslash followed by an 'x' and a hex number represents a hex value:\n",
        "txt = \"\\x48\\x65\\x6c\\x6c\\x6f\"\n",
        "print(txt) "
      ],
      "execution_count": null,
      "outputs": [
        {
          "output_type": "stream",
          "name": "stdout",
          "text": [
            "Hello\n"
          ]
        }
      ]
    },
    {
      "cell_type": "markdown",
      "metadata": {
        "id": "lgFjZFmNB7Sc"
      },
      "source": [
        "##**Python - String Methods**"
      ]
    },
    {
      "cell_type": "markdown",
      "metadata": {
        "id": "8dzefKD3B-gi"
      },
      "source": [
        "**String Methods**\n",
        "* Python has a set of built-in methods that you can use on strings.\n",
        "* All string methods returns new values. They do not change the original string."
      ]
    },
    {
      "cell_type": "markdown",
      "metadata": {
        "id": "hPESvDTzEL8_"
      },
      "source": [
        "![image.png](data:image/png;base64,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)"
      ]
    },
    {
      "cell_type": "markdown",
      "metadata": {
        "id": "uyuHW04IH4RX"
      },
      "source": [
        "**1. capitalize() Method**"
      ]
    },
    {
      "cell_type": "code",
      "metadata": {
        "id": "NIcgMgR3CO_b",
        "colab": {
          "base_uri": "https://localhost:8080/"
        },
        "outputId": "6140ff05-39c7-4e7e-bdb7-bb12a14e1bcd"
      },
      "source": [
        "# Upper case the first letter in this sentence:\n",
        "txt = \"hello, and welcome to my world.\"\n",
        "x = txt.capitalize()\n",
        "print (x)"
      ],
      "execution_count": 11,
      "outputs": [
        {
          "output_type": "stream",
          "name": "stdout",
          "text": [
            "Hello, and welcome to my world.\n"
          ]
        }
      ]
    },
    {
      "cell_type": "markdown",
      "metadata": {
        "id": "68Nz-bQkIBTd"
      },
      "source": [
        "**2. casefold() method**"
      ]
    },
    {
      "cell_type": "code",
      "metadata": {
        "id": "vyYbFA4wG-jk",
        "colab": {
          "base_uri": "https://localhost:8080/"
        },
        "outputId": "bd702686-3243-425c-9793-7998a6e3a57c"
      },
      "source": [
        "# Make the string lower case\n",
        "txt = \"Hello, And Welcome To My World!\"\n",
        "x = txt.casefold()\n",
        "print(x)"
      ],
      "execution_count": 12,
      "outputs": [
        {
          "output_type": "stream",
          "name": "stdout",
          "text": [
            "hello, and welcome to my world!\n"
          ]
        }
      ]
    },
    {
      "cell_type": "markdown",
      "metadata": {
        "id": "N2YoVzHgHvXS"
      },
      "source": [
        "**3. center() Method**"
      ]
    },
    {
      "cell_type": "code",
      "metadata": {
        "id": "eUdL23HcHS03",
        "colab": {
          "base_uri": "https://localhost:8080/"
        },
        "outputId": "04245203-0eb3-4bdc-9c5e-469f1f9b3d3c"
      },
      "source": [
        "# Print the word \"banana\", taking up the space of 20 characters, with \"banana\" in the middle:\n",
        "txt = \"banana\"\n",
        "x = txt.center(20)\n",
        "print(x)"
      ],
      "execution_count": 13,
      "outputs": [
        {
          "output_type": "stream",
          "name": "stdout",
          "text": [
            "       banana       \n"
          ]
        }
      ]
    },
    {
      "cell_type": "code",
      "metadata": {
        "id": "g85o2JpZHiuN",
        "colab": {
          "base_uri": "https://localhost:8080/"
        },
        "outputId": "d30fe520-a88b-450f-db5f-9cb852965a50"
      },
      "source": [
        "# Using the letter \"O\" as the padding character:\n",
        "txt = \"banana\"\n",
        "x = txt.center(20, \"O\")\n",
        "print(x)"
      ],
      "execution_count": 14,
      "outputs": [
        {
          "output_type": "stream",
          "name": "stdout",
          "text": [
            "OOOOOOObananaOOOOOOO\n"
          ]
        }
      ]
    },
    {
      "cell_type": "markdown",
      "metadata": {
        "id": "77_SKGwZIPft"
      },
      "source": [
        "**4. count() Method**"
      ]
    },
    {
      "cell_type": "code",
      "metadata": {
        "id": "YTteO66fIY7T",
        "colab": {
          "base_uri": "https://localhost:8080/"
        },
        "outputId": "df95e9d7-42b3-4763-ab17-e614b9fea23c"
      },
      "source": [
        "# Return the number of times the value \"apple\" appears in the string:\n",
        "txt = \"I love apples, apple are my favorite fruit\"\n",
        "x = txt.count(\"apple\")\n",
        "print(x)"
      ],
      "execution_count": 15,
      "outputs": [
        {
          "output_type": "stream",
          "name": "stdout",
          "text": [
            "2\n"
          ]
        }
      ]
    },
    {
      "cell_type": "code",
      "metadata": {
        "id": "EXOw_MHFItxQ",
        "colab": {
          "base_uri": "https://localhost:8080/"
        },
        "outputId": "e4e08fbe-1802-40d6-fc96-40e1d62a6b8e"
      },
      "source": [
        "# Search from position 10 to 24:\n",
        "txt = \"I love apples, apple are my favorite fruit\"\n",
        "x = txt.count(\"apple\", 10, 24)\n",
        "print(x)"
      ],
      "execution_count": 16,
      "outputs": [
        {
          "output_type": "stream",
          "name": "stdout",
          "text": [
            "1\n"
          ]
        }
      ]
    },
    {
      "cell_type": "markdown",
      "metadata": {
        "id": "ZBHvuXT3I88K"
      },
      "source": [
        "**5. encode() Method**"
      ]
    },
    {
      "cell_type": "code",
      "metadata": {
        "id": "m-l_PUzxJG0d",
        "colab": {
          "base_uri": "https://localhost:8080/"
        },
        "outputId": "11c3dcf9-a603-41cb-a709-3babb357a778"
      },
      "source": [
        "txt = \"My name is Ståle\"\n",
        "x = txt.encode()\n",
        "print(x)"
      ],
      "execution_count": 17,
      "outputs": [
        {
          "output_type": "stream",
          "name": "stdout",
          "text": [
            "b'My name is St\\xc3\\xa5le'\n"
          ]
        }
      ]
    },
    {
      "cell_type": "code",
      "metadata": {
        "id": "G5ohQZ_WJXRD"
      },
      "source": [
        "txt = \"My name is Ståle\"\n",
        "\n",
        "print(txt.encode(encoding=\"ascii\",errors=\"backslashreplace\"))\n",
        "print(txt.encode(encoding=\"ascii\",errors=\"ignore\"))\n",
        "print(txt.encode(encoding=\"ascii\",errors=\"namereplace\"))\n",
        "print(txt.encode(encoding=\"ascii\",errors=\"replace\"))\n",
        "print(txt.encode(encoding=\"ascii\",errors=\"xmlcharrefreplace\"))"
      ],
      "execution_count": null,
      "outputs": []
    },
    {
      "cell_type": "markdown",
      "metadata": {
        "id": "MTTREOObJpGm"
      },
      "source": [
        "**6. endswith() Method**"
      ]
    },
    {
      "cell_type": "code",
      "metadata": {
        "id": "O5zOZ_7jJssZ",
        "colab": {
          "base_uri": "https://localhost:8080/"
        },
        "outputId": "d0ac70bb-1bbf-4bcb-914d-e0b40234f794"
      },
      "source": [
        "# Check if the string ends with a punctuation sign (.):\n",
        "txt = \"Hello, welcome to my world.\"\n",
        "x = txt.endswith(\".\")\n",
        "print(x)"
      ],
      "execution_count": 18,
      "outputs": [
        {
          "output_type": "stream",
          "name": "stdout",
          "text": [
            "True\n"
          ]
        }
      ]
    },
    {
      "cell_type": "code",
      "metadata": {
        "colab": {
          "base_uri": "https://localhost:8080/"
        },
        "id": "LJ_eJ3KHnM86",
        "outputId": "22f5dd2a-1c45-44d1-9a9f-69a0958fe6ee"
      },
      "source": [
        "# Check if the string ends with a punctuation sign (.):\n",
        "txt = \"Hello, welcome to my world !\"\n",
        "x = txt.endswith(\".\")\n",
        "print(x)"
      ],
      "execution_count": 19,
      "outputs": [
        {
          "output_type": "stream",
          "name": "stdout",
          "text": [
            "False\n"
          ]
        }
      ]
    }
  ]
}