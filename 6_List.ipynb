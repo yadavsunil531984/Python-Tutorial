{
  "nbformat": 4,
  "nbformat_minor": 0,
  "metadata": {
    "colab": {
      "name": "6.List.ipynb",
      "provenance": [],
      "authorship_tag": "ABX9TyNSNdI+o5VZNTssA1QZinZz",
      "include_colab_link": true
    },
    "kernelspec": {
      "name": "python3",
      "display_name": "Python 3"
    },
    "language_info": {
      "name": "python"
    }
  },
  "cells": [
    {
      "cell_type": "markdown",
      "metadata": {
        "id": "view-in-github",
        "colab_type": "text"
      },
      "source": [
        "<a href=\"https://colab.research.google.com/github/yadavsunil531984/Python-Tutorial/blob/main/6_List.ipynb\" target=\"_parent\"><img src=\"https://colab.research.google.com/assets/colab-badge.svg\" alt=\"Open In Colab\"/></a>"
      ]
    },
    {
      "cell_type": "markdown",
      "metadata": {
        "id": "tkzVTZfMszBa"
      },
      "source": [
        "# **Python-List**"
      ]
    },
    {
      "cell_type": "markdown",
      "metadata": {
        "id": "lsdJq0mTs3lJ"
      },
      "source": [
        "## **List**"
      ]
    },
    {
      "cell_type": "markdown",
      "metadata": {
        "id": "9cNa7V7a56s1"
      },
      "source": [
        "* Lists are used to store multiple items in a single variable.\n",
        "* Lists are one of 4 built-in data types in Python used to store collections of data, the other 3 are Tuple, Set, and Dictionary, all with different qualities and usage.\n",
        "* Lists are created using square brackets:"
      ]
    },
    {
      "cell_type": "code",
      "metadata": {
        "colab": {
          "base_uri": "https://localhost:8080/"
        },
        "id": "vtSAx_1V6WXF",
        "outputId": "c0c21d48-f448-4150-9ad5-fa0c98d65f3c"
      },
      "source": [
        "# Create List of days\n",
        "Days = [\"Mon\", \"Tue\", \"Wed\",\"Thur\",\"Fri\"]\n",
        "print(Days)"
      ],
      "execution_count": 1,
      "outputs": [
        {
          "output_type": "stream",
          "name": "stdout",
          "text": [
            "['Mon', 'Tue', 'Wed', 'Thur', 'Fri']\n"
          ]
        }
      ]
    },
    {
      "cell_type": "code",
      "metadata": {
        "colab": {
          "base_uri": "https://localhost:8080/"
        },
        "id": "MiR306rC_GSL",
        "outputId": "10416fd4-e9cb-4897-8201-280338624b52"
      },
      "source": [
        "print(type(Days))"
      ],
      "execution_count": 2,
      "outputs": [
        {
          "output_type": "stream",
          "name": "stdout",
          "text": [
            "<class 'list'>\n"
          ]
        }
      ]
    },
    {
      "cell_type": "markdown",
      "metadata": {
        "id": "HnweGNon7Yhk"
      },
      "source": [
        "### **List Items**\n",
        "* List items are ordered, changeable, and allow duplicate values.\n",
        "* List items are indexed, the first item has index [0], the second item has index [1] etc."
      ]
    },
    {
      "cell_type": "markdown",
      "metadata": {
        "id": "eIBqzx--7rWt"
      },
      "source": [
        "### **Ordered**\n",
        "* When we say that lists are ordered, it means that the items have a defined order, and that order will not change.\n",
        "* If you add new items to a list, the new items will be placed at the end of the list.\n",
        "* There are some list methods that will change the order, but in general: the order of the items will not change."
      ]
    },
    {
      "cell_type": "markdown",
      "metadata": {
        "id": "N5o9CLLS73BA"
      },
      "source": [
        "### **Changeable**\n",
        "\n",
        "* The list is changeable, meaning that we can change, add, and remove items in a list after it has been created.\n",
        "\n"
      ]
    },
    {
      "cell_type": "markdown",
      "metadata": {
        "id": "iVp7T8rt8VV6"
      },
      "source": [
        "### **Allow Duplicates**\n",
        "* Since lists are indexed, lists can have items with the same value:"
      ]
    },
    {
      "cell_type": "code",
      "metadata": {
        "colab": {
          "base_uri": "https://localhost:8080/"
        },
        "id": "0PyHTQ7e89xx",
        "outputId": "0d57e227-1d81-4536-9d7e-9967463b5339"
      },
      "source": [
        "# Create List with duplicate values\n",
        "Days = [\"Mon\", \"Tue\", \"Wed\",\"Thur\",\"Fri\",\"Mon\"]\n",
        "print(Days)"
      ],
      "execution_count": 3,
      "outputs": [
        {
          "output_type": "stream",
          "name": "stdout",
          "text": [
            "['Mon', 'Tue', 'Wed', 'Thur', 'Fri', 'Mon']\n"
          ]
        }
      ]
    },
    {
      "cell_type": "markdown",
      "metadata": {
        "id": "P-FExEMm9QdG"
      },
      "source": [
        "### **List Length**\n",
        "* To determine how many items a list has, use the len() function:"
      ]
    },
    {
      "cell_type": "code",
      "metadata": {
        "colab": {
          "base_uri": "https://localhost:8080/"
        },
        "id": "nNZ8797a9XbG",
        "outputId": "1f03952b-986d-41a0-ab19-1fa0c3954428"
      },
      "source": [
        "# Create List with Count values\n",
        "Days = [\"Mon\", \"Tue\", \"Wed\",\"Thur\",\"Fri\"]\n",
        "print(Days)\n",
        "print(len(Days))"
      ],
      "execution_count": 4,
      "outputs": [
        {
          "output_type": "stream",
          "name": "stdout",
          "text": [
            "['Mon', 'Tue', 'Wed', 'Thur', 'Fri']\n",
            "5\n"
          ]
        }
      ]
    },
    {
      "cell_type": "markdown",
      "metadata": {
        "id": "Hz6w64Da9xQh"
      },
      "source": [
        "### **List Items - Data Types**\n",
        "* List items can be of any data type:"
      ]
    },
    {
      "cell_type": "code",
      "metadata": {
        "colab": {
          "base_uri": "https://localhost:8080/"
        },
        "id": "WzxTm08S93Xd",
        "outputId": "25319856-4bf0-44d5-a00e-0892a220792c"
      },
      "source": [
        "# List with String, int and boolean data types:\n",
        "Days_s = [\"Mon\", \"Tue\", \"Wed\",\"Thur\",\"Fri\"]\n",
        "Days_n = [1, 5, 7, 9, 3]\n",
        "Days_B = [True, False, False, True, True]\n",
        "print(Days_s)\n",
        "print(Days_n)\n",
        "print(Days_B)"
      ],
      "execution_count": 5,
      "outputs": [
        {
          "output_type": "stream",
          "name": "stdout",
          "text": [
            "['Mon', 'Tue', 'Wed', 'Thur', 'Fri']\n",
            "[1, 5, 7, 9, 3]\n",
            "[True, False, False, True, True]\n"
          ]
        }
      ]
    },
    {
      "cell_type": "code",
      "metadata": {
        "colab": {
          "base_uri": "https://localhost:8080/"
        },
        "id": "SSdiUQx1-qCm",
        "outputId": "13c35b86-2d98-4667-cd0d-50b390f30856"
      },
      "source": [
        "# A list can contain different data types:\n",
        "Days = [\"Mon\", 2, True, 4, \"Fri\"]\n",
        "print(Days)"
      ],
      "execution_count": 6,
      "outputs": [
        {
          "output_type": "stream",
          "name": "stdout",
          "text": [
            "['Mon', 2, True, 4, 'Fri']\n"
          ]
        }
      ]
    },
    {
      "cell_type": "markdown",
      "metadata": {
        "id": "39O_inmN_dgG"
      },
      "source": [
        "### **The list() Constructor**\n",
        "* It is also possible to use the list() constructor when creating a new list."
      ]
    },
    {
      "cell_type": "code",
      "metadata": {
        "colab": {
          "base_uri": "https://localhost:8080/"
        },
        "id": "iwwjS-1D_iaq",
        "outputId": "d8dcb8a0-09a6-4009-d8b6-5a07d50b8e5e"
      },
      "source": [
        "# Using the list() constructor to make a List:\n",
        "Days = list((\"Mon\", \"Tue\", \"Wed\")) # note the double round-brackets\n",
        "print(Days)"
      ],
      "execution_count": 8,
      "outputs": [
        {
          "output_type": "stream",
          "name": "stdout",
          "text": [
            "['Mon', 'Tue', 'Wed']\n"
          ]
        }
      ]
    },
    {
      "cell_type": "markdown",
      "metadata": {
        "id": "BzVwaDXoAt8E"
      },
      "source": [
        "## **Python Collections (Arrays)**"
      ]
    },
    {
      "cell_type": "markdown",
      "metadata": {
        "id": "U6in6Cj1Ax3Q"
      },
      "source": [
        "**There are four collection data types in the Python programming language:**\n",
        "\n",
        "* List is a collection which is ordered and changeable. Allows duplicate members.\n",
        "* Tuple is a collection which is ordered and unchangeable. Allows duplicate members.\n",
        "* Set is a collection which is unordered, unchangeable*, and unindexed. No duplicate members.\n",
        "* Dictionary is a collection which is ordered** and changeable. No duplicate members.\n",
        "*Set items are unchangeable, but you can remove and/or add items whenever you like.\n",
        "**As of Python version 3.7, dictionaries are ordered. In Python 3.6 and earlier, dictionaries are unordered."
      ]
    },
    {
      "cell_type": "markdown",
      "metadata": {
        "id": "UxvHmnP-BITm"
      },
      "source": [
        ""
      ]
    },
    {
      "cell_type": "markdown",
      "metadata": {
        "id": "DZ1z5POxBXLW"
      },
      "source": [
        "## **Python - Access List Items**"
      ]
    },
    {
      "cell_type": "markdown",
      "metadata": {
        "id": "z_wUAL6jBa2u"
      },
      "source": [
        "### **Access Items**\n",
        "* List items are indexed and you can access them by referring to the index number:\n",
        "\n",
        "![image.png](data:image/png;base64,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)"
      ]
    },
    {
      "cell_type": "code",
      "metadata": {
        "colab": {
          "base_uri": "https://localhost:8080/",
          "height": 35
        },
        "id": "GwYrL8CSA7lm",
        "outputId": "e666fc82-15d8-4d59-ca31-25705b0c3fb1"
      },
      "source": [
        "# Print the second item of the list:\n",
        "Months = [\"Jan\", \"Feb\", \"March\",\"April\",\"May\",\"June\",\"July\",\"Aug\",\"Sept\",\"Oct\",\"Nov\",\"Dec\"]\n",
        "Months[1]"
      ],
      "execution_count": 12,
      "outputs": [
        {
          "output_type": "execute_result",
          "data": {
            "application/vnd.google.colaboratory.intrinsic+json": {
              "type": "string"
            },
            "text/plain": [
              "'Feb'"
            ]
          },
          "metadata": {},
          "execution_count": 12
        }
      ]
    },
    {
      "cell_type": "code",
      "metadata": {
        "colab": {
          "base_uri": "https://localhost:8080/",
          "height": 35
        },
        "id": "oXRnkV8BDlZY",
        "outputId": "ee40e438-cbc9-4edd-8eab-ce68b52b9dad"
      },
      "source": [
        "# Print the fifth item of the list:\n",
        "Months = [\"Jan\", \"Feb\", \"March\",\"April\",\"May\",\"June\",\"July\",\"Aug\",\"Sept\",\"Oct\",\"Nov\",\"Dec\"]\n",
        "Months[4]"
      ],
      "execution_count": 14,
      "outputs": [
        {
          "output_type": "execute_result",
          "data": {
            "application/vnd.google.colaboratory.intrinsic+json": {
              "type": "string"
            },
            "text/plain": [
              "'May'"
            ]
          },
          "metadata": {},
          "execution_count": 14
        }
      ]
    },
    {
      "cell_type": "markdown",
      "metadata": {
        "id": "qipr9guuDMRV"
      },
      "source": [
        "### **Negative Indexing**\n",
        "* Negative indexing means start from the end"
      ]
    },
    {
      "cell_type": "code",
      "metadata": {
        "colab": {
          "base_uri": "https://localhost:8080/",
          "height": 35
        },
        "id": "Z3FrGiA6D3lD",
        "outputId": "2869f8ac-86bb-4d69-d952-8d47046e186f"
      },
      "source": [
        "# Print the last item of the list:\n",
        "Months = [\"Jan\", \"Feb\", \"March\",\"April\",\"May\",\"June\",\"July\",\"Aug\",\"Sept\",\"Oct\",\"Nov\",\"Dec\"]\n",
        "Months[-1]"
      ],
      "execution_count": 15,
      "outputs": [
        {
          "output_type": "execute_result",
          "data": {
            "application/vnd.google.colaboratory.intrinsic+json": {
              "type": "string"
            },
            "text/plain": [
              "'Dec'"
            ]
          },
          "metadata": {},
          "execution_count": 15
        }
      ]
    },
    {
      "cell_type": "code",
      "metadata": {
        "colab": {
          "base_uri": "https://localhost:8080/",
          "height": 35
        },
        "id": "xyOldnY4D-5Z",
        "outputId": "cdc826dc-c0c5-4d9f-fe59-df151cec5c0f"
      },
      "source": [
        "# Print the third last item of the list:\n",
        "Months = [\"Jan\", \"Feb\", \"March\",\"April\",\"May\",\"June\",\"July\",\"Aug\",\"Sept\",\"Oct\",\"Nov\",\"Dec\"]\n",
        "Months[-3]"
      ],
      "execution_count": 16,
      "outputs": [
        {
          "output_type": "execute_result",
          "data": {
            "application/vnd.google.colaboratory.intrinsic+json": {
              "type": "string"
            },
            "text/plain": [
              "'Oct'"
            ]
          },
          "metadata": {},
          "execution_count": 16
        }
      ]
    },
    {
      "cell_type": "markdown",
      "metadata": {
        "id": "2rYoqoZzEGtQ"
      },
      "source": [
        "## **Range of Indexes**"
      ]
    },
    {
      "cell_type": "markdown",
      "metadata": {
        "id": "gc1ljrV4tOmM"
      },
      "source": [
        "* You can specify a range of indexes by specifying where to start and where to end the range.\n",
        "* When specifying a range, the return value will be a new list with the specified items."
      ]
    },
    {
      "cell_type": "code",
      "metadata": {
        "colab": {
          "base_uri": "https://localhost:8080/"
        },
        "id": "6T90ldX1EPQt",
        "outputId": "df883ba0-1bc6-46e6-d8be-ac20f6633567"
      },
      "source": [
        "# Return the third, fourth, and fifth item:\n",
        "Months = [\"Jan\", \"Feb\", \"March\",\"Apr\",\"May\",\"June\",\"July\",\"Aug\",\"Sept\",\"Oct\",\"Nov\",\"Dec\"]\n",
        "Months[2:5]"
      ],
      "execution_count": 18,
      "outputs": [
        {
          "output_type": "execute_result",
          "data": {
            "text/plain": [
              "['March', 'Apr', 'May']"
            ]
          },
          "metadata": {},
          "execution_count": 18
        }
      ]
    },
    {
      "cell_type": "code",
      "metadata": {
        "colab": {
          "base_uri": "https://localhost:8080/"
        },
        "id": "xYUE2EQNE3g-",
        "outputId": "6d6c5fe6-756c-48bb-ea8b-0776fecc23c5"
      },
      "source": [
        "# By leaving out the start value, the range will start at the first item:\n",
        "Months = [\"Jan\", \"Feb\", \"March\",\"Apr\",\"May\",\"June\",\"July\",\"Aug\",\"Sept\",\"Oct\",\"Nov\",\"Dec\"]\n",
        "Months[:5]"
      ],
      "execution_count": 19,
      "outputs": [
        {
          "output_type": "execute_result",
          "data": {
            "text/plain": [
              "['Jan', 'Feb', 'March', 'April', 'May']"
            ]
          },
          "metadata": {},
          "execution_count": 19
        }
      ]
    },
    {
      "cell_type": "code",
      "metadata": {
        "colab": {
          "base_uri": "https://localhost:8080/"
        },
        "id": "xU_c19-lE_W4",
        "outputId": "874a2cbc-9424-472b-bd07-57b246064738"
      },
      "source": [
        "# By leaving out the last value, the range will go till end item:\n",
        "Months = [\"Jan\", \"Feb\", \"March\",\"Apr\",\"May\",\"June\",\"July\",\"Aug\",\"Sept\",\"Oct\",\"Nov\",\"Dec\"]\n",
        "Months[3:]"
      ],
      "execution_count": 20,
      "outputs": [
        {
          "output_type": "execute_result",
          "data": {
            "text/plain": [
              "['Apr', 'May', 'June', 'July', 'Aug', 'Sept', 'Oct', 'Nov', 'Dec']"
            ]
          },
          "metadata": {},
          "execution_count": 20
        }
      ]
    },
    {
      "cell_type": "markdown",
      "metadata": {
        "id": "ibEU2oQ-Famp"
      },
      "source": [
        "### **List with the Step Size**"
      ]
    },
    {
      "cell_type": "code",
      "metadata": {
        "colab": {
          "base_uri": "https://localhost:8080/"
        },
        "id": "Xb-xPwthFRbi",
        "outputId": "9b81c72d-ae30-46fd-aba7-c694e17c23f4"
      },
      "source": [
        "# Print all month starting from april to Nov by leaving one alternate month:\n",
        "Months = [\"Jan\", \"Feb\", \"March\",\"Apr\",\"May\",\"June\",\"July\",\"Aug\",\"Sept\",\"Oct\",\"Nov\",\"Dec\"]\n",
        "Months[3:10:2]"
      ],
      "execution_count": null,
      "outputs": [
        {
          "output_type": "execute_result",
          "data": {
            "text/plain": [
              "['April', 'June', 'Aug', 'Oct']"
            ]
          },
          "metadata": {},
          "execution_count": 23
        }
      ]
    },
    {
      "cell_type": "code",
      "metadata": {
        "colab": {
          "base_uri": "https://localhost:8080/"
        },
        "id": "tfJZ4JtIF6qQ",
        "outputId": "c95f4716-d95a-4983-de62-3223e57cd52f"
      },
      "source": [
        "# Print all month starting from april to Nov by leaving two alternate month:\n",
        "Months = [\"Jan\", \"Feb\", \"March\",\"Apr\",\"May\",\"June\",\"July\",\"Aug\",\"Sept\",\"Oct\",\"Nov\",\"Dec\"]\n",
        "Months[3:10:3]"
      ],
      "execution_count": 21,
      "outputs": [
        {
          "output_type": "execute_result",
          "data": {
            "text/plain": [
              "['Apr', 'July', 'Oct']"
            ]
          },
          "metadata": {},
          "execution_count": 21
        }
      ]
    },
    {
      "cell_type": "markdown",
      "metadata": {
        "id": "TsAt_-EYGBN9"
      },
      "source": [
        "### **Reverese list of Items**"
      ]
    },
    {
      "cell_type": "code",
      "metadata": {
        "colab": {
          "base_uri": "https://localhost:8080/"
        },
        "id": "ZB0ueakrGI2a",
        "outputId": "be781713-aa16-4537-e52a-433e9e09f220"
      },
      "source": [
        "# Print all month in reverese order\n",
        "Months = [\"Jan\", \"Feb\", \"March\",\"Apr\",\"May\",\"June\",\"July\",\"Aug\",\"Sept\",\"Oct\",\"Nov\",\"Dec\"]\n",
        "Months[::-1]"
      ],
      "execution_count": 22,
      "outputs": [
        {
          "output_type": "execute_result",
          "data": {
            "text/plain": [
              "['Dec',\n",
              " 'Nov',\n",
              " 'Oct',\n",
              " 'Sept',\n",
              " 'Aug',\n",
              " 'July',\n",
              " 'June',\n",
              " 'May',\n",
              " 'Apr',\n",
              " 'March',\n",
              " 'Feb',\n",
              " 'Jan']"
            ]
          },
          "metadata": {},
          "execution_count": 22
        }
      ]
    },
    {
      "cell_type": "markdown",
      "metadata": {
        "id": "uRfF_4lWGa1-"
      },
      "source": [
        "## **Check if Item Exists**"
      ]
    },
    {
      "cell_type": "markdown",
      "metadata": {
        "id": "LnbUBU8stWl7"
      },
      "source": [
        "To determine if a specified item is present in a list use the in keyword:"
      ]
    },
    {
      "cell_type": "code",
      "metadata": {
        "colab": {
          "base_uri": "https://localhost:8080/"
        },
        "id": "rSHEjLJEGib3",
        "outputId": "3b75d123-c328-448c-f63b-3143fb6e2caf"
      },
      "source": [
        "# Check if \"apple\" is present in the list:\n",
        "Months = [\"Jan\", \"Feb\", \"March\",\"Apr\",\"May\",\"June\",\"July\",\"Aug\",\"Sept\",\"Oct\",\"Nov\",\"Dec\"]\n",
        "\n",
        "if \"Feb\" in Months:\n",
        "  print(\"Yes, 'Feb' is in the months list\")"
      ],
      "execution_count": 23,
      "outputs": [
        {
          "output_type": "stream",
          "name": "stdout",
          "text": [
            "Yes, 'Feb' is in the months list\n"
          ]
        }
      ]
    },
    {
      "cell_type": "code",
      "metadata": {
        "id": "P8BDXRSlG1Fu"
      },
      "source": [
        "# Check if \"apple\" is present in the list:\n",
        "Months = [\"Jan\", \"Feb\", \"March\",\"Apr\",\"May\",\"June\",\"July\",\"Aug\",\"Sept\",\"Oct\",\"Nov\",\"Dec\"]\n",
        "\n",
        "if \"apple\" in Months:\n",
        "  print(\"Yes, 'apple' is in the months list\")"
      ],
      "execution_count": 25,
      "outputs": []
    },
    {
      "cell_type": "markdown",
      "metadata": {
        "id": "wN-857NcHnbw"
      },
      "source": [
        "## **Change Item Value**"
      ]
    },
    {
      "cell_type": "markdown",
      "metadata": {
        "id": "AMjHLu97td-n"
      },
      "source": [
        "* To change the value of a specific item, refer to the index number:"
      ]
    },
    {
      "cell_type": "code",
      "metadata": {
        "colab": {
          "base_uri": "https://localhost:8080/"
        },
        "id": "dvPZOhGhHsFI",
        "outputId": "7a70e16d-fa55-46b7-fab6-86823c8d6733"
      },
      "source": [
        "# Change the second item:\n",
        "Months = [\"Jan\", \"Feb\", \"March\",\"Apr\",\"May\",\"June\",\"July\",\"Aug\",\"Sept\",\"Oct\",\"Nov\",\"Dec\"]\n",
        "print(Months)\n",
        "Months[1]= \"February\"\n",
        "print(Months)"
      ],
      "execution_count": 26,
      "outputs": [
        {
          "output_type": "stream",
          "name": "stdout",
          "text": [
            "['Jan', 'Feb', 'March', 'Apr', 'May', 'June', 'July', 'Aug', 'Sept', 'Oct', 'Nov', 'Dec']\n",
            "['Jan', 'February', 'March', 'Apr', 'May', 'June', 'July', 'Aug', 'Sept', 'Oct', 'Nov', 'Dec']\n"
          ]
        }
      ]
    },
    {
      "cell_type": "markdown",
      "metadata": {
        "id": "CYfb99wiIKNu"
      },
      "source": [
        "## **Change a Range of Item Values**"
      ]
    },
    {
      "cell_type": "markdown",
      "metadata": {
        "id": "9uTdvHYqtlYs"
      },
      "source": [
        "* To change the value of items within a specific range, define a list with the new values, and refer to the range of index numbers where you want to insert the new values:"
      ]
    },
    {
      "cell_type": "code",
      "metadata": {
        "id": "8UrLZPQQIXe2"
      },
      "source": [
        "# Change the value \"Aug\" to \"Nov\" with the values full name\n",
        "Months = [\"Jan\", \"Feb\", \"March\",\"Apr\",\"May\",\"June\",\"July\",\"Aug\",\"Sept\",\"Oct\",\"Nov\",\"Dec\"]\n",
        "print(Months)\n",
        "Months[7:11]= [\"August\",\"September\",\"October\",\"November\"]\n",
        "print(Months)"
      ],
      "execution_count": null,
      "outputs": []
    },
    {
      "cell_type": "markdown",
      "metadata": {
        "id": "fjAnMHA9KKg_"
      },
      "source": [
        "If you insert more items than you replace, the new items will be inserted where you specified, and the remaining items will move accordingly:"
      ]
    },
    {
      "cell_type": "code",
      "metadata": {
        "colab": {
          "base_uri": "https://localhost:8080/"
        },
        "id": "7TVf7ukA_MR8",
        "outputId": "eca37c82-f556-4df5-916d-308a67d3d25c"
      },
      "source": [
        "Months = [\"Jan\", \"Feb\", \"March\",\"Apr\",\"May\",\"June\",\"July\",\"Aug\",\"Sept\",\"Oct\",\"Nov\",\"Dec\"]\n",
        "print(Months)\n",
        "Months[2:4]= [\"march\",\"apr\"]\n",
        "print(Months)"
      ],
      "execution_count": 29,
      "outputs": [
        {
          "output_type": "stream",
          "name": "stdout",
          "text": [
            "['Jan', 'Feb', 'March', 'Apr', 'May', 'June', 'July', 'Aug', 'Sept', 'Oct', 'Nov', 'Dec']\n",
            "['Jan', 'Feb', 'march', 'apr', 'May', 'June', 'July', 'Aug', 'Sept', 'Oct', 'Nov', 'Dec']\n"
          ]
        }
      ]
    },
    {
      "cell_type": "code",
      "metadata": {
        "colab": {
          "base_uri": "https://localhost:8080/"
        },
        "id": "cGBIh78aKLWv",
        "outputId": "99a785d0-6e61-4593-921e-a325df5f3d51"
      },
      "source": [
        "Months = [\"Jan\", \"Feb\", \"March\",\"Apr\",\"May\",\"June\",\"July\",\"Aug\",\"Sept\",\"Oct\",\"Nov\",\"Dec\"]\n",
        "print(Months)\n",
        "Months[2:4]= [\"march\",\"apr\",\"may\"]\n",
        "print(Months)"
      ],
      "execution_count": 28,
      "outputs": [
        {
          "output_type": "stream",
          "name": "stdout",
          "text": [
            "['Jan', 'Feb', 'March', 'Apr', 'May', 'June', 'July', 'Aug', 'Sept', 'Oct', 'Nov', 'Dec']\n",
            "['Jan', 'Feb', 'march', 'apr', 'may', 'May', 'June', 'July', 'Aug', 'Sept', 'Oct', 'Nov', 'Dec']\n"
          ]
        }
      ]
    },
    {
      "cell_type": "markdown",
      "metadata": {
        "id": "uqXW0MEYKilY"
      },
      "source": [
        "**Note:** If you insert less items than you replace, the new items will be inserted where you specified, and the remaining items will move accordingly:"
      ]
    },
    {
      "cell_type": "code",
      "metadata": {
        "colab": {
          "base_uri": "https://localhost:8080/"
        },
        "id": "ltLJaehqKoQU",
        "outputId": "b8bcbf8d-64c2-4af0-de9f-e9645f228286"
      },
      "source": [
        "Months = [\"Jan\", \"Feb\", \"March\",\"Apr\",\"May\",\"June\",\"July\",\"Aug\",\"Sept\",\"Oct\",\"Nov\",\"Dec\"]\n",
        "print(Months)\n",
        "Months[2:4]= [\"march\"]\n",
        "print(Months)"
      ],
      "execution_count": 30,
      "outputs": [
        {
          "output_type": "stream",
          "name": "stdout",
          "text": [
            "['Jan', 'Feb', 'March', 'Apr', 'May', 'June', 'July', 'Aug', 'Sept', 'Oct', 'Nov', 'Dec']\n",
            "['Jan', 'Feb', 'march', 'May', 'June', 'July', 'Aug', 'Sept', 'Oct', 'Nov', 'Dec']\n"
          ]
        }
      ]
    },
    {
      "cell_type": "markdown",
      "metadata": {
        "id": "M-7qoLCtLtzh"
      },
      "source": [
        "## **Python - Add List Items**"
      ]
    },
    {
      "cell_type": "markdown",
      "metadata": {
        "id": "bpVhmH3RL1qu"
      },
      "source": [
        "### **1. Append Items**\n",
        "* To add an item to the end of the list, use the append() method:"
      ]
    },
    {
      "cell_type": "code",
      "metadata": {
        "colab": {
          "base_uri": "https://localhost:8080/"
        },
        "id": "zdYQUqeqMAlq",
        "outputId": "3d1a24c0-c767-4f0c-e08f-4638f755f804"
      },
      "source": [
        "Months = [\"Jan\", \"Feb\", \"March\",\"Apr\",\"May\",\"June\",\"July\",\"Aug\",\"Sept\",\"Oct\",\"Nov\"]\n",
        "print(Months)\n",
        "Months.append(\"Dec\")\n",
        "print(Months)"
      ],
      "execution_count": 32,
      "outputs": [
        {
          "output_type": "stream",
          "name": "stdout",
          "text": [
            "['Jan', 'Feb', 'March', 'Apr', 'May', 'June', 'July', 'Aug', 'Sept', 'Oct', 'Nov']\n",
            "['Jan', 'Feb', 'March', 'Apr', 'May', 'June', 'July', 'Aug', 'Sept', 'Oct', 'Nov', 'Dec']\n"
          ]
        }
      ]
    },
    {
      "cell_type": "markdown",
      "metadata": {
        "id": "FCkVZXzxMhMK"
      },
      "source": [
        "### **2. Insert Items**\n",
        "* To insert a list item at a specified index, use the insert() method.\n",
        "* The insert() method inserts an item at the specified index:"
      ]
    },
    {
      "cell_type": "code",
      "metadata": {
        "id": "qXycZpDeMpLo",
        "colab": {
          "base_uri": "https://localhost:8080/"
        },
        "outputId": "6015329c-0509-40d1-af76-3339a9690ec8"
      },
      "source": [
        "Months = [\"Jan\", \"Feb\", \"Apr\",\"May\",\"June\",\"July\",\"Aug\",\"Sept\",\"Oct\",\"Nov\",\"Dec\"]\n",
        "print(Months)\n",
        "Months.insert(2, \"March\")\n",
        "print(Months)"
      ],
      "execution_count": 33,
      "outputs": [
        {
          "output_type": "stream",
          "name": "stdout",
          "text": [
            "['Jan', 'Feb', 'Apr', 'May', 'June', 'July', 'Aug', 'Sept', 'Oct', 'Nov', 'Dec']\n",
            "['Jan', 'Feb', 'March', 'Apr', 'May', 'June', 'July', 'Aug', 'Sept', 'Oct', 'Nov', 'Dec']\n"
          ]
        }
      ]
    },
    {
      "cell_type": "markdown",
      "metadata": {
        "id": "HnFUynwPM0uL"
      },
      "source": [
        "### **3. Extend List**\n",
        "* To append elements from another list to the current list, use the extend() method."
      ]
    },
    {
      "cell_type": "code",
      "metadata": {
        "colab": {
          "base_uri": "https://localhost:8080/"
        },
        "id": "eyEGCra2M8Z6",
        "outputId": "49afe2d9-e143-4509-df0c-a29385dd48a4"
      },
      "source": [
        "# Add the elements of tropical to thislist:\n",
        "Months = [\"Jan\", \"Feb\", \"March\",\"Apr\",\"May\",\"June\",\"July\",\"Aug\",\"Sept\"]\n",
        "print(Months)\n",
        "Q4 = [\"Oct\",\"Nov\",\"Dec\"]\n",
        "Months.extend(Q4)\n",
        "print(Months)"
      ],
      "execution_count": 34,
      "outputs": [
        {
          "output_type": "stream",
          "name": "stdout",
          "text": [
            "['Jan', 'Feb', 'March', 'Apr', 'May', 'June', 'July', 'Aug', 'Sept']\n",
            "['Jan', 'Feb', 'March', 'Apr', 'May', 'June', 'July', 'Aug', 'Sept', 'Oct', 'Nov', 'Dec']\n"
          ]
        }
      ]
    },
    {
      "cell_type": "markdown",
      "metadata": {
        "id": "I7crdtSVOI03"
      },
      "source": [
        "### **4. Add Any Iterable**\n",
        "The extend() method does not have to append lists, you can add any iterable object (tuples, sets, dictionaries etc.)."
      ]
    },
    {
      "cell_type": "code",
      "metadata": {
        "colab": {
          "base_uri": "https://localhost:8080/"
        },
        "id": "PXtyioElOQbe",
        "outputId": "048c3c77-4af6-49fe-90fe-730a0a0aea3d"
      },
      "source": [
        "Months = [\"Jan\", \"Feb\", \"March\",\"Apr\",\"May\",\"June\",\"July\",\"Aug\",\"Sept\"]\n",
        "print(Months)\n",
        "Q4 = (\"Oct\",\"Nov\",\"Dec\")\n",
        "Months.extend(Q4)\n",
        "print(Months)"
      ],
      "execution_count": 35,
      "outputs": [
        {
          "output_type": "stream",
          "name": "stdout",
          "text": [
            "['Jan', 'Feb', 'March', 'Apr', 'May', 'June', 'July', 'Aug', 'Sept']\n",
            "['Jan', 'Feb', 'March', 'Apr', 'May', 'June', 'July', 'Aug', 'Sept', 'Oct', 'Nov', 'Dec']\n"
          ]
        }
      ]
    },
    {
      "cell_type": "markdown",
      "metadata": {
        "id": "ke4LErIkOo7M"
      },
      "source": [
        "## **Python - Remove List Items**"
      ]
    },
    {
      "cell_type": "markdown",
      "metadata": {
        "id": "AIMWXFlSOvj4"
      },
      "source": [
        "### **1. Remove Specified Item using remove() method**\n",
        "* The remove() method removes the specified item."
      ]
    },
    {
      "cell_type": "code",
      "metadata": {
        "colab": {
          "base_uri": "https://localhost:8080/"
        },
        "id": "43-5TcQIO1lw",
        "outputId": "a96ad3d9-ad50-46ca-d312-99ec261e7d1f"
      },
      "source": [
        "Q1 = [\"Jan\", \"Feb\", \"March\"]\n",
        "Q1.remove(\"Feb\")\n",
        "print(Q1)"
      ],
      "execution_count": 36,
      "outputs": [
        {
          "output_type": "stream",
          "name": "stdout",
          "text": [
            "['Jan', 'March']\n"
          ]
        }
      ]
    },
    {
      "cell_type": "markdown",
      "metadata": {
        "id": "6QUF_HpAPQKV"
      },
      "source": [
        "### **2. Remove Specified Index using pop() method**\n",
        "* The pop() method removes the specified index.\n",
        "* If you do not specify the index, the pop() method removes the last item."
      ]
    },
    {
      "cell_type": "code",
      "metadata": {
        "colab": {
          "base_uri": "https://localhost:8080/"
        },
        "id": "9y_j_n7_Osv_",
        "outputId": "3bd85c00-998a-454b-abbd-1b7f3c7ae8d1"
      },
      "source": [
        "Q1 = [\"Jan\", \"Feb\", \"March\"]\n",
        "Q1.pop(2)\n",
        "print(Q1)"
      ],
      "execution_count": 37,
      "outputs": [
        {
          "output_type": "stream",
          "name": "stdout",
          "text": [
            "['Jan', 'Feb']\n"
          ]
        }
      ]
    },
    {
      "cell_type": "code",
      "metadata": {
        "colab": {
          "base_uri": "https://localhost:8080/"
        },
        "id": "QXcDTsl-PtUQ",
        "outputId": "a514efe5-c3ab-4b05-f27b-99afb7922775"
      },
      "source": [
        "Q2 = [\"Apr\",\"May\",\"June\"]\n",
        "Q2.pop()\n",
        "print(Q2)"
      ],
      "execution_count": 38,
      "outputs": [
        {
          "output_type": "stream",
          "name": "stdout",
          "text": [
            "['Apr', 'May']\n"
          ]
        }
      ]
    },
    {
      "cell_type": "markdown",
      "metadata": {
        "id": "YqqkFAM9P-PI"
      },
      "source": [
        "###**3.Remove using del keyword**\n",
        "*  The del keyword also removes the specified index:\n",
        "* The del keyword can also delete the list completely."
      ]
    },
    {
      "cell_type": "code",
      "metadata": {
        "colab": {
          "base_uri": "https://localhost:8080/"
        },
        "id": "D8l0kZKgQNXO",
        "outputId": "9ef152d8-9ddc-449b-98e4-13c9fb3cad0f"
      },
      "source": [
        "Q1 = [\"Jan\", \"Feb\", \"March\"]\n",
        "print(Q1)\n",
        "del Q1[0]\n",
        "print(Q1)"
      ],
      "execution_count": 39,
      "outputs": [
        {
          "output_type": "stream",
          "name": "stdout",
          "text": [
            "['Jan', 'Feb', 'March']\n",
            "['Feb', 'March']\n"
          ]
        }
      ]
    },
    {
      "cell_type": "code",
      "metadata": {
        "id": "gBb2QjITQsf-"
      },
      "source": [
        "Q1 = [\"Jan\", \"Feb\", \"March\"]\n",
        "del Q1"
      ],
      "execution_count": 40,
      "outputs": []
    },
    {
      "cell_type": "code",
      "metadata": {
        "colab": {
          "base_uri": "https://localhost:8080/",
          "height": 167
        },
        "id": "PN4rp-XkRZze",
        "outputId": "6dfd80b0-e4ff-4bc4-95e4-2b9296ee2b47"
      },
      "source": [
        "print(Q1)"
      ],
      "execution_count": 42,
      "outputs": [
        {
          "output_type": "error",
          "ename": "NameError",
          "evalue": "ignored",
          "traceback": [
            "\u001b[0;31m---------------------------------------------------------------------------\u001b[0m",
            "\u001b[0;31mNameError\u001b[0m                                 Traceback (most recent call last)",
            "\u001b[0;32m<ipython-input-42-9a7f8293c497>\u001b[0m in \u001b[0;36m<module>\u001b[0;34m()\u001b[0m\n\u001b[0;32m----> 1\u001b[0;31m \u001b[0mprint\u001b[0m\u001b[0;34m(\u001b[0m\u001b[0mQ1\u001b[0m\u001b[0;34m)\u001b[0m\u001b[0;34m\u001b[0m\u001b[0;34m\u001b[0m\u001b[0m\n\u001b[0m",
            "\u001b[0;31mNameError\u001b[0m: name 'Q1' is not defined"
          ]
        }
      ]
    },
    {
      "cell_type": "markdown",
      "metadata": {
        "id": "1EydIvNnQ91t"
      },
      "source": [
        "### **4. Clear the List**\n",
        "* The clear() method empties the list.\n",
        "* The list still remains, but it has no content."
      ]
    },
    {
      "cell_type": "code",
      "metadata": {
        "colab": {
          "base_uri": "https://localhost:8080/"
        },
        "id": "vzpf9AUIRGox",
        "outputId": "f99fb0d9-6bb3-4f6e-d0ad-3e062a3cb5ec"
      },
      "source": [
        "Q4 = [\"Oct\", \"Nov\", \"Dec\"]\n",
        "Q4.clear()\n",
        "print(Q4)"
      ],
      "execution_count": 43,
      "outputs": [
        {
          "output_type": "stream",
          "name": "stdout",
          "text": [
            "[]\n"
          ]
        }
      ]
    },
    {
      "cell_type": "markdown",
      "metadata": {
        "id": "0XqVC3d0TX6Y"
      },
      "source": [
        "## **Python - Loop Lists**"
      ]
    },
    {
      "cell_type": "markdown",
      "metadata": {
        "id": "gQ4dm4FFTbG_"
      },
      "source": [
        "### **1. Loop Through a List**\n",
        "* You can loop through the list items by using a for loop:"
      ]
    },
    {
      "cell_type": "code",
      "metadata": {
        "colab": {
          "base_uri": "https://localhost:8080/"
        },
        "id": "vlJffKULEtBe",
        "outputId": "a9df8d3b-b95d-4941-b550-5fb294c2f1ec"
      },
      "source": [
        "Months = [\"Jan\", \"Feb\", \"March\",\"Apr\",\"May\",\"June\",\"July\",\"Aug\",\"Sept\",\"Oct\",\"Nov\",\"Dec\"]\n",
        "print(Months)"
      ],
      "execution_count": 45,
      "outputs": [
        {
          "output_type": "stream",
          "name": "stdout",
          "text": [
            "['Jan', 'Feb', 'March', 'Apr', 'May', 'June', 'July', 'Aug', 'Sept', 'Oct', 'Nov', 'Dec']\n"
          ]
        }
      ]
    },
    {
      "cell_type": "code",
      "metadata": {
        "colab": {
          "base_uri": "https://localhost:8080/"
        },
        "id": "Hs_s7WNrTiDt",
        "outputId": "1b14bf94-c074-42fc-9617-8d0416d0c022"
      },
      "source": [
        "# Print all items in the list, one by one:\n",
        "Months = [\"Jan\", \"Feb\", \"March\",\"Apr\",\"May\",\"June\",\"July\",\"Aug\",\"Sept\",\"Oct\",\"Nov\",\"Dec\"]\n",
        "for x in Months:\n",
        "  print(x)"
      ],
      "execution_count": 44,
      "outputs": [
        {
          "output_type": "stream",
          "name": "stdout",
          "text": [
            "Jan\n",
            "Feb\n",
            "March\n",
            "Apr\n",
            "May\n",
            "June\n",
            "July\n",
            "Aug\n",
            "Sept\n",
            "Oct\n",
            "Nov\n",
            "Dec\n"
          ]
        }
      ]
    },
    {
      "cell_type": "markdown",
      "metadata": {
        "id": "dobsGdt3T_bd"
      },
      "source": [
        "### **2. Loop Through the Index Numbers**\n",
        "* You can also loop through the list items by referring to their index number.\n",
        "* Use the range() and len() functions to create a suitable iterable."
      ]
    },
    {
      "cell_type": "code",
      "metadata": {
        "colab": {
          "base_uri": "https://localhost:8080/"
        },
        "id": "BDcF2P4wUhMj",
        "outputId": "f701e101-0e9a-475f-b79f-70df948b75d6"
      },
      "source": [
        "# Print all items by referring to their index number:\n",
        "Months = [\"Jan\", \"Feb\", \"March\",\"Apr\",\"May\",\"June\",\"July\",\"Aug\",\"Sept\",\"Oct\",\"Nov\",\"Dec\"]\n",
        "for i in range(len(Months)):\n",
        "  print(Months[i])"
      ],
      "execution_count": null,
      "outputs": [
        {
          "output_type": "stream",
          "name": "stdout",
          "text": [
            "Jan\n",
            "Feb\n",
            "March\n",
            "Apr\n",
            "May\n",
            "June\n",
            "July\n",
            "Aug\n",
            "Sept\n",
            "Oct\n",
            "Nov\n",
            "Dec\n"
          ]
        }
      ]
    },
    {
      "cell_type": "markdown",
      "metadata": {
        "id": "CNOdH9asVPpG"
      },
      "source": [
        "### **3. Using a While Loop**\n",
        "* You can loop through the list items by using a while loop.\n",
        "* Use the len() function to determine the length of the list, then start at 0 and loop your way through the list items by refering to their indexes.\n",
        "* Remember to increase the index by 1 after each iteration."
      ]
    },
    {
      "cell_type": "code",
      "metadata": {
        "colab": {
          "base_uri": "https://localhost:8080/"
        },
        "id": "LQa7Ct8rVdoy",
        "outputId": "08659a12-17ca-44c3-a2e7-5b79bc3ad53b"
      },
      "source": [
        "# Print all items, using a while loop to go through all the index numbers\n",
        "Months = [\"Jan\", \"Feb\", \"March\",\"Apr\",\"May\",\"June\",\"July\",\"Aug\",\"Sept\",\"Oct\",\"Nov\",\"Dec\"]\n",
        "\n",
        "i = 0\n",
        "while i < len(Months):\n",
        "  print(Months[i])\n",
        "  i = i + 1"
      ],
      "execution_count": 46,
      "outputs": [
        {
          "output_type": "stream",
          "name": "stdout",
          "text": [
            "Jan\n",
            "Feb\n",
            "March\n",
            "Apr\n",
            "May\n",
            "June\n",
            "July\n",
            "Aug\n",
            "Sept\n",
            "Oct\n",
            "Nov\n",
            "Dec\n"
          ]
        }
      ]
    },
    {
      "cell_type": "markdown",
      "metadata": {
        "id": "h_O1D_9ZV06S"
      },
      "source": [
        "### **4. Looping Using List Comprehension**\n",
        "* List Comprehension offers the shortest syntax for looping through lists:"
      ]
    },
    {
      "cell_type": "code",
      "metadata": {
        "colab": {
          "base_uri": "https://localhost:8080/"
        },
        "id": "pVVrFDD9FWhw",
        "outputId": "465b4a34-e361-4449-807f-fbf6465e24b9"
      },
      "source": [
        "# Using general for loop:\n",
        "Months = [\"Jan\", \"Feb\", \"March\",\"Apr\",\"May\",\"June\",\"July\",\"Aug\",\"Sept\",\"Oct\",\"Nov\",\"Dec\"]\n",
        "for x in Months:\n",
        "  print(x)"
      ],
      "execution_count": 48,
      "outputs": [
        {
          "output_type": "stream",
          "name": "stdout",
          "text": [
            "Jan\n",
            "Feb\n",
            "March\n",
            "Apr\n",
            "May\n",
            "June\n",
            "July\n",
            "Aug\n",
            "Sept\n",
            "Oct\n",
            "Nov\n",
            "Dec\n"
          ]
        }
      ]
    },
    {
      "cell_type": "code",
      "metadata": {
        "colab": {
          "base_uri": "https://localhost:8080/"
        },
        "id": "qzqYol5UV5tt",
        "outputId": "f5003d3b-06af-447d-a5b0-c3f25d4601c3"
      },
      "source": [
        "# A short hand for loop that will print all items in a list:\n",
        "Months = [\"Jan\", \"Feb\", \"March\",\"Apr\",\"May\",\"June\",\"July\",\"Aug\",\"Sept\",\"Oct\",\"Nov\",\"Dec\"]\n",
        "[x for x in Months]"
      ],
      "execution_count": 49,
      "outputs": [
        {
          "output_type": "execute_result",
          "data": {
            "text/plain": [
              "['Jan',\n",
              " 'Feb',\n",
              " 'March',\n",
              " 'Apr',\n",
              " 'May',\n",
              " 'June',\n",
              " 'July',\n",
              " 'Aug',\n",
              " 'Sept',\n",
              " 'Oct',\n",
              " 'Nov',\n",
              " 'Dec']"
            ]
          },
          "metadata": {},
          "execution_count": 49
        }
      ]
    },
    {
      "cell_type": "markdown",
      "metadata": {
        "id": "rE6bPWpbWs4e"
      },
      "source": [
        "## **Python - List Comprehension**"
      ]
    },
    {
      "cell_type": "markdown",
      "metadata": {
        "id": "DkKXGnjmWxIP"
      },
      "source": [
        "### **List Comprehension**\n",
        "* List comprehension offers a shorter syntax when you want to create a new list based on the values of an existing list.\n",
        "* Example: Based on a list of fruits, you want a new list, containing only the fruits with the letter \"a\" in the name.\n",
        "* Without list comprehension you will have to write a for statement with a conditional test inside:"
      ]
    },
    {
      "cell_type": "code",
      "metadata": {
        "colab": {
          "base_uri": "https://localhost:8080/"
        },
        "id": "K6yR80W9XEfU",
        "outputId": "d5058909-51d9-44d7-c42e-0796d70be5ef"
      },
      "source": [
        "# Without list comprehension you will have to write a for statement with a conditional test inside:\n",
        "fruits = [\"apple\", \"banana\", \"cherry\", \"kiwi\", \"mango\"]\n",
        "newlist = []\n",
        "\n",
        "for x in fruits:\n",
        "  if \"a\" in x:\n",
        "    newlist.append(x)\n",
        "\n",
        "print(newlist)"
      ],
      "execution_count": 50,
      "outputs": [
        {
          "output_type": "stream",
          "name": "stdout",
          "text": [
            "['apple', 'banana', 'mango']\n"
          ]
        }
      ]
    },
    {
      "cell_type": "code",
      "metadata": {
        "colab": {
          "base_uri": "https://localhost:8080/"
        },
        "id": "vpWZKsAzc32r",
        "outputId": "e9a61d2b-2e7d-4495-964c-c489e1bf4d38"
      },
      "source": [
        "# Without list comprehension you will have to write a for statement with a conditional test inside:\n",
        "N = [1,2,3,4,5,6,7,8,9,10]\n",
        "Even = []\n",
        "\n",
        "for x in N:\n",
        "  if (x % 2 == 0) in N:\n",
        "    Even.append(x)\n",
        "\n",
        "print(Even)"
      ],
      "execution_count": 51,
      "outputs": [
        {
          "output_type": "stream",
          "name": "stdout",
          "text": [
            "[2, 4, 6, 8, 10]\n"
          ]
        }
      ]
    },
    {
      "cell_type": "code",
      "metadata": {
        "id": "WdkE1iuTbvCs"
      },
      "source": [
        "# With list comprehension you can do all that with only one line of code:\n",
        "fruits = [\"apple\", \"banana\", \"cherry\", \"kiwi\", \"mango\"]\n",
        "newlist = [x for x in fruits if \"a\" in x]\n",
        "print(newlist)"
      ],
      "execution_count": null,
      "outputs": []
    },
    {
      "cell_type": "code",
      "metadata": {
        "colab": {
          "base_uri": "https://localhost:8080/"
        },
        "id": "OohUOu9WcEed",
        "outputId": "cea26d5d-3686-45d6-cc3b-283ed8d25f97"
      },
      "source": [
        "# With list comprehension you can do all that with only one line of code:\n",
        "N = [1,2,3,4,5,6,7,8,9,10]\n",
        "Even = [x for x in N if (x % 2 == 0) ]\n",
        "print(Even)"
      ],
      "execution_count": 52,
      "outputs": [
        {
          "output_type": "stream",
          "name": "stdout",
          "text": [
            "[2, 4, 6, 8, 10]\n"
          ]
        }
      ]
    },
    {
      "cell_type": "markdown",
      "metadata": {
        "id": "tUSmrAAXedWm"
      },
      "source": [
        "### **Syntax:**\n",
        "newlist = [print expression for item in iterable if condition == True]\n",
        "\n",
        "**Note:** The return value is a new list, leaving the old list unchanged."
      ]
    },
    {
      "cell_type": "markdown",
      "metadata": {
        "id": "uWmRwLLce9U7"
      },
      "source": [
        "### **Condition**\n",
        "* The condition is like a filter that only accepts the items that valuate to True.\n",
        "* The condition is optional and can be omitted:"
      ]
    },
    {
      "cell_type": "code",
      "metadata": {
        "colab": {
          "base_uri": "https://localhost:8080/"
        },
        "id": "DQaPQhiJfCW_",
        "outputId": "13601cf4-f79b-4eca-9b5b-43d7047dc0cc"
      },
      "source": [
        "# Only accept items that are not \"apple\":\n",
        "fruits = [\"apple\", \"banana\", \"cherry\", \"kiwi\", \"mango\"]\n",
        "newlist = [x for x in fruits if x != \"apple\"]\n",
        "newlist"
      ],
      "execution_count": null,
      "outputs": [
        {
          "output_type": "execute_result",
          "data": {
            "text/plain": [
              "['banana', 'cherry', 'kiwi', 'mango']"
            ]
          },
          "metadata": {},
          "execution_count": 77
        }
      ]
    },
    {
      "cell_type": "code",
      "metadata": {
        "colab": {
          "base_uri": "https://localhost:8080/"
        },
        "id": "lgrJ9laEfsHT",
        "outputId": "4220dffe-b8f2-456a-aa72-76691f6f0b69"
      },
      "source": [
        "# Only accept items that are not \"apple\":\n",
        "fruits = [\"apple\", \"banana\", \"cherry\", \"kiwi\", \"mango\"]\n",
        "newlist = [x for x in fruits]\n",
        "newlist"
      ],
      "execution_count": null,
      "outputs": [
        {
          "output_type": "execute_result",
          "data": {
            "text/plain": [
              "['apple', 'banana', 'cherry', 'kiwi', 'mango']"
            ]
          },
          "metadata": {},
          "execution_count": 78
        }
      ]
    },
    {
      "cell_type": "code",
      "metadata": {
        "colab": {
          "base_uri": "https://localhost:8080/"
        },
        "id": "8iv9R48LgFtz",
        "outputId": "e4662bd6-fdde-4853-983c-dac86c021ff4"
      },
      "source": [
        "# A short hand for loop that will print all items in a list:\n",
        "Q1_Q2 = [\"Jan\", \"Feb\", \"March\",\"Apr\",\"May\",\"June\"]\n",
        "Updated_Months = [x for x in Q1_Q2]\n",
        "Updated_Months"
      ],
      "execution_count": null,
      "outputs": [
        {
          "output_type": "execute_result",
          "data": {
            "text/plain": [
              "['Jan', 'Feb', 'March', 'Apr', 'May', 'June']"
            ]
          },
          "metadata": {},
          "execution_count": 83
        }
      ]
    },
    {
      "cell_type": "markdown",
      "metadata": {
        "id": "Cu5E333Ag4Du"
      },
      "source": [
        "### **Iterable**\n",
        "* The iterable can be any iterable object, like a list, tuple, set etc."
      ]
    },
    {
      "cell_type": "code",
      "metadata": {
        "id": "Vzc6ypuDg8Ek"
      },
      "source": [
        "# You can use the range() function to create an iterable:\n",
        "newlist = [x for x in range(10)]"
      ],
      "execution_count": 53,
      "outputs": []
    },
    {
      "cell_type": "code",
      "metadata": {
        "colab": {
          "base_uri": "https://localhost:8080/"
        },
        "id": "a_1Uf_w6hJ7w",
        "outputId": "db959e5d-05dc-4185-a69c-b037619b5210"
      },
      "source": [
        "# Accept only numbers lower than 5:\n",
        "newlist = [x for x in range(10) if x < 5]\n",
        "newlist"
      ],
      "execution_count": 54,
      "outputs": [
        {
          "output_type": "execute_result",
          "data": {
            "text/plain": [
              "[0, 1, 2, 3, 4]"
            ]
          },
          "metadata": {},
          "execution_count": 54
        }
      ]
    },
    {
      "cell_type": "markdown",
      "metadata": {
        "id": "K8wRk_8YhXx-"
      },
      "source": [
        "##**Expression**"
      ]
    },
    {
      "cell_type": "markdown",
      "metadata": {
        "id": "AHrxTaMBtqsf"
      },
      "source": [
        "The expression is the current item in the iteration, but it is also the outcome, which you can manipulate before it ends up like a list item in the new list:"
      ]
    },
    {
      "cell_type": "code",
      "metadata": {
        "colab": {
          "base_uri": "https://localhost:8080/"
        },
        "id": "-1vLb9Q-hdv-",
        "outputId": "87228149-1063-4b88-b129-d397b5bb2819"
      },
      "source": [
        "# Set the values in the new list to upper case:\n",
        "Q1_Q2 = [\"Jan\", \"Feb\", \"March\",\"Apr\",\"May\",\"June\"]\n",
        "newlist = [x.upper() for x in Q1_Q2]\n",
        "newlist"
      ],
      "execution_count": null,
      "outputs": [
        {
          "output_type": "execute_result",
          "data": {
            "text/plain": [
              "['JAN', 'FEB', 'MARCH', 'APR', 'MAY', 'JUNE']"
            ]
          },
          "metadata": {},
          "execution_count": 86
        }
      ]
    },
    {
      "cell_type": "code",
      "metadata": {
        "colab": {
          "base_uri": "https://localhost:8080/"
        },
        "id": "5txJLjuAh3xx",
        "outputId": "b8108aa6-2ee6-4d60-fe3e-19486a8be0d6"
      },
      "source": [
        "# Set the values in the new list to upper case:\n",
        "Q1_Q2 = [\"Jan\", \"Feb\", \"March\",\"Apr\",\"May\",\"June\"]\n",
        "newlist = [x.lower() for x in Q1_Q2]\n",
        "newlist"
      ],
      "execution_count": null,
      "outputs": [
        {
          "output_type": "execute_result",
          "data": {
            "text/plain": [
              "['jan', 'feb', 'march', 'apr', 'may', 'june']"
            ]
          },
          "metadata": {},
          "execution_count": 87
        }
      ]
    },
    {
      "cell_type": "code",
      "metadata": {
        "colab": {
          "base_uri": "https://localhost:8080/"
        },
        "id": "PLAODIc3iDXg",
        "outputId": "cb104311-70a9-429c-ef75-064ac895c4d7"
      },
      "source": [
        "# Set all values in the new list to 'hello':\n",
        "Q1 = [\"Jan\", \"Feb\", \"March\"]\n",
        "newlist = ['q1' for x in Q1]\n",
        "newlist"
      ],
      "execution_count": null,
      "outputs": [
        {
          "output_type": "execute_result",
          "data": {
            "text/plain": [
              "['q1', 'q1', 'q1']"
            ]
          },
          "metadata": {},
          "execution_count": 88
        }
      ]
    },
    {
      "cell_type": "code",
      "metadata": {
        "colab": {
          "base_uri": "https://localhost:8080/"
        },
        "id": "ReT_6xc-jFGu",
        "outputId": "328bd6a7-3fed-4d4b-f15e-74a8a65b716b"
      },
      "source": [
        "# Return \"orange\" instead of \"banana\":\n",
        "fruits = [\"apple\", \"banana\", \"cherry\", \"kiwi\", \"mango\"]\n",
        "newlist = [x if x != \"banana\" else \"orange\" for x in fruits]\n",
        "newlist"
      ],
      "execution_count": null,
      "outputs": [
        {
          "output_type": "execute_result",
          "data": {
            "text/plain": [
              "['apple', 'orange', 'cherry', 'kiwi', 'mango']"
            ]
          },
          "metadata": {},
          "execution_count": 89
        }
      ]
    },
    {
      "cell_type": "markdown",
      "metadata": {
        "id": "5_3xmsWOkBoL"
      },
      "source": [
        "## **Python - Sort Lists**"
      ]
    },
    {
      "cell_type": "markdown",
      "metadata": {
        "id": "GA_tlUINkFcm"
      },
      "source": [
        "### **1. Sort List Alphanumerically**\n",
        "* List objects have a sort() method that will sort the list alphanumerically, ascending, by default:"
      ]
    },
    {
      "cell_type": "code",
      "metadata": {
        "colab": {
          "base_uri": "https://localhost:8080/"
        },
        "id": "PkHPaj2HkPnK",
        "outputId": "2230b100-6428-44d6-86bf-b2b41475cfee"
      },
      "source": [
        "# Sort the list alphabetically:\n",
        "Months = [\"Jan\", \"Feb\", \"March\",\"Apr\",\"May\",\"June\",\"July\",\"Aug\",\"Sept\",\"Oct\",\"Nov\",\"Dec\"]\n",
        "Months.sort()\n",
        "print(Months)"
      ],
      "execution_count": 55,
      "outputs": [
        {
          "output_type": "stream",
          "name": "stdout",
          "text": [
            "['Apr', 'Aug', 'Dec', 'Feb', 'Jan', 'July', 'June', 'March', 'May', 'Nov', 'Oct', 'Sept']\n"
          ]
        }
      ]
    },
    {
      "cell_type": "code",
      "metadata": {
        "colab": {
          "base_uri": "https://localhost:8080/"
        },
        "id": "qcbDOlDdkk17",
        "outputId": "7e5267a5-3272-4b97-9fde-ffc69ed5c3b9"
      },
      "source": [
        "# Sort the list numerically:\n",
        "N = [85, 83, 75, 23, 33]\n",
        "N.sort()\n",
        "print(N)"
      ],
      "execution_count": 56,
      "outputs": [
        {
          "output_type": "stream",
          "name": "stdout",
          "text": [
            "[23, 33, 75, 83, 85]\n"
          ]
        }
      ]
    },
    {
      "cell_type": "markdown",
      "metadata": {
        "id": "0HbmBGk4lAHW"
      },
      "source": [
        "### **2. Sort Descending**\n",
        "* To sort descending, use the keyword argument reverse = True:"
      ]
    },
    {
      "cell_type": "code",
      "metadata": {
        "colab": {
          "base_uri": "https://localhost:8080/"
        },
        "id": "h14-N1lplFdh",
        "outputId": "bf87c149-d870-456f-f4e8-61ded0e08737"
      },
      "source": [
        "# Sort the list descending:\n",
        "Months = [\"Jan\", \"Feb\", \"March\",\"Apr\",\"May\",\"June\",\"July\",\"Aug\",\"Sept\",\"Oct\",\"Nov\",\"Dec\"]\n",
        "Months.sort(reverse = True)\n",
        "print(Months)"
      ],
      "execution_count": 57,
      "outputs": [
        {
          "output_type": "stream",
          "name": "stdout",
          "text": [
            "['Sept', 'Oct', 'Nov', 'May', 'March', 'June', 'July', 'Jan', 'Feb', 'Dec', 'Aug', 'Apr']\n"
          ]
        }
      ]
    },
    {
      "cell_type": "code",
      "metadata": {
        "colab": {
          "base_uri": "https://localhost:8080/"
        },
        "id": "94luJKqzlYIE",
        "outputId": "c06d27dd-8d8c-4548-db5a-4dbe528991b0"
      },
      "source": [
        "# Sort the list numerically:\n",
        "N = [85, 83, 75, 23, 33]\n",
        "N.sort(reverse=True)\n",
        "print(N)"
      ],
      "execution_count": 58,
      "outputs": [
        {
          "output_type": "stream",
          "name": "stdout",
          "text": [
            "[85, 83, 75, 33, 23]\n"
          ]
        }
      ]
    },
    {
      "cell_type": "markdown",
      "metadata": {
        "id": "avU0aFC4lgDk"
      },
      "source": [
        "### **3. Customize Sort Function**\n",
        "* You can also customize your own function by using the keyword argument key = function.\n",
        "* The function will return a number that will be used to sort the list (the lowest number first):"
      ]
    },
    {
      "cell_type": "code",
      "metadata": {
        "colab": {
          "base_uri": "https://localhost:8080/"
        },
        "id": "oRB_dRZllnUr",
        "outputId": "ab5c335a-f7fb-4609-a72c-7385a8f3f65b"
      },
      "source": [
        "# Sort the list based on how close the number is to 50:\n",
        "def myfun(n):\n",
        "  return abs(n - 50)\n",
        "\n",
        "List = [100, 50, 65, 82, 23]\n",
        "List.sort(key = myfun)\n",
        "print(List)"
      ],
      "execution_count": null,
      "outputs": [
        {
          "output_type": "stream",
          "name": "stdout",
          "text": [
            "[50, 65, 23, 82, 100]\n"
          ]
        }
      ]
    },
    {
      "cell_type": "markdown",
      "metadata": {
        "id": "O_piuy8pm7-g"
      },
      "source": [
        "### **4. Case Insensitive Sort**\n",
        "* By default the sort() method is case sensitive, resulting in all capital letters being sorted before lower case letters:"
      ]
    },
    {
      "cell_type": "code",
      "metadata": {
        "colab": {
          "base_uri": "https://localhost:8080/"
        },
        "id": "GoGls11XnFav",
        "outputId": "ede20c85-3398-46f2-8cfd-0cf7f782633b"
      },
      "source": [
        "# Case sensitive sorting can give an unexpected result:\n",
        "List = [\"banana\", \"Orange\", \"Kiwi\", \"cherry\"]\n",
        "List.sort()\n",
        "print(List)"
      ],
      "execution_count": null,
      "outputs": [
        {
          "output_type": "stream",
          "name": "stdout",
          "text": [
            "['Kiwi', 'Orange', 'banana', 'cherry']\n"
          ]
        }
      ]
    },
    {
      "cell_type": "markdown",
      "metadata": {
        "id": "5xvjMA49nVZM"
      },
      "source": [
        "Luckily we can use built-in functions as key functions when sorting a list.\n",
        "\n",
        "So if you want a case-insensitive sort function, use str.lower as a key function:"
      ]
    },
    {
      "cell_type": "code",
      "metadata": {
        "colab": {
          "base_uri": "https://localhost:8080/"
        },
        "id": "2gqgRMdunXfT",
        "outputId": "9e3d3eae-4653-4737-eb6d-be9750f12efe"
      },
      "source": [
        "# Perform a case-insensitive sort of the list:\n",
        "List = [\"banana\", \"Orange\", \"Kiwi\", \"cherry\"]\n",
        "List.sort(key = str.lower)\n",
        "print(List)"
      ],
      "execution_count": null,
      "outputs": [
        {
          "output_type": "stream",
          "name": "stdout",
          "text": [
            "['banana', 'cherry', 'Kiwi', 'Orange']\n"
          ]
        }
      ]
    },
    {
      "cell_type": "markdown",
      "metadata": {
        "id": "FIdPUH74n3Rb"
      },
      "source": [
        "### **5. Reverse Order**\n",
        "* What if you want to reverse the order of a list, regardless of the alphabet?\n",
        "* The reverse() method reverses the current sorting order of the elements."
      ]
    },
    {
      "cell_type": "code",
      "metadata": {
        "colab": {
          "base_uri": "https://localhost:8080/"
        },
        "id": "t_2ExkuHn-_n",
        "outputId": "8b0e6dd9-796b-48e6-9296-f887f639d389"
      },
      "source": [
        "# Reverse the order of the list items:\n",
        "List = [\"banana\", \"Orange\", \"Kiwi\", \"cherry\"]\n",
        "List.reverse()\n",
        "print(List)"
      ],
      "execution_count": null,
      "outputs": [
        {
          "output_type": "stream",
          "name": "stdout",
          "text": [
            "['cherry', 'Kiwi', 'Orange', 'banana']\n"
          ]
        }
      ]
    },
    {
      "cell_type": "markdown",
      "metadata": {
        "id": "ZiZ02RCboUw7"
      },
      "source": [
        "## **Python - Copy Lists**"
      ]
    },
    {
      "cell_type": "markdown",
      "metadata": {
        "id": "Kuf80KtkoYk2"
      },
      "source": [
        "### **1. Copy a List**\n",
        "* You cannot copy a list simply by typing list2 = list1, because: list2 will only be a reference to list1, and changes made in list1 will automatically also be made in list2.\n",
        "* There are ways to make a copy, one way is to use the built-in List method copy()."
      ]
    },
    {
      "cell_type": "code",
      "metadata": {
        "colab": {
          "base_uri": "https://localhost:8080/"
        },
        "id": "sDNckv8VolzJ",
        "outputId": "30743855-bbf0-46a9-f00e-834e9d943374"
      },
      "source": [
        "# Make a copy of a list with the copy() method:\n",
        "Q1 = [\"Jan\", \"Feb\", \"March\"]\n",
        "Quarter1 = Q1.copy()\n",
        "Quarter1"
      ],
      "execution_count": 59,
      "outputs": [
        {
          "output_type": "execute_result",
          "data": {
            "text/plain": [
              "['Jan', 'Feb', 'March']"
            ]
          },
          "metadata": {},
          "execution_count": 59
        }
      ]
    },
    {
      "cell_type": "markdown",
      "metadata": {
        "id": "eTDiXVGcpX0s"
      },
      "source": [
        "###**2.built-in method list().**\n",
        "* Another way to make a copy is to use the built-in method list()."
      ]
    },
    {
      "cell_type": "code",
      "metadata": {
        "colab": {
          "base_uri": "https://localhost:8080/"
        },
        "id": "AyM8N4Gyphud",
        "outputId": "0debf6c6-3aaf-4519-80dc-84dad5b88004"
      },
      "source": [
        "# Make a copy of a list with the list() method:\n",
        "Q1 = [\"Jan\", \"Feb\", \"March\"]\n",
        "Quarter1 = list(Q1)\n",
        "Quarter1"
      ],
      "execution_count": 60,
      "outputs": [
        {
          "output_type": "execute_result",
          "data": {
            "text/plain": [
              "['Jan', 'Feb', 'March']"
            ]
          },
          "metadata": {},
          "execution_count": 60
        }
      ]
    },
    {
      "cell_type": "markdown",
      "metadata": {
        "id": "l05YE_T9p-Oi"
      },
      "source": [
        "## **Python - Join Lists**"
      ]
    },
    {
      "cell_type": "markdown",
      "metadata": {
        "id": "y80s29P4qCpD"
      },
      "source": [
        "### **1. Using '+' Operator**\n",
        "* There are several ways to join, or concatenate, two or more lists in Python.\n",
        "* One of the easiest ways are by using the + operator."
      ]
    },
    {
      "cell_type": "code",
      "metadata": {
        "colab": {
          "base_uri": "https://localhost:8080/"
        },
        "id": "-4lK7Iy_qO23",
        "outputId": "d674d2ab-c6a8-4c56-8255-e3966172e270"
      },
      "source": [
        "# Join two list:\n",
        "list1 = [\"a\", \"b\", \"c\"]\n",
        "list2 = [1, 2, 3]\n",
        "\n",
        "list3 = list1 + list2\n",
        "print(list3)"
      ],
      "execution_count": 61,
      "outputs": [
        {
          "output_type": "stream",
          "name": "stdout",
          "text": [
            "['a', 'b', 'c', 1, 2, 3]\n"
          ]
        }
      ]
    },
    {
      "cell_type": "markdown",
      "metadata": {
        "id": "mIkTEkooqeSS"
      },
      "source": [
        "###**2. Using append Method**\n",
        "Another way to join two lists is by appending all the items from list2 into list1, one by one:"
      ]
    },
    {
      "cell_type": "code",
      "metadata": {
        "colab": {
          "base_uri": "https://localhost:8080/"
        },
        "id": "e0ZLDS13qmHm",
        "outputId": "8117f86c-ec82-49fa-a944-b02edb3d41a6"
      },
      "source": [
        "# Append list2 into list1:\n",
        "list1 = [\"a\", \"b\" , \"c\"]\n",
        "list2 = [1, 2, 3]\n",
        "\n",
        "for x in list2:\n",
        "  list1.append(x)\n",
        "\n",
        "print(list1)"
      ],
      "execution_count": null,
      "outputs": [
        {
          "output_type": "stream",
          "name": "stdout",
          "text": [
            "['a', 'b', 'c', 1, 2, 3]\n"
          ]
        }
      ]
    },
    {
      "cell_type": "code",
      "metadata": {
        "colab": {
          "base_uri": "https://localhost:8080/"
        },
        "id": "gmMJQhQQrU_2",
        "outputId": "b15defdc-3a68-432a-d50a-95a04150f32d"
      },
      "source": [
        "# nesting of List\n",
        "list1 = [\"a\", \"b\" , \"c\"]\n",
        "list2 = [1, 2, 3]\n",
        "\n",
        "list1.append(list2)\n",
        "print(list1)"
      ],
      "execution_count": null,
      "outputs": [
        {
          "output_type": "stream",
          "name": "stdout",
          "text": [
            "['a', 'b', 'c', [1, 2, 3]]\n"
          ]
        }
      ]
    },
    {
      "cell_type": "markdown",
      "metadata": {
        "id": "GY8hgJYGqxXy"
      },
      "source": [
        "### **3. Using extend method**\n",
        "* you can use the extend() method, which purpose is to add elements from one list to another list:"
      ]
    },
    {
      "cell_type": "code",
      "metadata": {
        "colab": {
          "base_uri": "https://localhost:8080/"
        },
        "id": "I7j8WryZq6cV",
        "outputId": "e844162c-0d8e-47f8-a11d-9cc201a06cfd"
      },
      "source": [
        "# Use the extend() method to add list2 at the end of list1:\n",
        "list1 = [\"a\", \"b\" , \"c\"]\n",
        "list2 = [1, 2, 3]\n",
        "\n",
        "list1.extend(list2)\n",
        "print(list1)"
      ],
      "execution_count": null,
      "outputs": [
        {
          "output_type": "stream",
          "name": "stdout",
          "text": [
            "['a', 'b', 'c', 1, 2, 3]\n"
          ]
        }
      ]
    },
    {
      "cell_type": "markdown",
      "metadata": {
        "id": "-TXMxN26rN9X"
      },
      "source": [
        "## **Python - List Methods**"
      ]
    },
    {
      "cell_type": "markdown",
      "metadata": {
        "id": "pZpU-X1Hrszy"
      },
      "source": [
        "![image.png](data:image/png;base64,iVBORw0KGgoAAAANSUhEUgAAAlsAAAECCAYAAADJrBLTAAAgAElEQVR4nO29X2gbWbbv/+0fwcyzn36nf4N/sSO3iXzG+GDMaQ2+ySVkIocYDe7RBAZ8ozknJhiddg6OJgab4AfT2KAcJ5x4rjDGfaaVaxjI1Uw4wiZyxoSTvmI0FxHGaBI3JrKdK+Yyvye93kEP3b+HKqn+qFR/pCqVJH8/EIhVtfdee629d61aa1fVR2/fvv0OhBBCCCHEEc4BgOf/HLkthyt8b/QnAIC/Zn/jsiSdBfVKCCGESNfD/8tlOQghhBBCOho6W4QQQgghDkJnixBCCCHEQehsEUIIIYQ4CJ0tQgghhBAHobPVtvwFv/zHn+B7oz/Bf/71Xxxr5fjXi/je6E/wvX/cwbFjrRBCCCGdS13OVuUCXPm3gb0GhFDUp3FRrxxf/WMDrdiHuv//9PsaJ/55B/9Zdp6TThEhxHn2Vn+iWvvK/xbxyz+7LZ02FZltvmFyql5COhHLztbe6k8w+Ej9Xq7f4ccNOEL5D7L6/vQrPKrlvLQICnkBfLmlvdjs/bdf4Q+yv//w4f+z3tjvN2xxaAkhTnKEX0y2ouPxF7x/30DxmutPg/UScsaw5mz9eQervxX+e/tff4O/ZoV/7+4N2CLMpz8Q6qnlvLQcPxjApwDwp9/jRdVd7R+R/C0ADODTHzRbMEKIo/zgH/AuK62B//6Z+PuffoXbLRXB/ht8/m+inP82gQstXy8hnYkte7Yu/GwFf134u8rf5fDyP/3e4r6iH/0U//IDmI9uqdJ0TU/V9f8UC58BwBF+8d+Ukb3jX/93fAkAn/0UC/01yhvIv7f6E3zvn38n/vU7/FgnXaFIb2jdXZvUlbqevClFEHK28S9IDtcfHv27Mgpkau79Ef9klJasRJl+UrWtQm/Nrczpyvnlcxbxyz9L56vXDqP1p7pes/011z4hnYQ1Z+v7/w8Gxf9++c/Gjs2X//w5fvEn4f9mUmh/+AB8Pv0joaxBdOv414v43qQyTQcAf3j0eVP3dvkvC/Lit/9TtsD+BS9+J6Qab1/+O61iwsJZQ36rDuMfHn2OH/9W9sOffoVBmQ7M6mpv9SdV9fy4KmVMCNGishaggPdlR8nUPP8j/mn0C+HmrMIRfrEkrYHHv16UOT4iv/2iar+otTX3CL+YlM4HULV2WMXaumx/+4S0KhYjW3+H//qvP6r89YdHnxtuXK+kGxdqOB1qfvhjE9GtP+JR2Qn47EF1OvO3/715m1V/+Pe4DQD4HZJlef/8Bok/AcCPEPihVqG/4JdbwsIpT8f+9fk/4FNId8b+hd/grxV9/wj/nv0N/ppdweffV9c3gH95rkpnvP/f4kJtVlfltKfsPFEeQogJer4vzpcjfFMAzM5z/Pl/4x0AaY6r5572HK7MdRXW1lyNtUNcE8yvP/py6q/LemsXIZ2D9TTiD2fw1+wvBYeozG+/0A7/fvYA/1XT2dDjb/D5srDQ1Ixu/f5/ineBA/iX/yItKBd+9lPR8Skvds3g7xAQF4myvJWN8Z/9PfxaRSrOmBAhrITQK3eEsjtjE3x6b7ayAFburv/0ZyEFaFZXWud9fwJf2rQfj5Azh+V5LqTq/un3AL4/gf8o74WqOGPKOexf+E31+mpxzVWsHf/lH1TOokXqWJd11y5COog692xJmyPlG0Nte4rw+xPCXijDOnvQX/Muq3lIi8Tv8eLP0sZ4+YLjPmZ11Ro6JaTtKPxZdKIGcLHHQrnvT+A/ZBmDsmNWSTNW6m2XudkuchLSPBreIO9feCDetQDv/pd9m9PLd1lfbult0lbdGVbuAJtMJZV4hF9MinsvfvBDXDdccKQQuvKfXqi+XszqylpUjRAisPe6vKdK7WyYmOc/nBF/k7IGf3i0LqTdKunJdpmbLbIuE9JCWHO2fr9R/b6VSugYGPx//8awCtMvwpNFt1ZV+0LleyPkTwFK77WqtVfKKf4O91Tptk9/NFL7cejKgwZaTzEu1tBNnQutWV3Jzkv8D9Fp/vMObnODPCGGyB8u+fTej4XtA2bn+e83ZHP+b/D5vz1Qpt1q1HP868WGn76uOHQwWj9NrD8tty4T0jqcs3Ly8f8qADjCj0fV3g9M7hWQvQhPzMvrvZ/Fv/AAt3/7Bb78k+qC//0JLHz2K2Fx++0X+N5vlYcri10TufCffohPHx1V0gjB/6TneArO2ZePjjTlxw9kivzh3+M2focvxZcm/gID+JfnFiJfZnUlO+8Pjz7H9x6ZrJ+Qs8iffoXB0V9V//7ZA/zHz8pz38I816yv7JzUrufTe412pLyuyPsg22tqZf1pwXWZkFbBUmTrws9WNF9g+um9X5p88uVv0F9+51StzeMKlBGjT8//35X/+xe0X6Z6+19/I1vsmsj3RxAsPzTw2U8NnaELP1uRPekj47MHqpcEKp8ArQezuvIvqB58+ME/4B2fSCTEBGKqULUOmprnP5zRmJ8/wr9nZyprpObaq3Ds6uPTew+Uc/6zB6o+WFt/Wm5dJqRF+Ojt27ffef7P2UwVfW/0JwCAv2Z/47IknQX1Skgr8xf88h+F91t9eu+XdIIIcZDy9dCWN8gTQgghhBBt6GwRQgghhDiIpQ3yhBBC2h3hPYmfuy0GIWcIRrYIIYQQQhzko7dv3373t3/7t27LQQghhBDSkTCyRQghhBDiIOcAIFcqui2HKwx1dQM4u/13CuqVEEIIka6HjGwRQgghhDgInS1CCCGEEAehs0UIIYQQ4iB0tgghhBBCHITOVjuTmsPQ5Q0UZD8V1v24tX4q/rWP5S4/tvNuCGcDGv2zdNxF0uFuDIX33RajRTjF9uVuLKfclqMGDY0joW9DXd0m67BXFxxnhLQHrjpbhXU/hrq6Zc4BaYx9fBUBrl3vFf++ip+vAS9ftI5+02HhwtSyF94zQmHdX/dF2qhsI3W3HakniGZCiJWKyL2eQY/qcLN1kQ6bc/rOlI0IaQFccrb2sdzVjQe4j3mfOxJ0JKldJHyTuOSRfurp9+Igsdci0Z99vNoaRXB6FIkkF3rSIfgGqpwstxiLaTt9hBB3ccnZuoqlUhFPZy+407we+Q3c6hLTAooIzCm2L/uxnRccReG4PEVndLx8jlT3UNcc0qpjyymd8grZ/Nh+rxQ9nYwDgx7lQjt+A8HMc3zdCqlE0Rn8+b1JDG/tyvouYtA/o+PlSKm27rXqUNvXQP8K9Gxp9XytsTOHtKKMXWNJODYRyQJbN2tHljX1ZFTW6Hi9c8OqLhubR2bbKqz7MRSIA5lFTHSp03nN0oUSdVqxek6YtD8hxFa4Z0vBPpZvA1+UisiVithZG0ViVR6SzyLqfYi+w/JxIOqVL4T6x9PhEUQHnyFXqf8QYVXIPxGQysems4g+Ki+cp9i+vQisvRHL38dJJC4reYoP74Dhi2oH9gL6fFmctICzlU7GMRz0o8fjxzVfHJvqC7VB/3SP5zfwIOIV0jmlInKlPUzJInwCRvbV07+qLyZsae38LKLeXVwpFZErvcG8L45w1whOFmRj6bZ0fv1jqRdTr4W+Y1oo/3S2F0pq6cmorP5xPd1a0aez80jOKbYva7QlOj89s3vIJUOAbwU7pSJysatN14UumnPCjP0JIXZDZ0vBVSzJQvA91ycxnDlSLHLBpHQR75m9jyAO8SFv4nh+A5tbo5i/Jy3IPbP3q6JO8vJjgRDwLi+0n9/Dy0wId2al/VhLyZBMsmOcZABPv3rh7MX5QSD/3uW7V7H/wn6yXlwKjirTm0b9M+w/AMTxSncvmDX7KvSv0RcjW1o9P5h8jDEAZf1g+hmWxsXz+71AWdZGx5Ihxnqqh9pj24I+HZ9H8raEc2MxVVuqOV8PtujCFEZzghDSDM65LUCrUVj3CyH2CjUW4gpi1KgqiqJ1PIuotxtRxfFRzJsRLH+EAzPntSiFF89x4JvEF2VH9PokhiPP8XV+RrjoGPXP6LhnBk8PgVvebgwBGF57o3nHbt2+tbBqywZs35T6lNinJ7NY6U+T5pHmubJIcc053yg22dbknCCEOA+dLTmpOUxEvIiV9oQIQ34Dt7xHBoVG0ae76MqPhxArlaMXFvEMYBhGsrQqp/g6kQUyWUx0LSoPvTjF1Gyvcf/M9N8zg6elGQj7YUaw3F+sRIYA1GnfWli1ZQO2b0p9MmzVk1ms9KdJ80jz3GOcZIzmfKPYaFujOUEIaQpMI+qQfrRYdWebCEibWQvrD6ue/qt5XHOfkgU8HnggK5/fwK2AfK/JBfT5tNKFwl6u6vRiE0k9QTQzivnDYmUfSnkv0EHkibCnzah/hv2XI+jCCC37msKqLRu1vVP1mUwraurJqKzplCWs9cfxeVTdVlix4bx6zhvilC4soTEnrMhFCGkIV1/9MNQ1gmgGOIiMtMZTMeOPEZuOIyw+vbN5cQVB1SnB5H2ceIXjExEvYqrHrGsf78XU6ze4lhiRPR1k9kWIAHAVS4crgKirIe8R7hyuYLhyXNibdfDNsapcM+7E9Ukn48D0/aoN68L+l/KeEqP+GRxPzcn0KmwwrrqDN2Ffc1i1ZaO2t78+YR+W8BRd1bwz0JNuWRPHG+uP0/NI3dYzBMWn9oa6ujGRmMSOhVcrOKsLA3TmhHW5CCGN8NHbt2+/+/aTj92WwxWGuroBALlS0cTZwpNJJwu1wvBGx5tAag5DqwPKi0FqDkMBOJdy0sCaXgkhhJDOpHw9ZBqxk9B4p5YQVbrRNEeLEEIIIUrobHUU6s/zCG9slz9GTgghhJDmwjQimO6yG+qVEEIIka6H5+R/nFXOev+dgnolhBBCmEYkhBBCCHGUc8DZTfcw3eUM1CshhBDCpxEJIYQQQpoCnS1CCCGEEAehs0UIIYQQ4iB0tgghhBBCHITOlknS4W4MyT5I6wSFdb/sO2X7WO6SPmpNOgf1WLI2tk6xfbkbyylnZFPTjHHvDoIeG/tGpd3Ya9vOtR0h7YdrzlZh3a/40GqzLh6tyz6+igDXrveKf6vfBt/OyC5slX9zSLstVhtQWPfzgqlD3fpJPUE0E0KsVETOwoel7aTZtk2HzTmWHHOE2I87zlZ+Aw8Sk9gpFZErFbGzNopE4IxffFO7SPgmcckj/dTT78VBYq9F7robZ3jtDXKizWPTcYS5oBM38Q244mS5xVjMPceSkLOOO86WZwZPZZO+5/okhnGID62QMstv4JapiJs6WqNyFmvWI6YH1+cU5dLJODDoUS6EGh+W7hTGAiHgXV7mSOrp8xTbl/3Yzu9jWXFcXkadcq1dX3V6RThXSuHq21YZla2R6jU9jmohyDARyQJbNzHUJZcPEMaR9b7Xasd8xLF5dpLSalp9ra0fI/sU1v0YCsSBzCImuspjQXte2t9ffdkF7LKtEvW4r9aTkVyEkHppjT1b+SMcwIvzHuNTnWUfy95FoBKBeQasaofd0+ERRAefVSI1O2uHCFdC9PtYvg18IY/cKerJIhqBkMIoPcYYTvHhHTB88YKqlQvo82Vx0nHO1im2V5XOpb4+ASCLqHcXV0pF5EpvMO+LI9w1gpOF8vlA9Hb5/FNsX9aoT7wwjQVCwNaudJHK7+FlZrSSwtWVJb+BBxGvaLsicqU9TFWNWyP7m6EXU6+FspgWZHk621s5mgg8RN9hOUqYRfSRfA+YkS5R17nmzrdiJ3Pta/e1hn5M2Kdndg+5ZAjwrQjR9dhVSXbVvNQbR/X0t5m21UVTT/pyEULqpwWcLeHCO7x2F2Nui5LaRQIh3JmV9k0taYXd8xvY3BrF/L2rlZ96Zu/LolDKcj3XJzGcOVIsiMHkY1l/j3GSATz96oWtF+cHgfz7zri7PIiMiHfRI3gZfCNd5Az1KSDprBeXgsIFYWlcPL/fC5R1nN/Dy0wIsZiqvnL0dPwGgojjlRhtKrx4joNyCteULFJZbYzt3yjBpOREKKKEJnUJq+daON+8nczWV6OvNTGyT20U89JoHFntr2kZbLCtKerXEyHEGq47W+nwCKJYwRetcgdleh9HFlGvPJx/EwnZUUWI3ruIA2ekbSsqe7aSIRxEnqjSH/r6tET+SEPf8ijhVVyZBhLJfQCn+DqRRXBB7lTryOKZwdPDFeQD3bppFnftb0WXVvVuo52cqM+kfUxhOI7cwCZ92aknQogh59xsPB3uRvjdCnZaadOmeBdqLE8IsdJj7Whcag4TES9ipT3heH4Dt7xH9srZzozfxbxvBJvrdzFWcbJ19GkVzwCGodb3MU4yo+grRwzurWDYu4v0vQG8zIRwZ1x+roEsnhk8Lc1A2FszguX+YiWSAaAF7G9Fl1b1bqOdHKkPxvYxXY/xOGo+ds4Tm/RECDHEpciWsBGz5RwtMb20KX/XldZ+CI8f13zy8/RJPzKKbFxAn08rXSjs5apOL7Y7vZhakEW3LOrTELG+sGIz8EPl057lNm8/x8H0DeniZUkWwW5GGNvfAMO0mQwr8lvVu0N2ari+mvoxZ5+amBlHjeKUbS2hoScrchFCDHHH2Uo9QTQD6Wmg8j/XXwVwFUuHK0Blb9FD9H2p5Qz2Yur1G1xLjMjC+bJ32Iw/Fl5tIP6+eXEFQd12hb1ZB98cq353+y7aQRT7pgz0aZleTL1+hqD4RNVQVzcmEpMqx17YX3OQySIYuKoqqyNLak72u7BZuSoaYNn+tRH2ewnzxFyqx4ourerdCTs1Vl+VfszYx5J8RuOofpy1rQE6erIuFyHEiI/evn373beffOy2HK4w1NUNAMiVii5LAmHxWx1QLuSpOQwFYH+axWFaSq+EEEKIS5Svh65vkCciGu/USifjgDzFRQghhJC2g85Wy6D+PM8+Xqke8yaEEEJI+8E0IpjushvqlRBCCJGuh+fkf5xVznr/nYJ6JYQQQphGJIQQQghxlHPA2U33MN3lDNQrIYQQwqcRCSGEEEKaAp0tQgghhBAHobNFCCGEEOIgdLYIIYQQQhyEzlaLUFj3y75Dto/lLj+287pFCGkQ4YPw5r+vJ5y/nLKn9XS4Fb6HSgghzuOas1VY98s+hDqHtFuCtAT7+CoCXLveK/6tfpt8uyO7qNdp88K6nxdmu0k9QTQTQqxURE7j48rN1nk6bM7p41gghLQbLjlb+/gqMYmdUhG5UhGx6TjCZ3nxTO0i4ZvEJY/0U0+/FweJPRPRhvZheO0NcrR5a+EbqHKy3GIspu30EUJIu+OSs3UVS7JFtefiKPAu3xqORX4Dt2QRGClloo7OyCMzp9i+7Md2fh/LleNSGrA6XSLUVU4bppNxYNCjvMhofJi6kxgLhFQ2r6Vf4feJSBbYuomhrrLeNFJaqTlZZERMxa7Pyeorl9G2E6COuNZI5dYcI2bPc24sKandTmHdj6FAHMgsYqJLu85qnZeprT/9vumj7lu1LYzkIoSQ1qQF9mzt46tIFsNBfwvc0e5j2bsIVCIwz4DVDRRwiu3LI4gOPqtEZnbWDhFWXEiyiHofou+wfByIeoXjY4EQsLUrnZvfw8vMqJg2PMWHd8DwxQsqWS6gz5fFSUc6W6fYXlU6mOmwhn4vb6CAXky9LmJnbRSYFo4/ne3VrV0ii2gEQpqs9Bhj4q+JgGSn2HQW0UfiBT6/gQcRr3h+EbnSHqY86jr3sXwb+KIi5ygSq1qpLzfGkkrHOu30zO4hlwwBvhUhwhyTf/BcX+c19adrR4to2qKRsUAIIe7hnrOVKkccbiIx/aw1Fs3ULhII4c6stHdq6fUMevJ7eJkJISa7IPXM3kcQh/ggc4aCSenirDg+fgNBxPFKjGwUXjzHwfR98dxjnGQAT7+6/704Pwjk33fOnftBZES0+QheBt9IF/j8Bja3RjF/T6VfGyJ7waTkZEm/SXaqjrBJdtJGFZW9PonhzFG1M+HKWJJhsp16qKk/2+1oZAtCCGkP3HO2xh9Ld78XH7bOJnmtPSz5IxxUnWgm8lQ+fhU/XxtFIrkP4BRfJ7IIBq7qFexIKnu2kiEcRJ6o7J1F1CtPP91EotkCembw9HAF+UC3bopKkd7yLmqMDRE3x1Ld7TSKTXY0aQtCCGkHWiCNKEYHbLjjtgWtKIVnAMNVJx7jJDOKvqo0kxzpeM/1SQxv7SItRhyujNskbzsyfhfzvjg2FRfQkCxlpJfGcxjPDJ6KaT9PZKR6P1ZqDhPy9NbhisbYEHFzLNXdTqPYaEcjWxBCSJvgjrOV38At+UbYF89xAC/ON/vCqkZM0WzK33d1eQMFjx/XfMqn5wrrD6ueIEwEpM3CVcfLdXgXcTB9Q5bauoA+n1a6UNjLVZ1e7AR6MbUgi26Jutk0il4o0n1CmlWI8EAYU4G4jTIKdjEi/ahGZMuVsSTDZDuGWHlwxawdLaNhi1Z5oIYQQkzgjrPl8ePau5uVVMNEBJg/rN5b03yuYulwBajsLXqIvi9n0INeTL1+huCWTObEJHZUj6kHk/dx4i33yYuY4ngvLgVHhfMCys3I5weBg2+OVbI0IwrhIoq9R72Yev0G1xIjsvST8p1Lwt4o4cm5ckppLCazifcId5KhxmSq7CMU9pVFB59hSR01Gn8svLZCPG/z4gqCmpW5MZbkmGtHDy2d62NsR9Po2MK6XIQQ4i4fvX379rtvP/nYbTlcYairGwCQKxUbrEl48utkoVh9cZaTmsNQAIiVVI5lag5DqwPKC2Gtc9sA+/R6FmlwLBFCCGkZytfDltizdVZIJ+OAVtpH451aNc8lBBwfhBDSTtDZahr7eLVVK+2j/jzPPl6pHqEnREJvLBFCCGk1mEYE0112Q70SQggh0vXwnPyPs8pZ779TUK+EEEII04iEEEIIIY5yDji76R6mu5yBeiWEEEL4NCIhhBBCSFOgs0UIIYQQ4iB0tgghhBBCHITOFiGEEEKIg9DZanEK637Z99/2sdwlfaCYtAqn2L7cjeWU23LUQyvILshQ73cU0+FuDMk+uE20aNTOrTBO7KSxMadJas6+ukQ4tjsH152tdFgY8Gf9g7KFdb/GpNrHVxHg2vVe8W/1m+bbBdnCVvk3h7SFGrT14w6tJEtHkHqCaCaEWKmInIUPZbcLzRgv6bDSaWi0zU4b42r9aI25qnMIsRF3na3UHMLvQgj6XJWidUntIuGbxCWP9FNPvxcHib22XBCG194gVyoiVyoiNh1HuIMWc9IgvoGOc7KayVisMx1Vu9DUj2rMUYfESVx0tk6xvRpHcOEu+twTopr8Bm7JIjBS2FwdnZFHZjRC7IqQcvn4PpYr5cvpQOHYRCQLbN1URPnSyTgw6FFOfo2PVrcjY4EQ8C4vcxpr6beWfox0LqZc1+dk9enZQaCw7pfJoE7Z1rYVKm3qlzWO7BnJaGas+bGdl5eX+q4tWyOya+lZu09a5QvrfgwF4kBmERNdtVImZnVn5vx69GNm7lub2/rjTCOylJrT0Ls0DqR0UyNjVF9m4/Lm7aTdfy3bWGyjxvotT8fVGnPVKTsrbfmx/V67r7Xqrei15jVHjdHcNyEzcQ3XnK3C+gyig8+wNO6WBFrsY9m7CFQiMM+A1Q0UcIrtyyOIDj6rRGZ21g4RtjiQE4GH6DssR3ayiD7aB9CLqddF7KyNAtNC/U9newGc4sM7YPjiBVUtF9Dny+KkrZ0twdGWO5LpsIZ+L2+gUFM/ZsgiGoGQKig9xpj4q7YdAOQ38CDiFc8vIlfaw5RHXp++LDXr1e2fNnp1meq3dxdXSkXkSm8w74sj3DWCk4Vy20D0trJteXs7a0DUK41tY9m19SygP3d6ZveQS4YA3wp2SkXkYtUf17aqO1PyWtCPmfYtzW3DcQb0XJ/E8Nau5JS+B4Z9cbwqX2jzeeQRwpWq9bP+MdpoedN20u1/FlFvvWOx1vqt0q2JMWfc1im2b8vbuo+TSFyznrFACJDZEvk9vMyMittD9rF8G/ii0sYoEhoym8XqXCHNwx1nqzzZagxy10jtIoEQ7sxKe6SWXs+gJ7+Hl5mQQt6e2fsI4hAfLDg9waS0qFRHdtQc4yQDePrVjkUvzg8C+ffttm8LOIiMiHdbI3gZfCMtcvkNbG6NYv6eSr82RPCCSfXF38gOsgua5bZq1FtH/6yNFa3y5X734lJQuHCWb2x6+r1A5khRn7w9xdg2KbuWngGIF5YG5o5V3VmW10A/puuzai+DcebxwFM55xRfJ4A7C6HKvC+8eI6D6RvaOteh8XFl1xiv3f+6x2Kt9dtC/yoYtSWOa0VbyZB2XeM3EJT1t/DiOQ4q20OUMvZcn8Swam7aJjNxFRecLeGOwFNrcXYbrb0j+SMcVJ3YCRGm5lLZs5UM4SDyRBUVzCLqlYe/byLRbAE9M3h6uIJ8wImHNlqgf5aQj+0GZLdl7lht325d21yfqXF2FVemyzdVxzgZvIExzwCQ2EMBp/g6kUUw0GI3q2b1ZHmeWRiLtu7902lLc1zXQrBlIimkeb9OZBFckBwsRUrVu2ihXosyE1c51/wmhYhNItCtHASZEQwlVrDj9gZF8a5CIYNnAMM4Up14jJPMKPpU4X9igvG7mPeNYHP9LsYqd4YhxKpSUC7gmcHT0gyEvSkjWO4v2pTqbpH+mUY+thuQ3Za5Y7V9u3XtgO1MjLOxQAjh1T0U+o+Qv3gX8FzANczg67wHJxmtFKLbWNCTpXlmcizmob1+141ef7TGdW3G7q1g2LuL9L0BISJW7mtqDhMRL2KlPaGd/AZuec3Xa01m4iYuRLauYqmSqy/vmRCjHm47WmK4d1P+XqvLGyh4/LjmUz49V1h/KHtSUEjtCXcuECZMQDt/r4sipH8BfT6tdKGwl6s6vdhO9GJqQRbdEvW7aXSHq9CPTTqviaB/c7IYYLZ/pnCm34mAtBFZMbYbld1w7pgrb7p9W3VtY301x4vOOBMfhvkqeSjO916cH8zi5NEuEmZSiBZThA2Vr1tP1f2veyzWWr8tSgSYaEtM827KN7nrzcNyfbf107/pR3qRLYO5b/fYJ9EwBMwAACAASURBVLbi+nu2WourWDpcASp7ix6i78sZ9KAXU6+fISg+nTPU1Y2JxKQiCjcWkx33HuFOrfx9DYRcvfB0jBBWFybWwTfHqjM7JKKm2MfQi6nXb3AtMSILfyvfeVOtn8Z1XkVqTtb+SM0HOLRk0ce4f1awvd8YxXxyEi/F9MNExItYZWw3Krvx3DEub6V9e3VtR31V48XkOBPST1kktryVKNZYIITEVtwwhWh9jDZa3oKeDPofTN7HSV1jsdb6XQ8W2/Ie4c7hCoZ16rsUHMVBRpX+HX8svAZHrH/z4gqCOlLpz327xz6xk4/evn373beffOy2HK4w1NUNAMiVii5LUoPUHIZWB5QXptQchgJo6VBxy+uVENKCCE+unizYlbonxH3K10NGtloZjXdqpZNxoI6nkAghhBDiDnS2Whr153n28Ur1aC8hhBBCWhumEcF0l91Qr4QQQoh0PTwn/+Osctb77xTUKyGEEMI0IiGEEEKIo5wDzm66h+kuZ6BeCSGEED6NSAghhBDSFOhsEUIIIYQ4CJ0tQgghhBAHobNFCCGEEOIgdLbajdRc1beuCut+2ffL9rHcJX3Ita3R6Kul4wpOsX25G8sp26TTJR3uxpDs48tnB0HPjX6TzUn9KecL0cZ4vlizUSusS81dAyxjaT1TY3Xetbgumkwz1muXnC3ZwCj/64ALU2Hd70I/9vFVBLh2vVf8W/3W+dYiHRbs7fQkd8cW7YNj+kk9QTQTQqxURM70x6aNSYfNXUSM+6WeL+2Buv/tN76tr0uN9rH9dNQABvPuTOlCA6v9t2+9kXA1shVMFpErif9i/ARNXaR2kfBN4pJH+qmn34uDxF4Lfuld+NxQcHoUieTZnfgdj2/ANierzFjMJudNY760A7b130Vad13qEByYd2cVJ+Yb04hVqKNuc0iXD+U3cEseCq/8LZSZiGSBrZsY6uqWpSl06quEcvexXDmuCrXnN3BLfuy9Utp0Mg4MepSDQuMD1i2BeKH7+b1JDG/tyvQgYtBXw+MAyjrVtgUgpDNq6FrXVtrtmDvX6PxTbF/2Yzsvl20OaUUZK7Lqjava+ims+2X11Ur51G63sO7HUCAOZBYxUStarbCh+QinOsxfLauR3cV6tOaLri7F9Nf6XG071+yT/vyuTl0I52vKXTm33rWmRj8M7aE3X9QYzAnT61K9fTRT3qhPdq0Bja/tZtvSn3dN0oXmONJIVSpSpVpjstZ8s3+908Ou9UaOq85WImB2EjePdHgE0cFnlYjbztohwuXB4ZnBF2tA9PYGCjjF9u1FYG0DU55eTL0uYmdtFJgWyj6d7TWuTyQReIi+Q+F4bDqL6KOykcttvBHL38dJJC4reYoP74DhixdUvbiAPl8WJy2i0zLpZBzDQT96PH5c88WxqRicxn3VP16mti0APV2bs1U955o7P4uodxdXSkXkSm8w74sj3DWCk4Xy+eVxZ7597b7W0E9+Aw8iXiENUSoiV9rDVFX05xTblzXaFRe+ntk95JIhwLeCHc1o9T6WbwNfVMqOIrFaxx4VTVn17V6Wv3q+6PepYpsIxPYeY8xin2qNubFACJDfdOT38DIzapDibGStUffDmuw7a0DUW/uCa9y+2XWpVh/N2EpfR+o+Ob0G1L+2y2lk3jVDF/tY9sr78gwwPa+15lb1b7avd1aoe71R4pKzJQgqKU5/EjeN/AY2t0Yxf08arD2z9xV3Y8Lfi3hweQZRrOALPQWbqA8AgknpwjYWCAHv8sIgyu/hZSaEO7PSfqylZEjWwDFOMoCnXy1DL84PAvn3LbRvS9SFcCHpxaXgqDKlYNRXQ12Yo7auzdkKVs+1cH4wWV5sBP1g+hmWxsXz+71A5siSrDX7WpM4XulFmkQbxGKqdnGID6Yc+6tYkoXme65PYrjcJ8sYyKqJxnwx2SfJNmqM+1TTDuM3EJT1o/DiOQ6m72s4uSawPMasy65ra1PtN7guNTz+BJq5BtS/ttvfby1s0UVqFwmo+mIhBac1txS/ObbeWaGe9UZJS6QRhYHTeGfsIYuoVx6uvImE4rgwKQ4yWQQXzAwoo/p0yB/hwHoHWpLCi+c4kO2VERZ22WQx6mtTdGHFVlbt2sA4aEZ9nhk8PVxBXow2a4bENW1gLYqqCMd7F+uzqRlZzeJqn67i52vl/Yun+DqRRTDQyN5V62PCuux6erF7jKuwwVbGOLkGyLCynjWl31pY6J/j+8UcHlt62LTenLNZrPrI55HHKK61xKbVEGJVqQI5+1gOHGJ+LYRoYA5XdM81U58OngEM46ieki2GcCFBJouJrkXloRenmJrtNe5rU3RhxVZW7drAOGhKfRAWldIMhL0UI1juL1Yia8JxLRsc4yQzij4zczc1h4mIF7HSniB3fgO3vHXa1EhW0/W426ee65MYjuwifW9AiHTU04cKFsdEXbLr6cWBMSmnUVuZwsk1QIaV9awp/dbCQv/EiKhzDpfDY8sIG9YbVyJb6bByj1b60aIi6uEamnuJlKTDN5GYvo+p2bvCvhr1JmB56NJEffryeOCBrHx+A7cC8rz+BfT5tMLywt6U6vSiS6SeIJoZxfyh7OlTcY/IQeSJkD426quhLjSwEka2Yiurdm10HDhVX039COOqVrthxcbRh3U/3Zd+VGdkS4GGrAb9UswXt/tUbt+7iIPpG9YuJnauNdCWPRGQ1mpdvZhqv3pdMny/kUYfLdmqVdaAqvIW1jO7xqhTuhDT4Zvydz1e3kBBTBtXnjw3s2Y3KosetqQVraw3SlxxtsYCXkVIMPxuBTst8VhzL6Zev8G1xIgsXNktPT2RmkN4q5w778XUlysY3npYWYyE1JjwRIgQajSoz5CrWDpcASJiee8R7hyuYFgm7/lB4OCbY1W5Ztz1mCedjAMae1GU6WOjvhodV9VdZQsjrNjKql0bHQf211eln9ScrC5hM2r1nVsvpl4/Q1B8+maoqxsTiUnzc3f8MWLTcYTFspsXVxC01G8RHVn17a41X9zuk7g/D7CUQrRlrTGUfRTzyUm8FNfqiYgXsZp6MdO+tXVJu4/mbdVaa4AaK+tZg2MUTutC1Zeuh+j7UpBtLCaT23uEO3Xss3VkvbNC3euNko/evn373beffGyt8Q5hqKsbAJArFV2WpAFScxhaHVBOvNQchgJwLezaEXolnYnWfHEbl+dr01D3U0xb3un0fpMzTfl62BIb5EkDaLy7RogkWUxJEHIWaMF30J2V+aruZ+HFc2Dtbsf3mxCAzlYHoP4MhvCWdvljsoSQMq32Oat9vNqylkJsT6rXpZ7ZPevvPCKkTWEaEUx32Q31SgghhEjXw3PyP84qZ73/TkG9EkIIIUwjEkIIIYQ4yjng7KZ7mO5yBuqVEEII4dOIhBBCCCFNgc4WIYQQQoiD0NkihBBCCHEQOluEEEIIIQ5CZ8tuUnMNfPOumsK6X/bNpX0sdyk/4k1agVNsX+7GcsptOURsHoPmEfRg/rtlduvNavvOYviR5TNFo7ZusTnWMA6MVQfmPcewfbjqbBXW/bIPPLaGE5EOt8ZCLbCPryLAtevltyy32tuvzSJbWCr/5pC2UENh3d8yk95pWVprDFog9QTRTAixUhE5jW8POm5DjfYb0WUrjTknsLN/aj03Wnen6b5qHNo8Vknrc86thgvrfuHL5aW91vkgLICxWBE5t4Uok9pFwjeJHY/0U0+/FwereyjMttCHdE0yvPam8nmOdLgb4fAN5GKd/pkS67TUGLSKb8Ddcalqv6112UZQz/po6odj9UzhUmRLiNjMf9l6DoMybFoOXe9juVYELr+BW/Jj79U1qqM6sohOfgO35PWp/k4n48CgR6mjFvyQbj2MBULAu7zsLq6WnoTfJyJZYOsmhrq6xbSqRlpBEUYXU67rc7L6jO2pH22tJUsZnXGiNw5UtNIYNFtPYd2PoUAcyCxiokudenBeb7XaV+pSa0xo2dxIXmuymTv/FNuX/djOy3UhjVnrutEbN8b9q4ospeZU9Qv1luefpOdGbG1GNnvmmPY817KBxTYUc1FLP2bHqtW2tOZ9ddvyeit6rSFzNUZrrgmZzzDuOFv5PPIAXt6WGaWFQ8aJwEP0HRaRKxURm84i+kh2Iby9CKy9Qa5URK50HyeRuKJsOjyC6OAz8XgRO2uHCJcHp2cGX6wB0dsbKFTq2sCUR6j7wztg+OIFlTQX0OfL4qStna1TbK8qHcnaeurF1OsidtZGgWnhuPmP12YRjUAI1ZceY0z8taY98xt4EPGK5xeRK+2JtiijL0vtcWIwDkzgzhiUc4rtyxr1iItpz+wecskQ4FvBTqmoilg6rzf99uWoxoSmzc2NOas2NT4/i6h3F1dKReRKbzDviyPcNYKThfL5ZTuZb19bt8b967k+ieGtXcmZfg8M++J4Vb7Q5vPII4Qr4+pe1m/rRsubtofuPM8i6pXa2FkDol7JYdBvYx/LXvlcfAas1j9W9dsynvdlxgIhQGZL5PfwMjMqbk/Zx/Jt4ItKG6NIaMhslkbXuU7GJWfrCAcArn0pDvbDFQxv3WzZzY/BpDQZFRGZ/B5eZkK4MyvtqVpKhqSC+Q1sVn3p/r4iMiX8vYgHl2cQxQq+qNR1jJMM4OlXL/K9OD8I5N+3274t4CAyIjrXI3gZfCMtMib0VC/BpORkSb/VsCcAQHZBsdxWrXHSeP/cGYMyxHZiMVU9OMSHhm3knN6021OPiTpsblU2k+dLsvXiUlBwOJZEh6an3wtkjizpRn+s6+DxwFPRyym+TgB3FkKVdafw4jkOpm9UzS0j6pbHqLzlsVLb5vI2FGPcqI3ULhJQzUWNvYumMGrLaN7LGb+BoKy/hRfPceCbxCVPtYw91ycxXB5jdst8xnFxg7wX58t3Ex4/rvna0IEQnUZ9soh65WHVm0gojguT5CCTRXCh9dKqdjJcvgtLhnAQeaIKLxvpqQl4ZvD0cAX5QLdO6qheHOpfs8agZjvNiLI6PC4asrlV2ezui5O6uYor0+U1+Rgngzcw5hkAEnso4BRfJ7IIBlptv6VJfVi2uXyMG7Rh655FnbZMzfsygi0TSSHN+3VCOc8VKVXvooV6Lcp8xnFng7xnAMN4jg95YKwqXdFGeAYwjCODk0KIlaqjKxL7WA4cYn4thGhgDld0z+0Qxu9i3jeCzfW7GKvcmRnpqUl4ZvC0NANhb8gIlvuLlchCYzjUv2aNQc12jnGSGUWfo3O4CeOibptblc3uvjirm7FACOHVPRT6j5C/eBfwXMA1zODrvAcnGa0UottY0Iclm8vHuE4beVQij/Y4XHr9MTPvJcburWDYu4v0vQEhIlbua2oOExEvYqU9oZ38Bm55zddrTeazjTuRLY8f13xZ6RUGqSeIVnLIbYQYat+UbzQMyPLmHj+u+WTHNUiHbyIxfR9Ts3eFPRqVvWsX0KcZ7RP2clWnF9uJXkwtyKJbJvQEQJVyENKpwt0aqnXfMIL+zcligNn+1YOjY1DejlCP/Fhh/SESlXSESVpFb5po2LyWvFZls7svdtWnZw/xYZyvkofietOL84NZnDzaRcJMCtFiirCh8nXro9rmiYC0KV4xxo3aENN1m/L3Ita7X8moLaN5X6u+2/rp3/QjvciWwZrb9PnaXriURuzF1JcrQHkPTyCuyJO3D1exdCjrh/cIdw5XMFw53oup129wLTEiC6t2S09vpOYQ3irvgxF0Mrz1UJzowsA++OZY1WYzoglNQLGPwEBPKO8lEJ7eKYf9x2LPEBSfWBryHuFOrT0LZknNydoXNnpq3e1qyaKPcf/qx8kxqO6DTN9d3cKrWyzsSWktvYno2FxfXquy2d2XxusztsdVXJnOIrHlrUSxxgIhJLbihilE67ZutLwFfRjM82DyPk7EVNhExItYZYwbtaGai10P0Vf3E/cW26qa99X1XQqOClsF5LYbf4zYdBxhsf7NiysI6kilv+Y2Yb62MR+9ffv2u28/+dhtOVxhqKsbAJArFV2WpAapOQytDigvaKk5DAXQ0qHaltcrIYRUITxxe7Jg19YBQqTrIT/X08povFMrnYwDdTwFRAghhBB3oLPV0qg/z7OPV6pHawkhhBDS2jCNCKa77IZ6JYQQQqTr4Tn5H2eVs95/p6BeCSGEEKYRCSGEEEIc5RxwdtM9THc5A/VKCCGE8GlEQgghhJCmQGeLEEIIIcRB6GwRQgghhDgInS1CCCGEEAehs9UGFNb9su+D7WO5y6/x7boOJDWn/10to+Mukg53Y0jrg85nklNsX+7GcsptOexC6I+t331r4bFMCGkcd5wtxYdA5f/mkHZFIIl02L0PZxbW/RoX6H18FQGuXe8V/1a/Vb69SIcFW3fOhbc90R5r9pRtpO5WpGpNSD1BNBNCrFRETvxuqZvrRr2oZdayWzv2i5BW5JwrrY4/Rq70WPFTOtyNMNz/5t9YrIicyzIoSO0i4ZvEjkf6qaffi4PVPRRm6/2ivFsInxsKTgOJ5D6WxvnZIdL6aK4JvgHF3Gu5dcMEZmRux34R0oq0Rhoxv4HNFvnmnzL9U05/7GO5En1TpvAK635ZZE5+TJZqqIraianA9blKuVuXuzERyQJbNzHU1V1JG6aTcWDQo3SqND5Q3RaIjuPP701ieGu3OoqZ38AtuS7fWzte2xa16pBH2IxtrUTPvlbPP8X2ZT+28/K255BWlFHLYlRfrb4Ix7TGmrGejMoaHdfTrXl9attZS4cW26gxNuRrQmHdj6FAHMgsYqJL+r06bWylLY2xrqinsX7VmheSzLXtZq1fVucQIWeHlnC20o8WcTB9H1Me43PdIBF4iL7DInKlImLTWUQfiYtPfgMPIl4hnVAqIlfaq/QhHR5BdPCZ+HsRO2uHCCvC8VlEIxDL7uHp6yJ21kaBaaHM09leAKf48A4YvnhBJdEF9PmyOGmzRSydjGM46EePx49rvjg21Rfq24vA2htRZ/dxEombP65jC4l9LN8GvqjYZBSJVWWKpKat1X0xtK/V87OIendxpVRErvQG8744wl0jOFkonw9Eb0vnm2lfuy+9mNIca2b0ZFRW/7iebk3rU9fOWUS9Uhs7a0DUKzkD+m3sY9krH1/PgNXq9ntm95BLhgDfCnZKReRi2jeI+m0ZjXU1ev06xfZljbbKTpCpeWFmTJhoS8TsHCLkLNECztY+Xm0BwYD7Ua1aBJPSAjUWCAHv8rJFOI5X6v1HGpG6ntn7VdGoYPKxQdr0GCcZwNOvXvh6cX4QyL9vo31bok6EvWe9uBQcxUFiT9Jjfg8vMyHcmZX2pi0lQ7LyBscBaNpCwVUsvZZSrz3XJzGcOVJcUPVtreyLkX2tni+NB0E/mH6GpXHx/H4vUJbVdH0m+qKJsZ7qoaY8VvWpY2d5Gz2z9xHEIT7kTbSR2kUCqvH1us40vVFbpsay2X4JdcViqrbKxwEYzwuz/TLTViPjjpDOxXVnq7D+EAnfCn4+7rYkdeCZwdPDFeQD3RopkyyiXnm4/SYSrgnqPoUXz3Hgm8Sl8gXj+iSG5RfT/BEO9CowOq5rC5kc8pSKd1G/Tl2s2tfu8eDs+LJPT2Yx2R+TdpbXK0WADdpQ7cNqDJ22jMayyfpP8rXqkkW+LetLB6O2CCE1cWeDfIV9fBXJIpjca7ON3jI8M3hamoGwH2UEy/1FLHkAIIRYyShydVY4xdeJLJDJYqJrUXnoxSmmZnsBzwCGcVS7CqPjgLYt5E58ag4TES9ipT3BLvkN3PIa1FkTq/a1ezw4OL5s1ZNZLPTHyM4KRtFXSZvptJFHJXJoz1qk1x8TY9mQcr+06jrGSUbWb0v60kFzDqraIoRo4mpkq7D+EAmEcKUdo1pVXECfT/yv5p4kkyhC7kKd1elCYS9XdXqxRUk9QTQzivnDYmWvR3kv0EHkibDfw+OBBzKd5TdwKyDbx2J0XIHMFjqkH9UZsbFq30bGg5P1mUzvaOrJqKyV1FHd/am2cyIgbcgWouZiNNWojfEbCMrHF/axXO8rD4zasjSWBYz6FZZtYlccV2BiXujZzVJbhBA5LjpbQlRreO1u+0Z/FO8LEzaOCneMvZh6/QbXEiPK94gZLN5Cak14ykkI9wt7sw6+OVad2V53k+lkHNB4AELY71HeT3IVS4crQETUmfcIdw5XMFw52+B4TVvIGH+M2HQcYfG8zYsrCNbVI6v2rW882Nd+NdVjTYaBnnTLmjjeUH8M7BxM3seJmL6biHgRq+y7MmpDNb66HqLvy3pfrWKxraqxXo1+v54hKD5FONTVjYnEJHbKx83MCxFjuxm0RQipyUdv37797ttPPnZbDlcY6uoGAORKRZcl0SE1h6HVAeWClprDUAAtm6ZsC72SDkN4Uu5koc4UWcvSqf0i5GxQvh66vkGeGKDxTi0hUuT+C2AJIYQQYgydrZZH/Xke4S3srfACWEIIIYQYwzQimO6yG+qVEEIIka6H5+R/nFXOev+dgnolhBBCmEYkhBBCCHGUc8DZTfcw3eUM1CshhBDCpxEJIYQQQpoCnS1CCCGEEAehs0UIIYQQ4iB0tgghhBBCHITOlgsU1v2yb4/tY7lL+sgs6VROsX25G8up5rSWDndjSPbB4LNNc3XvPEJ/Gvu+porUnH11EUKqcM/ZUnwg1ewHazuBfXwVAa5d7xX/Vr8hvhORXRwq/+aQdlssByms++ns6NCIfozKdpru02GVU5V6gmgmhFipiJz4zdSqc9oAtcxadmvHfhGixTl3mt3HcuAQ84dFTHkA5DdwyzuD7et7wt+dTGoXCd8kdmT97On34mB1D4VZ2cemO5DhtTd4Ois4melwN8LhG8jF+NkhQvQYixWRU//oG1CsFZrntDhmZG7HfhGihTuRrXweeXhxvuxweDxoDR/rFNuX/djO72O5EoFRp/jUURp5hMa4fDoZBwY9SqdK42PTnc5YIAS8y8vuWK3qdQ5pRRnzdqpOsQnnStFVPVnEO3CD8TERyQJbNzWitvWOLTVWzm2ufqW0nVZfjfQjkt/ALVkkVEgBGpVtju617d/o2lGrz8rxWlj3YygQBzKLmOiSfq81ps215cf2+xqdtaFfteaLJHNtu1nrl964I8Rd3HG2PDO4Mx1HuLKg30R+baNFolpZRL0P0XdYRK5UxM4aEPWWJ/Qpti+PIDr4DLlS+fih2A9z5T+8A4YvXlC1eQF9vixOzsyicIrtVaXTmQ5r6FWRPsgi6t3FlVIRudIbzPviCHeN4GRBpufb5fP17TQWCAFbu5LN8nt4mRmtpHZ1Zclv4EHEK6RwSkXkSupobC+mXhexszYKTAt1lKN5AJAISGMjNp1F9JF0ITHWAeo61379mmtfu6/6+hHYx/Jt4ItK3aNIrG6gYFi2CbrXtb/e3DdqYx/L3kVg7Y14/BmwWt1+z+wecskQ4FvBTqlYMzKs39Yptm/L27qPk0hcsx7jfhmsiYbzxdhuEmbWX307E+IWru3ZGosVEZsWFvQoVvCF5uRyh2BSWhB6Zu8jiEN8yEO8KIcQky1wiuNG5XGMkwzg6Vf3tRfnB4H8+07etwUcREbEu80RvAy+kS4U+Q1sbo1i/p5Kr6poXzD5GGMAgF5cCgoL89K4eH6/F8gciQ6RgZ3GbyCIOF6JkYPCi+c48E3iksesLFJZq8jHhiK6Z1IHVvRl9Xzz+jVbX42+GnIVS6+llHrP9UkMl9tuAFt0D0DP/rXXDoM2UrtIIIQ7s9JeTrkOLGHUljg/FG0lQ7pVNrYm1j9flP2yvv5aG3eEOIdLzpYQ5n0VEO9Ogs8x0dLhXjHqlD/CQdUxM1GpsxS1qs1w+U46GcJB5IkqTZNF1CtPD9xEot6GDO10FVemgURSSGF8ncgiuCC/sOnI4pnB08MV5ANOPNhhRQdW9WWjfh2pT4ki9eRd1LCn3Zjsj2X7y+e+QRuqfViNodOW5vywXr+pNdHO+VL3+kuI+7iyQb6w/hAJ3wp2ynfNsxuYT4zg5YtTTLVQhEtiFH0eABjAMI5Ux45xkikfNypPAADjdzHvG8Hm+l2MVewdQqxUjqw0iMfYTmP3VjDs3UX63oBwlz8uP9dAFs8MnpZmINw0jGC5v1iJADWGFR1Y1ZeN+nWkPhmpOUxEvIiV9oT68xu45VXb024s9MeS/eVzX6eNPCqRQ3scLr3+aM0Pq1hYE+2aLybmNSGtiiuRLUVKAhDDw1rpNXdIBKQom+AYiikmjx/XfHGEZRs2FceNyuMC+nxa6UJhL1er9N95ejG1IItuiXrdtCtKZMZO5TZvP8fB9A3pomRJFsGeNbGSvrDSrlV9OaTfhuszqZ/0I43IllFZp3SvoNr+RmtHzTbE1Pam/P179b7ywKgtjwceeVv5DdwK6O3ZanxNFDCYL4C+3Sy1RUhr4U4acfyxuF9LShNg7Y1N0YHGCSbv40QMwU9EvIhV9k70Yur1MwTFJ2aGuroxkZjEjmpvhV7584PAwTfHqhbP4N2ZYt9UL6Zev8G1xIgs7dHI+3XM2EnYl3SQySIYuKoqqyOL4v1wwmZdrXEr7DMSnhgzlzqxogOr+nJCv43Vp6sf1fqweXEFQbNlTRxvqD8G9tdfO/TauIqlwxWgsq/xIfq+rPdVMBbb8h7hzuEKhnVqrHtNNDlfADN2M7f+EtKKfPT27dvvvv3kY7flcIWhrm4AQK5UFH8RnnY5Wag3LWSifGoOQ6sDygUiNYehAJxLyzSZar0S0uk0una0Kp3aL0KaQ/l6yM/1NBuNd2qlk3FAnsoihBBCSMdAZ6vpqD/Ps49Xqse0CSGEENI5MI0IprvshnolhBBCpOvhOfkfZ5Wz3n+noF4JIYQQphEJIYQQQhzlHHB20z1MdzkD9UoIIYTwaURCCCGEkKZAZ4sQQgghxEHobBFCCCGEOAidLUIIIYQQB6Gz1YEU1v2yb4vtxACAngAAEDVJREFUY7lL+ogscYtTbF/uxnLKbTlakUZ102m6FfrT2PcrVaTm7KtLJB3uxpDso9CEkNq452wpPlBKZ8A+9vFVBLh2vVf8W/3GejeQXTwq/+aQdlEipyms+x29EKXDygux0+01gt2ytnJf60GtH6SeIJoJIVYqIid+Q7XqHEJIW3HOlVZTcxgKHGL+sIgpj/i3dw7nO+RDzK6S2kXCN4kdj/RTT78XB6t7KMzKPn7tAsNrb/B0VnAC0+FuhMM3kIvxM0X1MBYrIue2ECZpJ1ndQFM/vgHFXKUOCWlvXIlsFd4fAr5JXCo7BOM3EMQhPrge3RJTbutzquiLOjIjj8qcYvuyH9v5fSwrjsvLqCN3teurDs0L50ppQT1ZxI9aD3qUTpXGx6/dZiwQAt7lZXfq7aPjwrpfJyorlJ2IZIGtmxjqktcLCGPMusxqpD7otWe3TmX9l+svNaeqW6iznNYzJ6uRbpqnW237aunLYhv5DdySRXer9SO2HYgDmUVMdEm/1xqz5tryY/u9dl8N50INmavRSOVWpS7N24CQTsMVZ6un3wtkjlQh8SxOWsIZyCIagRDCFyNt6fAIooPPkCsVkSsVsbN2iLBiEcki6t3FlVIRudIbzPviCHeN4GShfD4QvV0+/xTblzXqExeesUAI2NqVFqH8Hl5mRitpQX1ZTvHhHTB88YKqTxfQ52sV/QLAKbZXlU5h2+g4v4EHEa84PorIlfaE6GyFXky9LmJnbRSYFuooR/MAIBF4iL5DoWxsOovoI+lCZ6wDLWq3Z69OJXquT2JYpr/Ce2DYF8er8oU2n0ceIVwZNy+rkW6apltd+2YR9Upt7KwBUa/ciddrYx/L3kVg7Y14/BmwqqHb2T3kkiHAt4KdUrFm5NdoHdi+LW/rPk4icc169OfCPpZvA19U2hhFQkNms9Q3vgnpDNzZszX+GLHpOMKVO5yHyPtckUSTYFKWzsxvYHNrFPP3pEWvZ/Z+VaRIKtOLS0HhYrAkXmwUzmV+Dy8zIcRiqvrKkb3xGwhCunAVXjzHQTkKaCjLMU4ygKdfugBBlOn8IJB/7+a+LeAgMiLaewQvg2+kC0lb6RiArKxVgknp4q2I7pnUgWns1qkcjweeig5O8XUCuLMQqoyvwovnOJi+YXlLQE3dNFresm5r21fehmJMGbWR2kUCIdyZlfZSLr2uM61v1JY4/hVtJUPadenNBZWMPdcnMaw1HuyQmZAOx7UN8mOxYuUOJ1e6D0/GLUnMkEXUKw9/30Si3qryRzio+lEeebqKK9NAIimkXb5OZBFckC/KNsrSZIbLd9rJEA4iT1QphDbRsWcGTw9XkA90a6SxGsVu2zo1VgT9Cc7VMU4Gb2DMMwAk9lAo6zPQanvxTOrCsn3lEWODNlT7sBpDpy3N8V8L/bmgSKl6Fy3Ua1FmQjocdzbIqxHv+mJVaYdWIYSYXZv3PQMYxpHqx2OcZEbRV74rv7eCYe8u0vcGhDtUhV5slMUtxu9i3jeCzfW7GKvcfbeRjj0zeFqagbBHaATL/cVKNKgx7Latc2NlLBBCeHUPhf4j5C/eBTwXcA0z+DrvwUlGK4XoNhZ0Ycm+0pjSbSOPSpTQHodLrz9a4782NedCag4TES9ipT2hnfwGbnnN12tNZkI6mxZ4z9Y+lgNxDK/dbc1J6PHjmi+OTbsiGGJ9Ydmm1ML6QyTkDwyU27ytSscYynIBfT6tdKGwl6s6vegWvZhakEW32krHcgR918RKGswOHcjbs1unasSHLr5KHorjqhfnB7M4ebSLhJkUosUUYUPl69ZFtX0TAWlTvGJMGbUhpus25e+/q3e/klFbYpp3U77JPaC9Z0tRn3ouqEg/0otsCVsVhAiZRptOj0dCWhx3nC3FEy43kZe9EqD16MXU6ze4lhiRhb8beedNL6ZeP0NQfJpqqKsbE4lJ7Cj2bwj7Zw4y6nSMkSzCgnfwzbGqTWVUpyVQ7BVpIx0r3g8nbPjVinoI+1uEJ8rMpRob00F1e3brVM1VXJnOIrHlrUSxxgIhJLbihilE67pptLwFXRjYN5i8jxMxFTYR8SJWGVNGbVzF0uEKUNm3+BB9X9b7KhaLbXmPcOdwBcM69WnOBdXe2s2LKwjqSDUWk8057xHuKPaJOT0eCWltPnr79u13337ysdtyuMJQVzcAIFcquiyJjaTmMLQ6oHQsUnMYCqBpIfyO1Cs54whPuJ4s2JUyJoScBcrXwxZIIxJb0XinVjoZB+p4OowQQgghjUNnq+NQf55nH69Uj1wTQgghpHkwjQimu+yGeiWEEEKk6+E5+R9nlbPef6egXgkhhBCmEQkhhBBCHOUccHbTPUx3OQP1SgghhPBpREIIIYSQpkBnixBCCCHEQehsEUIIIYQ4CJ0tQgghhBAHobPVYRTW/bLvxe1juUv6cC5xi1NsX+7GcsptOWSk5pr8XTpBB+a/h2evztLhbgzJPkxOCCHNpOnOVmHdjyGtD8gqPk7dYhemtmEfX0WAa9fLH/VWv03eLWQX2sq/OaRdlsopCut+XtjVpJ4gmgkhVioi97r6A8zN1lk6bM7poy0JIXbQRGdrH8td3XiA+5j3aRzzLgJrb5ArFZFLhpAIMCJjmdQuEr5JXPJIP/X0e3GQ2GtiBKM2w2X7loqITccR5kXsbOEbqHKy3GIspu30EUKIEzTR2bqKpVIRT2cvVB9K7SKBEO7MihGZ8buY92Vx0nRnS0y7rc+poi/qyIwUlalOTwjnSpG72mVrtVeO/gn/5E6nXl3iB6cHPcoLiMaHqVuBsUAIeJeXOYHtoePa5aSyE5EssHVTI4Ir3HDolTUX+bPeX2Xk2I/t9zbUabJ8Yd2PoUAcyCxiokvbls7rTIl6TFXb1UguQggxT0vs2Sq8P9S8682/d2NxyyIagZDuKD3GGIB0eATRwWeVqMzO2iHCYgpiLBACtnalRT6/h5eZ0UoqT6+sZnv5DTyIeMW/i8iV9jAlRqr06zrFh3fA8EW1M3sBfa44rnqcYntV6Ri2hY51ygn0Yup1ETtro8C0UMfT8g0EgETgIfoOy5G9LKKPpIu9cR9kurusca7C0VCP4VNs35ZFjkv3cRKJK2q1rEMLMvXM7iGXDAG+FeyUisjF5B9Fb4bODNC0q75chBBihZZwtqrpxflB91oPJmUXk/wGNrdGMX9PukD0zN6XokXjNxBEHK/EPWaFF89xUE7lGZXVag8AZPVVMKzrGCcZwNOvviAIunTHcVVyEBkRIwcjeBl8I11020bHNcqZJJiUnDNFZM9kHwQZ9/AyE0IspjoXh/hQq79imUrkGFexlAxZ7LeWDq3JVA+26MwU9duVEEKMaFFnS4jStA5ZRL3ydMVNJCrHruLKNJBI7gM4xdeJLIIL8r0gemU18Mzg6eEK8oFujdSFxbpajGHZnryDyBNVyqcNdKxbrlFM9iF/hIOqHw2il5pl6mzfLplswab54KhdCSFE/Dai2/T0e4HMEQqAIpVYHaVxixBiVakTibF7Kxj27iJ9b0CIIIybL6uJZwZPSzMQ9quMYLm/iCVPnXW1IuN3Me8bweb6XYxVoi1tomOtcuO1TraCyT54BjCMI9WPxzjJjKLPo1miRpk627dLJluwcT44ZldCCGmVyJYqTVR+TPxKKyx2Hj+u+eLY1LvbLZ9z+zkOpm9Ii7+ZsrpcQF/5yU3DuoRzq9OFQpSwdRxXAOjF1IIsutU2Oq5RTgvF5n8DrLQrnhtWbO5+WPUUqrKMBx7I6s9v4FZAtmerUR3WI5MWTunMEhp2tSIXIYRo0PRXPwx1jSCakfbvCCH7q1iShfGHAoeYP2yVCE4vpl6/wbXEiCxdoX5HTy8uBUdxkMkiGFBv/jUqqyI1JztX2AAs3GEb1SXszTr45lhVYTMiDHWgcLDbRMc1yynpuT6JYfHJO3MpKSt96MXU62cIik/IDXV1YyIxiR3d1xgI8wvlPXPeI9w5XMFwIzpsWCYlzurMAB27WpeLEEKq+ejt27ffffvJx27L4QpDXd0AgFyp6LIkNpGaw9DqgPIil5rDUABNTT92nF4JIYSQOihfD1sjjUjsQeOdWulkHJCn3QghhBDSVOhsdRTqz/Ps45Xq8XhCCCGENBemEcF0l91Qr4QQQoh0PTwn/+Osctb77xTUKyGEEMI0IiGEEEKIo5wDzm66h+kuZ6BeCSGEED6NSAghhBDSFOhsEUIIIYQ4CJ0tQgghhBAHobNFCCGEEOIgdLZcoLDul31nbR/LXX5s53WLEMc4xfblbiynjM80QzrcjSHZB5kJIYSQpjtbhXW/7APU5o+1I4V1v8aFdx9fRYBr13vFv9Vvfe9QFB/7bdy50datc+XqJR0293HkZstFCCGkeTTR2drHclc3HuA+5n1WjnUYqV0kfJO45JF+6un34iCxZ3hBblvyG7gViCOYLCJXKiJXegasGjsgncBYrIic/MPghBBCzhxNdLauYqlUxNPZCxaPNZdydE34J0/vCekm6dgc0pVSYipwfa5S7tblbkxEssDWTUW0Lp2MA4Me5cVX4wPSncco+ioO5lUsKRwQe3Rb23ZSG1rlpHb0y2rLp486rVgto5FchBBC2p1zbgvQUuQ38CDiRay0hzHFgVNsXx5BdPAZcq+FjzoX1v2Y6JpDrPRYPDeLaMSLWKlYKVtY92Pim/vIxa5W6vnwDhgOqp3KC+jzZXGSB+BB5+Hx45pvEVGvHzjcw5SijzbptqbtyvRi6nURlzRsAgCJwEPMHxaR8wgOUvjRPqbEc9JhDfkub2DHasSqloyachFCCOkUuEG+ijheqfcT5ffwMhNCTHYh7Jm9jyAO8UEWAQkmH9e40Jc5xkkG8PT3qn7vxflBIP++UyMagqMTm84i6lVFjmzTLaBpO5MEk5ITOBYIAe/yQpozv4HNrVHM31PJV3cksn4ZCSGEtCd0tuR4ZvD0cAX5QLcynZM/wkHVybJoFDHFWEzYs7WzBkS9osNll25r2c4Wyk5i+d9NJOqpxlEZCSGEtCp0ttR4ZvBU3MTtiYwIT815BjBcdeIxTjLyfUjELD2zG5ivpE1t1K2W7WwhhFipvLm//E+dDnVbRkIIIa0Kna2aXEBf+clIjx/XfHGEFRudH1Y9VahJOR0lq7M6XSjs5apOL3YGyveKAUg9QbTsTNmmWzky21kqp4Eo36btUSgNGa3IRQghpG1o+qsfhrpGEM0AB5ERWSpF71gTUbwLStgUvTQOCHuOniEoPi021NWNicSk4QbpnuuTGM4sYqLSF2Fv1sE3x6ozOztK1jO7gWuJEUm3gUPMVzbK26TbmrYzKGdIL6Zev1HK32Xu3VlV6MhoXS5CCCHtwkdv37797ttPPnZbDlcY6uoGAORKxeY1mprD0OqA0plIzWEoANnTd+2NK3olhBBCWozy9ZBpxGaj8U6tdDIOTN/oCEeLEEIIIUrobDUd9ed59vFK9WoBQgghhHQOTCOC6S67oV4JIYQQ6Xp4Tv7HWeWs998pqFdCCCGEaURCCCGEEEf5/wHw/AN5WZVLOQAAAABJRU5ErkJggg==)"
      ]
    }
  ]
}