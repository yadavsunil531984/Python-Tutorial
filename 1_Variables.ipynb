{
  "nbformat": 4,
  "nbformat_minor": 0,
  "metadata": {
    "colab": {
      "name": "1. Variables.ipynb",
      "provenance": [],
      "collapsed_sections": []
    },
    "kernelspec": {
      "name": "python3",
      "display_name": "Python 3"
    },
    "language_info": {
      "name": "python"
    }
  },
  "cells": [
    {
      "cell_type": "markdown",
      "metadata": {
        "id": "75BtTILJlVb0"
      },
      "source": [
        "# **Python as Calculator**"
      ]
    },
    {
      "cell_type": "markdown",
      "metadata": {
        "id": "WS35vVxw59zO"
      },
      "source": [
        "####**1. Addition**"
      ]
    },
    {
      "cell_type": "code",
      "metadata": {
        "id": "pogdfZBg46mH",
        "colab": {
          "base_uri": "https://localhost:8080/"
        },
        "outputId": "fb12f1dd-def1-49f2-dc29-174c1f514429"
      },
      "source": [
        "2+3"
      ],
      "execution_count": null,
      "outputs": [
        {
          "output_type": "execute_result",
          "data": {
            "text/plain": [
              "5"
            ]
          },
          "metadata": {},
          "execution_count": 18
        }
      ]
    },
    {
      "cell_type": "markdown",
      "metadata": {
        "id": "HcWaW9jy6Bim"
      },
      "source": [
        "####**2.Subtraction**"
      ]
    },
    {
      "cell_type": "code",
      "metadata": {
        "id": "LhUtcXYY49Xg",
        "colab": {
          "base_uri": "https://localhost:8080/"
        },
        "outputId": "5528bb5d-ac7d-4bce-de45-57c92d9d8089"
      },
      "source": [
        "5-2"
      ],
      "execution_count": null,
      "outputs": [
        {
          "output_type": "execute_result",
          "data": {
            "text/plain": [
              "3"
            ]
          },
          "metadata": {},
          "execution_count": 19
        }
      ]
    },
    {
      "cell_type": "markdown",
      "metadata": {
        "id": "7wIjfOJR6KXa"
      },
      "source": [
        "####**3.Multiplication**"
      ]
    },
    {
      "cell_type": "code",
      "metadata": {
        "id": "pGJBkm2B4_V3",
        "colab": {
          "base_uri": "https://localhost:8080/"
        },
        "outputId": "6276ff27-e6e7-4510-cfd7-cf44028ee288"
      },
      "source": [
        "5*2"
      ],
      "execution_count": null,
      "outputs": [
        {
          "output_type": "execute_result",
          "data": {
            "text/plain": [
              "10"
            ]
          },
          "metadata": {},
          "execution_count": 20
        }
      ]
    },
    {
      "cell_type": "markdown",
      "metadata": {
        "id": "m2WwMuAP672o"
      },
      "source": [
        "####**4.Division**"
      ]
    },
    {
      "cell_type": "code",
      "metadata": {
        "id": "PKLsoi705EXD",
        "colab": {
          "base_uri": "https://localhost:8080/"
        },
        "outputId": "8f69fc84-8d33-4034-85a7-b4a1b348c1da"
      },
      "source": [
        "5/2"
      ],
      "execution_count": null,
      "outputs": [
        {
          "output_type": "execute_result",
          "data": {
            "text/plain": [
              "2.5"
            ]
          },
          "metadata": {},
          "execution_count": 21
        }
      ]
    },
    {
      "cell_type": "code",
      "metadata": {
        "colab": {
          "base_uri": "https://localhost:8080/"
        },
        "id": "uofFDN79Q5t_",
        "outputId": "59720598-4908-4cd7-b474-026a8fa52589"
      },
      "source": [
        "30/2"
      ],
      "execution_count": null,
      "outputs": [
        {
          "output_type": "execute_result",
          "data": {
            "text/plain": [
              "15.0"
            ]
          },
          "metadata": {},
          "execution_count": 22
        }
      ]
    },
    {
      "cell_type": "markdown",
      "metadata": {
        "id": "CKN1p5w77QGz"
      },
      "source": [
        "####**5.Power of Number**"
      ]
    },
    {
      "cell_type": "code",
      "metadata": {
        "id": "vxGluTtz5Hdf",
        "colab": {
          "base_uri": "https://localhost:8080/"
        },
        "outputId": "d3da72cc-f1c4-4dca-f598-b302c02386f3"
      },
      "source": [
        "5**2"
      ],
      "execution_count": null,
      "outputs": [
        {
          "output_type": "execute_result",
          "data": {
            "text/plain": [
              "25"
            ]
          },
          "metadata": {},
          "execution_count": 23
        }
      ]
    },
    {
      "cell_type": "code",
      "metadata": {
        "id": "a6YR6AtN5MaH",
        "colab": {
          "base_uri": "https://localhost:8080/"
        },
        "outputId": "9919d950-a54e-4efb-a390-ebd9a8a343b4"
      },
      "source": [
        "5**3"
      ],
      "execution_count": null,
      "outputs": [
        {
          "output_type": "execute_result",
          "data": {
            "text/plain": [
              "125"
            ]
          },
          "metadata": {},
          "execution_count": 24
        }
      ]
    },
    {
      "cell_type": "code",
      "metadata": {
        "id": "d0drSoIW5dIq",
        "colab": {
          "base_uri": "https://localhost:8080/"
        },
        "outputId": "7f0fcf73-9772-41ab-b6a1-1813360fc0b8"
      },
      "source": [
        "5**4"
      ],
      "execution_count": null,
      "outputs": [
        {
          "output_type": "execute_result",
          "data": {
            "text/plain": [
              "625"
            ]
          },
          "metadata": {},
          "execution_count": 25
        }
      ]
    },
    {
      "cell_type": "markdown",
      "metadata": {
        "id": "uh9js2tw7HDx"
      },
      "source": [
        "####**6.Modulus of Number**"
      ]
    },
    {
      "cell_type": "code",
      "metadata": {
        "id": "qTKngh5i50_d",
        "colab": {
          "base_uri": "https://localhost:8080/"
        },
        "outputId": "a02babc4-39f7-49ca-91ba-1b83c310c43e"
      },
      "source": [
        "15%2"
      ],
      "execution_count": null,
      "outputs": [
        {
          "output_type": "execute_result",
          "data": {
            "text/plain": [
              "1"
            ]
          },
          "metadata": {},
          "execution_count": 26
        }
      ]
    },
    {
      "cell_type": "code",
      "metadata": {
        "id": "BFTE2BiV549v",
        "colab": {
          "base_uri": "https://localhost:8080/"
        },
        "outputId": "640e5733-373d-455e-ff31-a2da1ae6e0a0"
      },
      "source": [
        "18%4"
      ],
      "execution_count": null,
      "outputs": [
        {
          "output_type": "execute_result",
          "data": {
            "text/plain": [
              "2"
            ]
          },
          "metadata": {},
          "execution_count": 27
        }
      ]
    },
    {
      "cell_type": "markdown",
      "metadata": {
        "id": "0sSnyZZy7c5Q"
      },
      "source": [
        "# **Print Statement in Python**"
      ]
    },
    {
      "cell_type": "code",
      "metadata": {
        "id": "MpDro7IQ7oVH",
        "colab": {
          "base_uri": "https://localhost:8080/"
        },
        "outputId": "e8dd0b2d-0d6e-433f-ee28-b2c059c069b9"
      },
      "source": [
        "print(\"Hello World !\")"
      ],
      "execution_count": null,
      "outputs": [
        {
          "output_type": "stream",
          "name": "stdout",
          "text": [
            "Hello World !\n"
          ]
        }
      ]
    },
    {
      "cell_type": "code",
      "metadata": {
        "id": "NMU8jBsE73Jn",
        "colab": {
          "base_uri": "https://localhost:8080/"
        },
        "outputId": "8f2e7edb-906a-4317-8e7f-7ced66bd0c5b"
      },
      "source": [
        "print('Hello Word !')"
      ],
      "execution_count": null,
      "outputs": [
        {
          "output_type": "stream",
          "name": "stdout",
          "text": [
            "Hello Word !\n"
          ]
        }
      ]
    },
    {
      "cell_type": "code",
      "metadata": {
        "id": "ixu1t-9B8B4c",
        "colab": {
          "base_uri": "https://localhost:8080/"
        },
        "outputId": "0af2e56d-b37e-40b9-8e37-663d97a580bf"
      },
      "source": [
        "print(5)"
      ],
      "execution_count": null,
      "outputs": [
        {
          "output_type": "stream",
          "name": "stdout",
          "text": [
            "5\n"
          ]
        }
      ]
    },
    {
      "cell_type": "markdown",
      "metadata": {
        "id": "z5Il4Vhc4uGC"
      },
      "source": [
        "# **Python Variables**"
      ]
    },
    {
      "cell_type": "markdown",
      "metadata": {
        "id": "TLfnm1K6lang"
      },
      "source": [
        "## Variables\n",
        "Variables are containers for storing data values."
      ]
    },
    {
      "cell_type": "markdown",
      "metadata": {
        "id": "FIT3mw0qlh1J"
      },
      "source": [
        "## Creating Variables\n",
        "* Python has no command for declaring a variable.\n",
        "* A variable is created the moment you first assign a value to it.\n",
        "* Variables do not need to be declared with any particular type, and can even change type after they have been set.\n"
      ]
    },
    {
      "cell_type": "code",
      "metadata": {
        "id": "c9eqaz9Klvjj",
        "colab": {
          "base_uri": "https://localhost:8080/"
        },
        "outputId": "4a8fa161-34fb-444c-a8dc-e2823beeca97"
      },
      "source": [
        "x = 5\n",
        "y = \"John\"\n",
        "print(x)\n",
        "print(y)"
      ],
      "execution_count": null,
      "outputs": [
        {
          "output_type": "stream",
          "name": "stdout",
          "text": [
            "5\n",
            "John\n"
          ]
        }
      ]
    },
    {
      "cell_type": "markdown",
      "metadata": {
        "id": "5BVHHPTKmIoG"
      },
      "source": [
        "## Casting\n",
        "If you want to specify the data type of a variable, this can be done with casting."
      ]
    },
    {
      "cell_type": "code",
      "metadata": {
        "id": "fJ-apzqumOX4",
        "colab": {
          "base_uri": "https://localhost:8080/"
        },
        "outputId": "4ca497e9-da89-4943-83c4-7fb03427982b"
      },
      "source": [
        "x = str(3)    # x will be '3'\n",
        "y = int(3)    # y will be 3\n",
        "z = float(3)  # z will be 3.0\n",
        "\n",
        "print(type(x))\n",
        "print(type(y))\n",
        "print(type(z))\n",
        "\n",
        "print(x)\n",
        "print(y)\n",
        "print(z)"
      ],
      "execution_count": null,
      "outputs": [
        {
          "output_type": "stream",
          "name": "stdout",
          "text": [
            "<class 'str'>\n",
            "<class 'int'>\n",
            "<class 'float'>\n",
            "3\n",
            "3\n",
            "3.0\n"
          ]
        }
      ]
    },
    {
      "cell_type": "markdown",
      "metadata": {
        "id": "WV5FfG0nnGOw"
      },
      "source": [
        "## Get the Type\n",
        "* You can get the data type of a variable with the type() function."
      ]
    },
    {
      "cell_type": "code",
      "metadata": {
        "id": "oFf7DivtnFK-",
        "colab": {
          "base_uri": "https://localhost:8080/"
        },
        "outputId": "8b9244a8-0143-4e6c-e802-e64331da3c8d"
      },
      "source": [
        "x = 5\n",
        "y = \"John\"\n",
        "print(type(x))\n",
        "print(type(y))"
      ],
      "execution_count": null,
      "outputs": [
        {
          "output_type": "stream",
          "name": "stdout",
          "text": [
            "<class 'int'>\n",
            "<class 'str'>\n"
          ]
        }
      ]
    },
    {
      "cell_type": "markdown",
      "metadata": {
        "id": "JxTdE35EnTe8"
      },
      "source": [
        "## Single or Double Quotes?\n",
        "* String variables can be declared either by using single or double quotes:"
      ]
    },
    {
      "cell_type": "code",
      "metadata": {
        "id": "XNui9wNsnW_r",
        "colab": {
          "base_uri": "https://localhost:8080/"
        },
        "outputId": "a56dd6a7-3d6f-46b2-ab7e-812966dcfddb"
      },
      "source": [
        "x = \"John\"\n",
        "print(x)\n",
        "y = 'John'\n",
        "print(y)\n",
        "# both the statements are same"
      ],
      "execution_count": null,
      "outputs": [
        {
          "output_type": "stream",
          "name": "stdout",
          "text": [
            "John\n",
            "John\n"
          ]
        }
      ]
    },
    {
      "cell_type": "markdown",
      "metadata": {
        "id": "scKeRzFfnktf"
      },
      "source": [
        "## Case-Sensitive\n",
        "* Variable names are case-sensitive."
      ]
    },
    {
      "cell_type": "code",
      "metadata": {
        "id": "0lYL53LUnn33",
        "colab": {
          "base_uri": "https://localhost:8080/"
        },
        "outputId": "97612ad2-2016-49a6-8d87-d3eeaa5a91ce"
      },
      "source": [
        "a = 4\n",
        "A = \"Sun\"\n",
        "print(a)\n",
        "print(A)\n",
        "# A will not overwrite a"
      ],
      "execution_count": null,
      "outputs": [
        {
          "output_type": "stream",
          "name": "stdout",
          "text": [
            "4\n",
            "Sun\n"
          ]
        }
      ]
    },
    {
      "cell_type": "markdown",
      "metadata": {
        "id": "Axd90ZTkn11P"
      },
      "source": [
        "# **Python - Variable Names**"
      ]
    },
    {
      "cell_type": "markdown",
      "metadata": {
        "id": "dgJ4vK5Nn7d7"
      },
      "source": [
        "## Variable Names\n",
        "* A variable can have a short name (like x and y) or a more descriptive name (age, carname, total_volume). "
      ]
    },
    {
      "cell_type": "markdown",
      "metadata": {
        "id": "oJyoo1sToLJq"
      },
      "source": [
        "## Rules for Python variables:"
      ]
    },
    {
      "cell_type": "markdown",
      "metadata": {
        "id": "AItVVpxY23Hs"
      },
      "source": [
        "* A variable name must start with a letter or the underscore character\n",
        "* A variable name cannot start with a number\n",
        "* A variable name can only contain alpha-numeric characters and underscores (A-z, 0-9, and _ )\n",
        "* Variable names are case-sensitive (age, Age and AGE are three different variables)"
      ]
    },
    {
      "cell_type": "code",
      "metadata": {
        "id": "aGsCOCc_n40v"
      },
      "source": [
        "# Legal variable names:\n",
        "myvar = \"Sun\"\n",
        "my_var = \"Sun\"\n",
        "_my_var = \"Sun\"\n",
        "myVar = \"Sun\"\n",
        "MYVAR = \"Sun\"\n",
        "myvar2 = \"Sun\""
      ],
      "execution_count": null,
      "outputs": []
    },
    {
      "cell_type": "code",
      "metadata": {
        "id": "aoo0O5blovUl",
        "colab": {
          "base_uri": "https://localhost:8080/",
          "height": 129
        },
        "outputId": "dcc12c3b-e029-45d2-ab4a-9a2372376830"
      },
      "source": [
        "# Illegal variable names:\n",
        "2myvar = \"John\"\n",
        "my-var = \"John\"\n",
        "my var = \"John"
      ],
      "execution_count": null,
      "outputs": [
        {
          "output_type": "error",
          "ename": "SyntaxError",
          "evalue": "ignored",
          "traceback": [
            "\u001b[0;36m  File \u001b[0;32m\"<ipython-input-44-c95815a543b8>\"\u001b[0;36m, line \u001b[0;32m2\u001b[0m\n\u001b[0;31m    2myvar = \"John\"\u001b[0m\n\u001b[0m         ^\u001b[0m\n\u001b[0;31mSyntaxError\u001b[0m\u001b[0;31m:\u001b[0m invalid syntax\n"
          ]
        }
      ]
    },
    {
      "cell_type": "markdown",
      "metadata": {
        "id": "gztvXQS5pBrV"
      },
      "source": [
        "# **Multi Words Variable Names**"
      ]
    },
    {
      "cell_type": "markdown",
      "metadata": {
        "id": "Kv3BK6xUpHhM"
      },
      "source": [
        "* Variable names with more than one word can be difficult to read.\n",
        "* There are several techniques you can use to make them more readable:"
      ]
    },
    {
      "cell_type": "markdown",
      "metadata": {
        "id": "vh41Fo3MpOVr"
      },
      "source": [
        "## 1.Camel Case\n",
        "* Each word, except the first, starts with a capital letter:"
      ]
    },
    {
      "cell_type": "code",
      "metadata": {
        "id": "C5IWfSJJpNbc"
      },
      "source": [
        "myVariableName = \"John\""
      ],
      "execution_count": null,
      "outputs": []
    },
    {
      "cell_type": "markdown",
      "metadata": {
        "id": "iXZ1znknpaUI"
      },
      "source": [
        "## 2.Pascal Case\n",
        "* Each word starts with a capital letter:"
      ]
    },
    {
      "cell_type": "code",
      "metadata": {
        "id": "lGuK10J6pfVn"
      },
      "source": [
        "MyVariableName = \"John\""
      ],
      "execution_count": null,
      "outputs": []
    },
    {
      "cell_type": "markdown",
      "metadata": {
        "id": "giZgaK2EpkTu"
      },
      "source": [
        "## 3.Snake Case\n",
        "* Each word is separated by an underscore character:"
      ]
    },
    {
      "cell_type": "code",
      "metadata": {
        "id": "nFLjumLJppTk"
      },
      "source": [
        "my_variable_name = \"John\""
      ],
      "execution_count": null,
      "outputs": []
    },
    {
      "cell_type": "markdown",
      "metadata": {
        "id": "UrF73K7-p3Ge"
      },
      "source": [
        "# **Python Variables - Assign Multiple Values**"
      ]
    },
    {
      "cell_type": "markdown",
      "metadata": {
        "id": "2XaN0RAMp-WH"
      },
      "source": [
        "## Many Values to Multiple Variables\n",
        "* Python allows you to assign values to multiple variables in one line:"
      ]
    },
    {
      "cell_type": "code",
      "metadata": {
        "colab": {
          "base_uri": "https://localhost:8080/"
        },
        "id": "9aopPhHPp7Gn",
        "outputId": "d54995da-b0e8-4e38-ba30-6ae1e194dbc5"
      },
      "source": [
        "x, y, z = \"Leap\", \"March\", \"Mon\"\n",
        "print(x)\n",
        "print(y)\n",
        "print(z)"
      ],
      "execution_count": null,
      "outputs": [
        {
          "output_type": "stream",
          "name": "stdout",
          "text": [
            "Leap\n",
            "March\n",
            "Mon\n"
          ]
        }
      ]
    },
    {
      "cell_type": "markdown",
      "metadata": {
        "id": "urXdOejVqhKJ"
      },
      "source": [
        "## One Value to Multiple Variables\n",
        "* And you can assign the same value to multiple variables in one line:"
      ]
    },
    {
      "cell_type": "code",
      "metadata": {
        "colab": {
          "base_uri": "https://localhost:8080/"
        },
        "id": "6CYLlB8TqkMt",
        "outputId": "526a8095-baac-41a0-a62d-506305d9dad7"
      },
      "source": [
        "x = y = z = \"Mon\"\n",
        "print(x)\n",
        "print(y)\n",
        "print(z)"
      ],
      "execution_count": null,
      "outputs": [
        {
          "output_type": "stream",
          "name": "stdout",
          "text": [
            "Mon\n",
            "Mon\n",
            "Mon\n"
          ]
        }
      ]
    },
    {
      "cell_type": "markdown",
      "metadata": {
        "id": "xMSf_zXIqtPs"
      },
      "source": [
        "## Unpack a Collection\n",
        "* If you have a collection of values in a list, tuple etc. Python allows you extract the values into variables. This is called unpacking."
      ]
    },
    {
      "cell_type": "code",
      "metadata": {
        "id": "KN0q3bNZqwJs",
        "colab": {
          "base_uri": "https://localhost:8080/"
        },
        "outputId": "d79fd86b-9e4d-4ad1-b9de-8f86ba18fc39"
      },
      "source": [
        "# Unpack a list:\n",
        "days = [\"Mon\", \"Tue\", \"Wed\"]\n",
        "x, y, z = days\n",
        "print(x)\n",
        "print(y)\n",
        "print(z)"
      ],
      "execution_count": null,
      "outputs": [
        {
          "output_type": "stream",
          "name": "stdout",
          "text": [
            "Mon\n",
            "Tue\n",
            "Wed\n"
          ]
        }
      ]
    },
    {
      "cell_type": "code",
      "metadata": {
        "colab": {
          "base_uri": "https://localhost:8080/",
          "height": 231
        },
        "id": "Qg8M3-m7YDwL",
        "outputId": "23cadfb1-bd26-4017-ea80-78a77556e1a8"
      },
      "source": [
        "# Unpack a list:\n",
        "days = [\"Mon\", \"Tue\", \"Wed\",\"Thur\"]\n",
        "x, y, z = days\n",
        "print(x)\n",
        "print(y)\n",
        "print(z)"
      ],
      "execution_count": null,
      "outputs": [
        {
          "output_type": "error",
          "ename": "ValueError",
          "evalue": "ignored",
          "traceback": [
            "\u001b[0;31m---------------------------------------------------------------------------\u001b[0m",
            "\u001b[0;31mValueError\u001b[0m                                Traceback (most recent call last)",
            "\u001b[0;32m<ipython-input-48-963a857154a0>\u001b[0m in \u001b[0;36m<module>\u001b[0;34m()\u001b[0m\n\u001b[1;32m      1\u001b[0m \u001b[0;31m# Unpack a list:\u001b[0m\u001b[0;34m\u001b[0m\u001b[0;34m\u001b[0m\u001b[0;34m\u001b[0m\u001b[0m\n\u001b[1;32m      2\u001b[0m \u001b[0mdays\u001b[0m \u001b[0;34m=\u001b[0m \u001b[0;34m[\u001b[0m\u001b[0;34m\"Mon\"\u001b[0m\u001b[0;34m,\u001b[0m \u001b[0;34m\"Tue\"\u001b[0m\u001b[0;34m,\u001b[0m \u001b[0;34m\"Wed\"\u001b[0m\u001b[0;34m,\u001b[0m\u001b[0;34m\"Thur\"\u001b[0m\u001b[0;34m]\u001b[0m\u001b[0;34m\u001b[0m\u001b[0;34m\u001b[0m\u001b[0m\n\u001b[0;32m----> 3\u001b[0;31m \u001b[0mx\u001b[0m\u001b[0;34m,\u001b[0m \u001b[0my\u001b[0m\u001b[0;34m,\u001b[0m \u001b[0mz\u001b[0m \u001b[0;34m=\u001b[0m \u001b[0mdays\u001b[0m\u001b[0;34m\u001b[0m\u001b[0;34m\u001b[0m\u001b[0m\n\u001b[0m\u001b[1;32m      4\u001b[0m \u001b[0mprint\u001b[0m\u001b[0;34m(\u001b[0m\u001b[0mx\u001b[0m\u001b[0;34m)\u001b[0m\u001b[0;34m\u001b[0m\u001b[0;34m\u001b[0m\u001b[0m\n\u001b[1;32m      5\u001b[0m \u001b[0mprint\u001b[0m\u001b[0;34m(\u001b[0m\u001b[0my\u001b[0m\u001b[0;34m)\u001b[0m\u001b[0;34m\u001b[0m\u001b[0;34m\u001b[0m\u001b[0m\n",
            "\u001b[0;31mValueError\u001b[0m: too many values to unpack (expected 3)"
          ]
        }
      ]
    },
    {
      "cell_type": "markdown",
      "metadata": {
        "id": "bzvYluq-rDWo"
      },
      "source": [
        "# **Python - Output Variables**"
      ]
    },
    {
      "cell_type": "markdown",
      "metadata": {
        "id": "SPjlisXsrL8u"
      },
      "source": [
        "## Output Variables\n",
        "* The Python print statement is often used to output variables.\n",
        "* To combine both text and a variable, Python uses the + character:"
      ]
    },
    {
      "cell_type": "code",
      "metadata": {
        "id": "bd2TRhBzrbyZ",
        "colab": {
          "base_uri": "https://localhost:8080/"
        },
        "outputId": "64799325-1f81-4b19-9a14-d7d44f7c110a"
      },
      "source": [
        "x = \"Programming Language\"\n",
        "print(\"Python is \" + x)"
      ],
      "execution_count": null,
      "outputs": [
        {
          "output_type": "stream",
          "name": "stdout",
          "text": [
            "Python is Programming Language\n"
          ]
        }
      ]
    },
    {
      "cell_type": "markdown",
      "metadata": {
        "id": "Xf72MhZsrqtz"
      },
      "source": [
        "You can also use the + character to add a variable to another variable:"
      ]
    },
    {
      "cell_type": "code",
      "metadata": {
        "id": "abamkNOurqGO",
        "colab": {
          "base_uri": "https://localhost:8080/"
        },
        "outputId": "e2bdcf6a-85c3-41d2-c7db-5e79aaa78bf4"
      },
      "source": [
        "x = \"Python is \"\n",
        "y = \"Programming Language\"\n",
        "z =  x + y\n",
        "print(z)"
      ],
      "execution_count": null,
      "outputs": [
        {
          "output_type": "stream",
          "name": "stdout",
          "text": [
            "Python is Programming Language\n"
          ]
        }
      ]
    },
    {
      "cell_type": "markdown",
      "metadata": {
        "id": "NrH--lIzryKP"
      },
      "source": [
        "For numbers, the + character works as a mathematical operator:"
      ]
    },
    {
      "cell_type": "code",
      "metadata": {
        "id": "Kip2EbDIrzC_",
        "colab": {
          "base_uri": "https://localhost:8080/"
        },
        "outputId": "8160a0bb-7537-4717-e083-bb07527107f4"
      },
      "source": [
        "x = 5\n",
        "y = 10\n",
        "print(x + y)"
      ],
      "execution_count": null,
      "outputs": [
        {
          "output_type": "stream",
          "name": "stdout",
          "text": [
            "15\n"
          ]
        }
      ]
    },
    {
      "cell_type": "code",
      "metadata": {
        "colab": {
          "base_uri": "https://localhost:8080/"
        },
        "id": "RDH8smLTY3ZC",
        "outputId": "3ac3cbee-9b29-4c47-af03-f8584187fa22"
      },
      "source": [
        "x = '5'\n",
        "y = '10'\n",
        "print(x + y)"
      ],
      "execution_count": null,
      "outputs": [
        {
          "output_type": "stream",
          "name": "stdout",
          "text": [
            "510\n"
          ]
        }
      ]
    },
    {
      "cell_type": "markdown",
      "metadata": {
        "id": "ypfO7o6Ar4Bk"
      },
      "source": [
        "If you try to combine a string and a number, Python will give you an error:"
      ]
    },
    {
      "cell_type": "code",
      "metadata": {
        "id": "tIlzf0NHr7Vz",
        "colab": {
          "base_uri": "https://localhost:8080/",
          "height": 197
        },
        "outputId": "08a1d2c6-e842-4da8-be4d-99f17dced038"
      },
      "source": [
        "x = 5\n",
        "y = \"John\"\n",
        "print(x + y)"
      ],
      "execution_count": null,
      "outputs": [
        {
          "output_type": "error",
          "ename": "TypeError",
          "evalue": "ignored",
          "traceback": [
            "\u001b[0;31m---------------------------------------------------------------------------\u001b[0m",
            "\u001b[0;31mTypeError\u001b[0m                                 Traceback (most recent call last)",
            "\u001b[0;32m<ipython-input-53-00c66e4310ff>\u001b[0m in \u001b[0;36m<module>\u001b[0;34m()\u001b[0m\n\u001b[1;32m      1\u001b[0m \u001b[0mx\u001b[0m \u001b[0;34m=\u001b[0m \u001b[0;36m5\u001b[0m\u001b[0;34m\u001b[0m\u001b[0;34m\u001b[0m\u001b[0m\n\u001b[1;32m      2\u001b[0m \u001b[0my\u001b[0m \u001b[0;34m=\u001b[0m \u001b[0;34m\"John\"\u001b[0m\u001b[0;34m\u001b[0m\u001b[0;34m\u001b[0m\u001b[0m\n\u001b[0;32m----> 3\u001b[0;31m \u001b[0mprint\u001b[0m\u001b[0;34m(\u001b[0m\u001b[0mx\u001b[0m \u001b[0;34m+\u001b[0m \u001b[0my\u001b[0m\u001b[0;34m)\u001b[0m\u001b[0;34m\u001b[0m\u001b[0;34m\u001b[0m\u001b[0m\n\u001b[0m",
            "\u001b[0;31mTypeError\u001b[0m: unsupported operand type(s) for +: 'int' and 'str'"
          ]
        }
      ]
    },
    {
      "cell_type": "markdown",
      "metadata": {
        "id": "XT8BLTccsxWo"
      },
      "source": [
        "# **Python - Global Variables**"
      ]
    },
    {
      "cell_type": "markdown",
      "metadata": {
        "id": "lyIj2T-Ns5N-"
      },
      "source": [
        "## Global Variables\n",
        "* Variables that are created outside of a function (as in all of the examples above) are known as global variables.\n",
        "* Global variables can be used by everyone, both inside of functions and outside."
      ]
    },
    {
      "cell_type": "code",
      "metadata": {
        "id": "g7YYvlO2tD5z",
        "colab": {
          "base_uri": "https://localhost:8080/"
        },
        "outputId": "d950a5fc-4b9a-4059-d7a1-b1c778c6d19f"
      },
      "source": [
        "# Create a variable outside of a function, and use it inside the function\n",
        "\n",
        "x = 2\n",
        "\n",
        "def myfun():\n",
        "  print(\"x : \", x)\n",
        "\n",
        "myfun()"
      ],
      "execution_count": null,
      "outputs": [
        {
          "output_type": "stream",
          "name": "stdout",
          "text": [
            "x :  2\n"
          ]
        }
      ]
    },
    {
      "cell_type": "markdown",
      "metadata": {
        "id": "HqtYsDH5tlVs"
      },
      "source": [
        "If you create a variable with the same name inside a function, this variable will be local, and can only be used inside the function. The global variable with the same name will remain as it was, global and with the original value."
      ]
    },
    {
      "cell_type": "code",
      "metadata": {
        "id": "rbh3AC7Ktmqv",
        "colab": {
          "base_uri": "https://localhost:8080/"
        },
        "outputId": "984c194e-8613-4600-8682-1e2a3874aee5"
      },
      "source": [
        "# Create a variable inside a function, with the same name as the global variable\n",
        "x = 2\n",
        "\n",
        "def myfun():\n",
        "  x = 3\n",
        "  print(\"x : \", x)\n",
        "\n",
        "myfun()\n",
        "\n",
        "print(\"x : \", x)"
      ],
      "execution_count": null,
      "outputs": [
        {
          "output_type": "stream",
          "name": "stdout",
          "text": [
            "x :  3\n",
            "x :  2\n"
          ]
        }
      ]
    },
    {
      "cell_type": "code",
      "metadata": {
        "id": "rqGF3Raa64tw",
        "colab": {
          "base_uri": "https://localhost:8080/"
        },
        "outputId": "f0eda2dc-69d3-4fb3-c331-5898ade0ff99"
      },
      "source": [
        "# Local variables can not be called outside the function\n",
        "\n",
        "def myfun():\n",
        "  x = 3\n",
        "  print(\"x : \", x)\n",
        "\n",
        "myfun()\n",
        "\n",
        "print(\"x : \", x)"
      ],
      "execution_count": null,
      "outputs": [
        {
          "output_type": "stream",
          "name": "stdout",
          "text": [
            "x :  3\n",
            "x :  2\n"
          ]
        }
      ]
    },
    {
      "cell_type": "code",
      "metadata": {
        "colab": {
          "base_uri": "https://localhost:8080/",
          "height": 214
        },
        "id": "PgfbJB_KbWHC",
        "outputId": "dadf7b5e-612e-41bb-cf7a-5eecd5071dfc"
      },
      "source": [
        "# Local variables can not be called outside the function\n",
        "\n",
        "def myfun():\n",
        "  K = 3\n",
        "  print(\"K : \", K)\n",
        "\n",
        "myfun()\n",
        "\n",
        "print(\"K : \", K)"
      ],
      "execution_count": null,
      "outputs": [
        {
          "output_type": "stream",
          "name": "stdout",
          "text": [
            "K :  3\n"
          ]
        },
        {
          "output_type": "error",
          "ename": "NameError",
          "evalue": "ignored",
          "traceback": [
            "\u001b[0;31m---------------------------------------------------------------------------\u001b[0m",
            "\u001b[0;31mNameError\u001b[0m                                 Traceback (most recent call last)",
            "\u001b[0;32m<ipython-input-61-ac9717ed3c5d>\u001b[0m in \u001b[0;36m<module>\u001b[0;34m()\u001b[0m\n\u001b[1;32m      7\u001b[0m \u001b[0mmyfun\u001b[0m\u001b[0;34m(\u001b[0m\u001b[0;34m)\u001b[0m\u001b[0;34m\u001b[0m\u001b[0;34m\u001b[0m\u001b[0m\n\u001b[1;32m      8\u001b[0m \u001b[0;34m\u001b[0m\u001b[0m\n\u001b[0;32m----> 9\u001b[0;31m \u001b[0mprint\u001b[0m\u001b[0;34m(\u001b[0m\u001b[0;34m\"K : \"\u001b[0m\u001b[0;34m,\u001b[0m \u001b[0mK\u001b[0m\u001b[0;34m)\u001b[0m\u001b[0;34m\u001b[0m\u001b[0;34m\u001b[0m\u001b[0m\n\u001b[0m",
            "\u001b[0;31mNameError\u001b[0m: name 'K' is not defined"
          ]
        }
      ]
    },
    {
      "cell_type": "markdown",
      "metadata": {
        "id": "UXSQrfX5vm1P"
      },
      "source": [
        "## The global Keyword\n",
        "* Normally, when you create a variable inside a function, that variable is local, and can only be used inside that function.\n",
        "* To create a global variable inside a function, you can use the global keyword."
      ]
    },
    {
      "cell_type": "code",
      "metadata": {
        "id": "GNONWt1MvsDF",
        "colab": {
          "base_uri": "https://localhost:8080/"
        },
        "outputId": "32f95045-4af4-4b94-98e2-ed6e08735ede"
      },
      "source": [
        "# If you use the global keyword, the variable belongs to the global scope:\n",
        "\n",
        "def myfun():\n",
        "  global x\n",
        "  x = 2\n",
        "  print(\"x is \", x)\n",
        "\n",
        "myfun()\n",
        "\n",
        "print(\"x is \", x)"
      ],
      "execution_count": null,
      "outputs": [
        {
          "output_type": "stream",
          "name": "stdout",
          "text": [
            "x is  2\n",
            "x is  2\n"
          ]
        }
      ]
    },
    {
      "cell_type": "markdown",
      "metadata": {
        "id": "pOEc8D_nwSdw"
      },
      "source": [
        "Also, use the global keyword if you want to change a global variable inside a function."
      ]
    },
    {
      "cell_type": "code",
      "metadata": {
        "id": "2eB9nYxWwTWZ",
        "colab": {
          "base_uri": "https://localhost:8080/"
        },
        "outputId": "70ffc7c7-960d-470a-f458-81b83240ad66"
      },
      "source": [
        "# To change the value of a global variable inside a function, refer to the variable by using the global keyword:\n",
        "x = 3\n",
        "\n",
        "def myfun():\n",
        "  global x\n",
        "  x = 2\n",
        "  print(\"x is:\", x)\n",
        "\n",
        "myfun()\n",
        "\n",
        "print(\"x is:\", x)"
      ],
      "execution_count": null,
      "outputs": [
        {
          "output_type": "stream",
          "name": "stdout",
          "text": [
            "x is: 2\n",
            "x is: 2\n"
          ]
        }
      ]
    }
  ]
}